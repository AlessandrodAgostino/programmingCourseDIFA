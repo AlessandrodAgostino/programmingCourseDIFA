{
 "cells": [
  {
   "cell_type": "markdown",
   "metadata": {
    "slideshow": {
     "slide_type": "slide"
    }
   },
   "source": [
    "# Precision, Accuracy and Speed for scientific computations"
   ]
  },
  {
   "cell_type": "markdown",
   "metadata": {
    "slideshow": {
     "slide_type": "slide"
    }
   },
   "source": [
    "### Floating point computation\n",
    "\n",
    "* what is \"numerical precision\"\n",
    "* how non-integer numbers behave in a computer\n",
    "* some tricks to not lose precision\n",
    "\n",
    "### Vectorization and computational speed\n",
    "\n",
    "* what is vectorization\n",
    "* the **numpy** library"
   ]
  },
  {
   "cell_type": "markdown",
   "metadata": {},
   "source": [
    "# Precision"
   ]
  },
  {
   "cell_type": "markdown",
   "metadata": {},
   "source": [
    "## Floating point numbers\n",
    "\n",
    "when we discuss numerical computation, you will see the non-integer numbers referred as **floating point numbers**.\n",
    "\n",
    "* what are they\n",
    "* how are they related with the numbers we manipulate normally?"
   ]
  },
  {
   "cell_type": "markdown",
   "metadata": {},
   "source": [
    "### Some rules to keep in mind\n",
    "\n",
    "* as soon as you start working on a computer, you have to forget about the idea of **continuous**\n",
    "* any number that a computer can manipulate and output is, by necessity, with **finite precision**, and only an approximation of a **real number** (as in, a member of the real group)"
   ]
  },
  {
   "cell_type": "markdown",
   "metadata": {},
   "source": [
    "numbers is a computer a represented with a finite numbers of **bits**.\n",
    "integers are simply the traditional integer numbers expressed in binary format, and can range from 8 bits (one byte) to 64 bits\n",
    "\n",
    "How would you represent a number with a non integer part?\n",
    "\n",
    "one could use a fiex part of your available bites to represent the integer part and another one to represent the floating point part, but this would severely limit the range of numbers that can be described.\n",
    "\n",
    "the other option is to use the scientic notation to represent them: this way you can get almost as big or small as needed!"
   ]
  },
  {
   "cell_type": "markdown",
   "metadata": {},
   "source": [
    "To represent the number we divide it in 3 components:\n",
    "\n",
    "* a field called Significant **S**\n",
    "* a field called exponent **e**\n",
    "* a bit for the sign\n",
    "\n",
    "so the number will represent the following:\n",
    "\n",
    "$n = (-1)^s \\cdot S \\cdot 2^e$\n"
   ]
  },
  {
   "cell_type": "markdown",
   "metadata": {},
   "source": [
    "## Precision and round off\n",
    "\n",
    "due to the limited nature of the floating point numbers, we will have problems representing some numbers:\n",
    "\n",
    "* irrational numbers  ($\\sqrt{2}$, $\\pi$)\n",
    "* several rational numbers\n",
    "\n",
    "the first one might not be a surprise, but the second one is quite surprising: the information contained in them is finite!\n",
    "\n",
    "the problem is that those numbers still requires an **infinite number of digits** to be written down.\n",
    "\n",
    "think of the fraction $2/3 = 0.(\\overline{6})$\n",
    "\n",
    "if one has to work with a finite number of digits, it would be represented as:\n",
    "$2/3 = 0.66666667$\n",
    "\n",
    "that is an approximation, and could lead to numerical imprecision, but it's the best we can do with finite space."
   ]
  },
  {
   "cell_type": "markdown",
   "metadata": {},
   "source": [
    "A common source of errors is that the \"simple\" fractions in base ten might not have a finite representation in base 2.\n",
    "\n",
    "for example, 0.1, is represented as $0.0(\\overline{0011})$"
   ]
  },
  {
   "cell_type": "code",
   "execution_count": 41,
   "metadata": {
    "nbpresent": {
     "id": "6ab53abb-7acd-4f5b-9d45-0e25d37d7f33"
    },
    "slideshow": {
     "slide_type": "slide"
    }
   },
   "outputs": [
    {
     "name": "stdout",
     "output_type": "stream",
     "text": [
      "0.100000 = 0.10000000000000000555111512312578\n",
      "0.10000000000000001 + 0.20000000000000001 = 0.30000000000000004\n",
      "0.1\n"
     ]
    }
   ],
   "source": [
    "print(\"{:f} = {:.32f}\".format(0.1, 0.1)) #scrittura del numero 0.1 con 32 cifre decimali\n",
    "print(\"{:.17f} + {:.17f} = {:.17f}\".format(0.1, 0.2, 0.1 + 0.2))\n",
    "\n",
    "print(0.1)"
   ]
  },
  {
   "cell_type": "markdown",
   "metadata": {},
   "source": [
    "therefore:\n",
    "\n",
    "    0.1 + 0.1 + 0.1 - 0.3\n",
    "    \n",
    "returns\n",
    "\n",
    "$5.5\\ldots \\cdot 10^{-17}$\n",
    "    \n",
    "instead of 0"
   ]
  },
  {
   "cell_type": "markdown",
   "metadata": {
    "nbpresent": {
     "id": "ff652ea7-3fb0-410b-9089-2559ed840838"
    },
    "slideshow": {
     "slide_type": "slide"
    }
   },
   "source": [
    "Python works with 53 bit of precision, so the values that is working with internally are not the same as the ones that it shows using a simple print\n",
    "\n",
    "> \"If Python were to print the true decimal value of the binary approximation stored for 0.1, it would \n",
    "> have to display \n",
    "> **0.1000000000000000055511151231257827021181583404541015625**\n",
    "> that is more digits than most people find useful.\"\n",
    "> \n",
    "> -- [Python documentation on the floating points](https://python.readthedocs.io/fr/latest/tutorial/floatingpoint.html)"
   ]
  },
  {
   "cell_type": "markdown",
   "metadata": {
    "nbpresent": {
     "id": "56aed021-c392-4e01-8ccb-1895edff8afb"
    },
    "slideshow": {
     "slide_type": "slide"
    }
   },
   "source": [
    "## Floating point arithmetics\n",
    "\n",
    "Due to their structure, floating point arithmetics is not equivalent to the one you are familiar with using the real numbers\n",
    "\n",
    "* associativity(+) : $(x+y)+z \\neq x + (y+z)$\n",
    "* associativity($\\times$) : $(x \\times y) \\times z \\neq x \\times (y \\times z)$\n",
    "* distributivity : $x \\times (y+z) \\neq (x \\times y)+(x \\times z)$\n",
    "* round : $x + \\epsilon - x \\neq \\epsilon$\n",
    "* division : $a/b \\neq a \\times (1/b)$\n",
    "* algorithms : $(a+b) \\times (a-b) \\neq a^2-b^2$\n",
    "* ecc."
   ]
  },
  {
   "cell_type": "code",
   "execution_count": 4,
   "metadata": {
    "nbpresent": {
     "id": "e92059d4-9755-4743-92da-155a3caaec9d"
    },
    "slideshow": {
     "slide_type": "slide"
    }
   },
   "outputs": [
    {
     "name": "stdout",
     "output_type": "stream",
     "text": [
      "0.6000000000000001 0.6\n"
     ]
    },
    {
     "ename": "AssertionError",
     "evalue": "",
     "output_type": "error",
     "traceback": [
      "\u001b[0;31m---------------------------------------------------------------------------\u001b[0m",
      "\u001b[0;31mAssertionError\u001b[0m                            Traceback (most recent call last)",
      "\u001b[0;32m<ipython-input-4-1b280911bc05>\u001b[0m in \u001b[0;36m<module>\u001b[0;34m\u001b[0m\n\u001b[1;32m      3\u001b[0m \u001b[0mc\u001b[0m \u001b[0;34m=\u001b[0m \u001b[0;36m0.3\u001b[0m\u001b[0;34m\u001b[0m\u001b[0;34m\u001b[0m\u001b[0m\n\u001b[1;32m      4\u001b[0m \u001b[0mprint\u001b[0m \u001b[0;34m(\u001b[0m\u001b[0;34m(\u001b[0m\u001b[0ma\u001b[0m \u001b[0;34m+\u001b[0m \u001b[0mb\u001b[0m\u001b[0;34m)\u001b[0m \u001b[0;34m+\u001b[0m \u001b[0mc\u001b[0m\u001b[0;34m,\u001b[0m \u001b[0ma\u001b[0m \u001b[0;34m+\u001b[0m \u001b[0;34m(\u001b[0m\u001b[0mb\u001b[0m \u001b[0;34m+\u001b[0m \u001b[0mc\u001b[0m\u001b[0;34m)\u001b[0m\u001b[0;34m)\u001b[0m\u001b[0;34m\u001b[0m\u001b[0;34m\u001b[0m\u001b[0m\n\u001b[0;32m----> 5\u001b[0;31m \u001b[0;32massert\u001b[0m\u001b[0;34m(\u001b[0m\u001b[0;34m(\u001b[0m\u001b[0ma\u001b[0m \u001b[0;34m+\u001b[0m \u001b[0mb\u001b[0m\u001b[0;34m)\u001b[0m \u001b[0;34m+\u001b[0m \u001b[0mc\u001b[0m \u001b[0;34m==\u001b[0m \u001b[0ma\u001b[0m \u001b[0;34m+\u001b[0m \u001b[0;34m(\u001b[0m\u001b[0mb\u001b[0m \u001b[0;34m+\u001b[0m \u001b[0mc\u001b[0m\u001b[0;34m)\u001b[0m\u001b[0;34m)\u001b[0m \u001b[0;31m#verifica della proprietà associativa(+) considerando tutti i bit\u001b[0m\u001b[0;34m\u001b[0m\u001b[0;34m\u001b[0m\u001b[0m\n\u001b[0m",
      "\u001b[0;31mAssertionError\u001b[0m: "
     ]
    }
   ],
   "source": [
    "a = 0.1\n",
    "b = 0.2\n",
    "c = 0.3\n",
    "print((a + b) + c, a + (b + c))\n",
    "assert((a + b) + c == a + (b + c)) #verifica della proprietà associativa(+) considerando tutti i bit"
   ]
  },
  {
   "cell_type": "markdown",
   "metadata": {},
   "source": [
    "Exact fractions, on the other end, are all the fractions that can be expressed as $1/2^N$:\n",
    "\n",
    "* 0.5\n",
    "* 0.25\n",
    "* 0.125\n",
    "* ...\n",
    "\n",
    "for an extensive explaination, read [What Every Computer Scientist Should Know About Floating-Point Arithmetic](https://docs.oracle.com/cd/E19957-01/806-3568/ncg_goldberg.html)"
   ]
  },
  {
   "cell_type": "markdown",
   "metadata": {},
   "source": [
    "if you have to test is two floating point numbers are **close enough** to be for all intent and purposes considered equal, you can use the function `math.isclose`:\n",
    "\n",
    "```python\n",
    ">>> import math\n",
    ">>> a = 5.0\n",
    ">>> b = 4.99998\n",
    ">>> math.isclose(a, b, abs_tol=0.00003)\n",
    "True\n",
    ">>> math.isclose(a, b, abs_tol=0.00001)\n",
    "False\n",
    ">>> math.isclose(a, b, rel_tol=1e-5)\n",
    "True\n",
    ">>> math.isclose(a, b, rel_tol=1e-6)\n",
    "False\n",
    "```"
   ]
  },
  {
   "cell_type": "markdown",
   "metadata": {
    "slideshow": {
     "slide_type": "slide"
    }
   },
   "source": [
    "If you don't care about numerical performances, you can also use the builtins modules **decimal** and **fraction**"
   ]
  },
  {
   "cell_type": "markdown",
   "metadata": {
    "slideshow": {
     "slide_type": "fragment"
    }
   },
   "source": [
    "```python\n",
    ">>> from decimal import getcontext, Decimal\n",
    ">>> getcontext().prec = 6\n",
    ">>> Decimal(1) / Decimal(7)\n",
    "Decimal('0.142857')\n",
    ">>> getcontext().prec = 28\n",
    ">>> Decimal(1) / Decimal(7)\n",
    "Decimal('0.1428571428571428571428571429')\n",
    "```"
   ]
  },
  {
   "cell_type": "markdown",
   "metadata": {
    "slideshow": {
     "slide_type": "slide"
    }
   },
   "source": [
    "```python\n",
    ">>> from fractions import Fraction\n",
    ">>> Fraction(16, -10)\n",
    "Fraction(-8, 5)\n",
    ">>> Fraction(-'3/7')\n",
    "Fraction(-3, 7)\n",
    ">>> Fraction('1.414213')\n",
    "Fraction(1414213, 1000000)\n",
    ">>> Fraction('7e-6')\n",
    "Fraction(7, 1000000)\n",
    "```"
   ]
  },
  {
   "cell_type": "markdown",
   "metadata": {
    "slideshow": {
     "slide_type": "slide"
    }
   },
   "source": [
    "```python\n",
    ">>> Fraction(2.25)\n",
    "Fraction(9, 4)\n",
    ">>> Fraction(1.1)\n",
    "Fraction(2476979795053773, 2251799813685248)\n",
    ">>> from decimal import Decimal\n",
    ">>> Fraction(Decimal('1.1'))\n",
    "Fraction(11, 10)\n",
    "```"
   ]
  },
  {
   "cell_type": "markdown",
   "metadata": {
    "slideshow": {
     "slide_type": "slide"
    }
   },
   "source": [
    "## Floating point exceptions\n",
    "\n",
    "alongside precision errors and round offs, there are several possible exceptions that can be raised while operating with floating point numbers.\n",
    "\n",
    "There are defined by the IEEE standard\n",
    "\n",
    "* **Underflow** : the result of an operation is too small to be represented with a number\n",
    "\n",
    "* **Overflow** : the result of an operation is too big to be represented with a number\n",
    "\n",
    "* **Divide-by-zero** : when one tries to divide by 0\n",
    "\n",
    "* **Invalid** : when the operation is not well defined (es. (0.0 / 0.0).\n",
    "\n",
    "* **Inexact** : happens when the result of the operation is strongly approximated"
   ]
  },
  {
   "cell_type": "markdown",
   "metadata": {
    "nbpresent": {
     "id": "b050de39-f41f-42fa-b938-e1c61e226f4c"
    },
    "slideshow": {
     "slide_type": "slide"
    }
   },
   "source": [
    "# Accuracy"
   ]
  },
  {
   "cell_type": "markdown",
   "metadata": {},
   "source": [
    "## The algorithm matters!\n",
    "\n",
    "Given the properties of the floating point numbers, different ways of performing your calculations can yield wildly different results!\n",
    "\n",
    "choosing the best algorithm is a craft, that needs to consider the floating point arithmetics, but also to balance it with the computational requirements in terms of memory and time!"
   ]
  },
  {
   "cell_type": "markdown",
   "metadata": {},
   "source": []
  },
  {
   "cell_type": "markdown",
   "metadata": {
    "nbpresent": {
     "id": "f1cc27c6-12c6-4a49-bbf8-7d2802cacd14"
    },
    "slideshow": {
     "slide_type": "slide"
    }
   },
   "source": [
    "## An example - the average\n",
    "\n",
    "Lets suppose that we want to evaluate the average of a vector $x$.\n",
    "\n",
    "we can estimate it using\n",
    "\n",
    "$E[x] = \\sum_{i=1}^N \\frac{x_i}{N}$\n",
    "\n",
    "or\n",
    "\n",
    "$E[x] = \\frac{1}{N}\\sum_{i=1}^N x_i$\n",
    "\n",
    "From a real number perspective these two versions are exactly equal, but for floating points they are not! "
   ]
  },
  {
   "cell_type": "code",
   "execution_count": 30,
   "metadata": {
    "nbpresent": {
     "id": "635b05e7-dbb3-4249-adf2-e650fc01baa7"
    },
    "slideshow": {
     "slide_type": "slide"
    }
   },
   "outputs": [
    {
     "name": "stdout",
     "output_type": "stream",
     "text": [
      "Media 1 = -0.001613657043592960516759093891892\n",
      "Media 2 = -0.0016136570435929592157164869092867\n",
      "difference = 1.301e-18\n"
     ]
    }
   ],
   "source": [
    "import random\n",
    "N = 1000\n",
    "x = [random.normalvariate(mu=0, sigma=0.1) for i in range(N)]\n",
    "mean_1 = 0.0\n",
    "mean_2 = 0.0\n",
    "for x_i in x:\n",
    "    mean_1 += x_i / N\n",
    "    mean_2 += x_i\n",
    "mean_2 /= N\n",
    "print(\"Media 1 = {:.32g}\".format(mean_1))\n",
    "print(\"Media 2 = {:.32g}\".format(mean_2))\n",
    "print(\"difference = {:.4g}\".format(mean_2-mean_1))"
   ]
  },
  {
   "cell_type": "markdown",
   "metadata": {},
   "source": [
    "For the estimate of the variance the results can be even more extremes:\n",
    "\n",
    "in certain cases we can obtain a negative variance using the usual formula!\n",
    "\n",
    "if you want to read more, check [Comparing three methods of computing standard deviation](https://www.johndcook.com/blog/2008/09/26/comparing-three-methods-of-computing-standard-deviation/)"
   ]
  },
  {
   "cell_type": "markdown",
   "metadata": {},
   "source": [
    "On the other end, sometimes a less precise algorithm can be preferred simply due to its **speed**.\n",
    "\n",
    "On a traditional CPU different operations have wildly different execution times, and this could lead to dramatic differences in approach!"
   ]
  },
  {
   "cell_type": "markdown",
   "metadata": {
    "nbpresent": {
     "id": "44a182d1-f140-4eeb-858d-c36d873a925e"
    },
    "slideshow": {
     "slide_type": "slide"
    }
   },
   "source": [
    "## Cost of Operations\n",
    "\n",
    "![alt text](./immagini/time.png \"## Cost of Operations\")"
   ]
  },
  {
   "cell_type": "markdown",
   "metadata": {
    "nbpresent": {
     "id": "b03247af-f8bf-4b12-9dd3-d82668b4a407"
    },
    "slideshow": {
     "slide_type": "slide"
    }
   },
   "source": [
    "A classic example from computer science is the inverse of a square root of a number\n",
    "\n",
    "$$ \\frac{1}{\\sqrt{x}} $$\n",
    "\n",
    "\n",
    "you could use the standard formula, and obtain a reasonably good result:"
   ]
  },
  {
   "cell_type": "code",
   "execution_count": 31,
   "metadata": {
    "nbpresent": {
     "id": "d6e6e52e-4bac-492e-89f3-98221a86b91c"
    },
    "slideshow": {
     "slide_type": "fragment"
    }
   },
   "outputs": [
    {
     "name": "stdout",
     "output_type": "stream",
     "text": [
      "0.5\n"
     ]
    }
   ],
   "source": [
    "from math import sqrt\n",
    "print(1/sqrt(4))"
   ]
  },
  {
   "cell_type": "markdown",
   "metadata": {
    "nbpresent": {
     "id": "b2251870-878a-4bc7-a5f8-49928cd504c3"
    },
    "slideshow": {
     "slide_type": "fragment"
    }
   },
   "source": [
    "## But\n",
    "\n",
    "somebody (it is actually not known who) developed the following monster to do the same operation\n"
   ]
  },
  {
   "cell_type": "code",
   "execution_count": 33,
   "metadata": {
    "nbpresent": {
     "id": "2f57d0cf-dbb0-433c-833a-7db5f70cebac"
    },
    "slideshow": {
     "slide_type": "slide"
    }
   },
   "outputs": [
    {
     "name": "stdout",
     "output_type": "stream",
     "text": [
      "0.49915357479239103\n"
     ]
    }
   ],
   "source": [
    "def isqrt(number):\n",
    "    import numpy as np\n",
    "    assert number > 0\n",
    "    threehalfs = 1.5\n",
    "    x2 = number * 0.5\n",
    "    y = np.float32(number) #conversione a float32 del numero\n",
    "\n",
    "    i = y.view(np.int32) #\"vedi\" y come una variabile int32\n",
    "    i = np.int32(0x5f3759df) - np.int32(i >> 1) #differenza tra numeri in bit-format\n",
    "    y = i.view(np.float32)\n",
    "\n",
    "    y = y * (threehalfs - (x2 * y * y))\n",
    "    return float(y)\n",
    "\n",
    "print(isqrt(4))"
   ]
  },
  {
   "cell_type": "markdown",
   "metadata": {
    "slideshow": {
     "slide_type": "slide"
    }
   },
   "source": [
    "This algorithm is less precise and more complicated, but it's so much faster than the naive implementation that is single handedly considered the code that allowed the birth of modern first person shooting games!\n",
    "\n",
    "this is because this expression appears countless times in the dynamic light computation (to decrease it with distance), and this was fast and precise enough to allow to be used in real time"
   ]
  },
  {
   "cell_type": "markdown",
   "metadata": {
    "nbpresent": {
     "id": "381b8f09-1832-45ea-a11a-cbeb6dfd55b8"
    },
    "slideshow": {
     "slide_type": "slide"
    }
   },
   "source": [
    "## Cost of Functions\n",
    "\n",
    "![alt text](./immagini/time2.png \"## Cost of Operations\")"
   ]
  },
  {
   "cell_type": "markdown",
   "metadata": {
    "nbpresent": {
     "id": "63ba26bc-c576-44c2-b153-f35f29663f37"
    },
    "slideshow": {
     "slide_type": "slide"
    }
   },
   "source": [
    "# Speed\n",
    "\n",
    "there are several ways to speed up and optimize an algorithm, and each one of them is appropriate to different situations:\n",
    "\n",
    "* memory access optimization\n",
    "* code parallelization\n",
    "* **code vectorization**\n",
    "\n",
    "The last one is the idea of expressing operations on entire data structures, and letting the CPU perform them on all the element at once.\n",
    "\n",
    "### Single Instruction Multiple Data"
   ]
  },
  {
   "cell_type": "markdown",
   "metadata": {
    "nbpresent": {
     "id": "83dea98d-9b33-46c2-b1d5-b1b5ca729724"
    },
    "slideshow": {
     "slide_type": "slide"
    }
   },
   "source": [
    "![alt text](./immagini/vec.png \"## Cost of Operations\")"
   ]
  },
  {
   "cell_type": "markdown",
   "metadata": {},
   "source": [
    "So we can use vectorization when:\n",
    "\n",
    "* we have a loop over a data structure\n",
    "* each step of the loop can be executed in parallel over the elements of the structure\n",
    "\n",
    "vectorization is one of the easiest methods to implement and that have the best gain for effort... especially in high level programming languages"
   ]
  },
  {
   "cell_type": "markdown",
   "metadata": {
    "nbpresent": {
     "id": "5dc0160d-e579-4721-b102-89a4f6595813"
    },
    "slideshow": {
     "slide_type": "slide"
    }
   },
   "source": [
    "# NumPy - Numerical Python\n",
    "\n",
    "**Numpy** is the library that underpins all the python scientific ecosystem, for high performance computation and data analysis\n",
    "\n",
    "The library provides an object, the **array** (*ndarray*, to be specific), that support vectorized and parallel computation, allowing high performance math in python, to a speed that can rival (if properly implemented) \n",
    "\n",
    "NumPy è la libreria fondamentale per il calcolo scientifico ad alte performance e l'analisi di dati.\n",
    "\n",
    "The library also provides most common manipulation algorithms (later with discuss the extensions with **scipy**), all implemented in a vectorized fashion, but also read and write capabilities, tabular data manipulation, linear algebra, and even C++ code wrapping!\n",
    "\n",
    "Good reference book (free online) are:\n",
    "\n",
    "* [From Python to Numpy](https://www.labri.fr/perso/nrougier/from-python-to-numpy/)\n",
    "* [Scipy Lecture Notes](https://scipy-lectures.org/)\n",
    "\n"
   ]
  },
  {
   "cell_type": "code",
   "execution_count": 39,
   "metadata": {
    "nbpresent": {
     "id": "6cbf22b1-059c-46ed-a42c-d4f758c0e953"
    },
    "slideshow": {
     "slide_type": "fragment"
    }
   },
   "outputs": [
    {
     "name": "stdout",
     "output_type": "stream",
     "text": [
      "a =  [1 2 3 4]\n",
      "b =  [[1 2 3 4]\n",
      " [5 6 7 8]]\n"
     ]
    }
   ],
   "source": [
    "import numpy as np\n",
    "a = np.array([1,2,3,4]) # vector 1x4\n",
    "print(\"a = \", a)\n",
    "b = np.array([[1,2,3,4],[5,6,7,8]]) # bidimensional array (matrix) 2x4\n",
    "print(\"b = \", b)"
   ]
  },
  {
   "cell_type": "markdown",
   "metadata": {
    "nbpresent": {
     "id": "813a6401-b2c9-4844-ad9f-c171e3190a97"
    },
    "slideshow": {
     "slide_type": "slide"
    }
   },
   "source": [
    "Every array has the following functions and methods available:\n",
    "\n",
    "* array.shape : returns the dimensions of the array (a tuple of lenght alongside each dimension)\n",
    "* array.dtype : returns the type of data inside the array (array are homogeneous)\n",
    "* len(array) : return the size of the **rows** (the first dimension) of a multidimensional array (the dimensione over which you can loop over)\n",
    "* np.array(list) o np.array(tuple) : convert them in a numpy array"
   ]
  },
  {
   "cell_type": "code",
   "execution_count": 38,
   "metadata": {
    "nbpresent": {
     "id": "68f36037-aebc-447f-9ed6-6756ae3175c0"
    },
    "slideshow": {
     "slide_type": "slide"
    }
   },
   "outputs": [
    {
     "name": "stdout",
     "output_type": "stream",
     "text": [
      "(4,)\n",
      "(4,)\n",
      "int64\n",
      "4\n"
     ]
    }
   ],
   "source": [
    "a = [1,2,3,4]\n",
    "a_array = np.array(a)\n",
    "b_array = np.asarray(list(a))\n",
    "print(a_array.shape)\n",
    "print(b_array.shape)\n",
    "print(a_array.dtype)\n",
    "print(len(a_array))"
   ]
  },
  {
   "cell_type": "markdown",
   "metadata": {
    "nbpresent": {
     "id": "5174dba2-bcb0-4435-9a16-9ddfc6be64eb"
    },
    "slideshow": {
     "slide_type": "slide"
    }
   },
   "source": [
    "## Create an array\n",
    "\n",
    "There are 3 important functions to create an array"
   ]
  },
  {
   "cell_type": "code",
   "execution_count": 42,
   "metadata": {
    "nbpresent": {
     "id": "575117fd-1d32-4d36-b62b-610f5ed99ef1"
    },
    "slideshow": {
     "slide_type": "fragment"
    }
   },
   "outputs": [
    {
     "name": "stdout",
     "output_type": "stream",
     "text": [
      "array_zeros =  [0. 0. 0. 0. 0. 0. 0. 0. 0. 0.]\n",
      "array_zeros has dimensions :  (10,)\n",
      "a_matzeros has dimensions :  (2, 10)\n",
      "aarray_ones =  [1. 1. 1. 1. 1. 1. 1. 1. 1. 1.]\n",
      "a_empty =  [ 4.68587145e-310  4.68587145e-310  3.50224958e-311  5.81499259e+252\n",
      "  4.58871191e-311  2.34140334e-258  3.91408755e-313  2.56513642e-308\n",
      " -3.38460681e+125  3.69028917e+180  2.28754541e-308  1.27613271e-303\n",
      "  6.26462688e-294  6.93425785e-310  4.68587145e-310  2.42092166e-322\n",
      "  6.93442429e-310  6.93442429e-310 -1.46043354e-014  6.93442040e-310]\n",
      "a_empty ccontains objects of type :  float64\n"
     ]
    }
   ],
   "source": [
    "array_zeros = np.zeros(10) # vector of 1x10 zeros\n",
    "print (\"array_zeros = \", array_zeros)\n",
    "print (\"array_zeros has dimensions : \", array_zeros.shape)\n",
    "a_matzeros = np.zeros((2,10)) # 2d array of 2x10 zeros\n",
    "print (\"a_matzeros has dimensions : \", a_matzeros.shape)\n",
    "array_ones = np.ones(10) # vector of 1x10 one\n",
    "print (\"aarray_ones = \", array_ones)\n",
    "a_empty = np.empty(20) # vector 1x20 of null values (from the free memory used)\n",
    "print (\"a_empty = \", a_empty)\n",
    "print (\"a_empty ccontains objects of type : \", a_empty.dtype)"
   ]
  },
  {
   "cell_type": "markdown",
   "metadata": {
    "nbpresent": {
     "id": "438d8bb9-29a9-40f2-9c46-d9bb38bfbde5"
    },
    "slideshow": {
     "slide_type": "slide"
    }
   },
   "source": [
    "## Beware\n",
    "\n",
    "**np.empty** does not contains zeros, but basically random numbers.\n",
    "\n",
    "They are not properly random, but \"garbage\" remaining from the values of the previous of that section of memory"
   ]
  },
  {
   "cell_type": "code",
   "execution_count": 46,
   "metadata": {},
   "outputs": [],
   "source": [
    "np.logspace?\n",
    "\n",
    "np.geomspace?"
   ]
  },
  {
   "cell_type": "markdown",
   "metadata": {
    "nbpresent": {
     "id": "fc8df2d4-c7ee-4d88-bbb9-b43125b9d8eb"
    },
    "slideshow": {
     "slide_type": "slide"
    }
   },
   "source": [
    "## Altri tipi di inizializzazione\n",
    "\n",
    "## Other types of initialization\n",
    "\n",
    "We can create array containing numbers in a specific range\n",
    "\n",
    "The main functions are 4: `np.arange`,  `np.linspace`, `np.logspace`, `np.geomspace`"
   ]
  },
  {
   "cell_type": "code",
   "execution_count": 51,
   "metadata": {
    "nbpresent": {
     "id": "7238ab2b-ae7b-4dea-bb79-df6b613f330d"
    },
    "slideshow": {
     "slide_type": "slide"
    }
   },
   "outputs": [
    {
     "name": "stdout",
     "output_type": "stream",
     "text": [
      "[0 1 2 3 4 5 6 7 8 9]\n",
      "[1 3 5 7 9]\n",
      "[ 0.   2.5  5.   7.5 10. ]\n",
      "[  1.           3.16227766  10.          31.6227766  100.        ]\n",
      "[  1.           3.16227766  10.          31.6227766  100.        ]\n"
     ]
    }
   ],
   "source": [
    "a = np.arange(10)\n",
    "print(a)\n",
    "a = np.arange(1, 10, 2) # (initial value, final value, step size)\n",
    "print(a)\n",
    "a = np.linspace(0, 10, 5) # (initial value, final value, number of steps)\n",
    "print(a)\n",
    "a = np.logspace(0, 2, 5) # (initial value (in log), final value (in log), number of steps)\n",
    "print(a)\n",
    "a = np.geomspace(1, 100, 5) # (initial value, final value, number of steps)\n",
    "print(a)"
   ]
  },
  {
   "cell_type": "code",
   "execution_count": 52,
   "metadata": {
    "nbpresent": {
     "id": "8996df45-220a-4a74-8254-4a6e9082e7b4"
    },
    "slideshow": {
     "slide_type": "slide"
    }
   },
   "outputs": [
    {
     "name": "stdout",
     "output_type": "stream",
     "text": [
      "a =  [1. 2. 3. 4.]\n",
      "a contains elements of type :  float64\n",
      "a =  [1 2 3 4]\n",
      "a contains elements of type :  uint32\n",
      "a is made out of strings =  [b'1.21' b'.2' b'-.4']\n",
      "a cast 2 float =  [ 1.21  0.2  -0.4 ]\n"
     ]
    }
   ],
   "source": [
    "a = np.array([1,2,3,4], dtype=np.float64)\n",
    "print (\"a = \", a)\n",
    "print (\"a contains elements of type : \", a.dtype)\n",
    "a = np.array([1,2,3,4], dtype=np.uint32)\n",
    "print (\"a = \", a)\n",
    "print (\"a contains elements of type : \", a.dtype)\n",
    "a = np.array(['1.21', '.2', '-.4'], dtype = np.string_)\n",
    "print (\"a is made out of strings = \", a)\n",
    "print (\"a cast 2 float = \", a.astype(np.float64))"
   ]
  },
  {
   "cell_type": "markdown",
   "metadata": {
    "nbpresent": {
     "id": "0fa2a5df-6733-4bd6-93b8-7f411a809e70"
    },
    "slideshow": {
     "slide_type": "slide"
    }
   },
   "source": [
    "## Operazioni tra Arrays e Scalari\n",
    "\n",
    "I NumPy array non sono solo belli da vedersi ma ci tolgono anche tanti pensieri sul calcolo numerico e algebrico...\n",
    "\n",
    "...ma soprattutto hanno tutta una serie di operazioni **già vettorizzate**!!\n",
    "\n",
    "## Operations between arrays and scalars\n",
    "\n",
    "Numpy's array are not only simplifying the generation and management of data, but they have a huge number of operations that are already vectorized, such as **array-array** operations and **array-scalar**"
   ]
  },
  {
   "cell_type": "code",
   "execution_count": 55,
   "metadata": {
    "nbpresent": {
     "id": "177728b4-06e1-4d59-9ad4-058a334e9775"
    },
    "slideshow": {
     "slide_type": "slide"
    }
   },
   "outputs": [
    {
     "name": "stdout",
     "output_type": "stream",
     "text": [
      "\n",
      " ARITHMETIC OPERATIONS\n",
      "\n",
      "a =  [1 2 3 4]\n",
      "b =  [2 3 4 5]\n",
      "a * 10 :  [10 20 30 40]\n",
      "a + 2 :  [3 4 5 6]\n",
      "a^2 :  [ 1  4  9 16]\n",
      "\n",
      " OPERATIONS BETWEEN ARRAYS\n",
      "\n",
      "a * b :  [ 2  6 12 20]\n",
      "a ** b :  [   1    8   81 1024]\n",
      "a + b :  [3 5 7 9]\n",
      "a - b :  [-1 -1 -1 -1]\n",
      "1. / a :  [1.         0.5        0.33333333 0.25      ]\n",
      "1 / a :  [1 0 0 0]\n"
     ]
    }
   ],
   "source": [
    "a = np.array([1,2,3,4])\n",
    "b = np.array([2,3,4,5])\n",
    "print (\"\\n ARITHMETIC OPERATIONS\\n\")\n",
    "print (\"a = \", a)\n",
    "print (\"b = \", b)\n",
    "print (\"a * 10 : \", a * 10)\n",
    "print (\"a + 2 : \", a + 2)\n",
    "print (\"a^2 : \", a**2)\n",
    "print (\"\\n OPERATIONS BETWEEN ARRAYS\\n\")\n",
    "print (\"a * b : \", a*b)\n",
    "print (\"a ** b : \", a**b)\n",
    "print (\"a + b : \", a+b)\n",
    "print (\"a - b : \", a-b)\n",
    "print (\"1. / a : \", 1/a)\n",
    "print (\"1 / a : \", 1//a)"
   ]
  },
  {
   "cell_type": "code",
   "execution_count": 56,
   "metadata": {
    "nbpresent": {
     "id": "183db7a5-f898-4085-a130-2ac7465a1bf0"
    },
    "slideshow": {
     "slide_type": "fragment"
    }
   },
   "outputs": [
    {
     "name": "stdout",
     "output_type": "stream",
     "text": [
      "[ 0  1  2  3  4  5  6  7  8  9 10 11 12 13 14 15 16 17 18 19]\n",
      "8\n",
      "[0 1 2 3 4 5 6 7]\n",
      "[ 8  9 10 11]\n",
      "[12 13 14 15]\n",
      "[16 17 18 19]\n"
     ]
    }
   ],
   "source": [
    "# they support traditional slicing syntax\n",
    "a = np.arange(20)\n",
    "print(a)\n",
    "print(a[8])\n",
    "print(a[:8])\n",
    "print(a[8:12])\n",
    "print(a[12:-4])\n",
    "print(a[-4:])\n",
    "assert( np.all(a[-15:-10] == a[5:10])) "
   ]
  },
  {
   "cell_type": "markdown",
   "metadata": {
    "nbpresent": {
     "id": "75fbfb3c-6aaa-4a40-acbc-3502d7ca95ed"
    },
    "slideshow": {
     "slide_type": "slide"
    }
   },
   "source": [
    "## BEWARE!\n",
    "\n",
    "when you slice an array, you don't get a copy unless you specifically ask for it with the `array.copy()` method.\n",
    "so if you modify an element, the original array will be modified as well!"
   ]
  },
  {
   "cell_type": "code",
   "execution_count": 58,
   "metadata": {
    "nbpresent": {
     "id": "e004ef40-362e-4b6d-9f3c-2826e6b41675"
    },
    "slideshow": {
     "slide_type": "fragment"
    }
   },
   "outputs": [
    {
     "name": "stdout",
     "output_type": "stream",
     "text": [
      "[0 1 2 3 4 5 6 7 8 9]\n",
      "[    0     1     2 10000     4     5     6     7     8     9]\n"
     ]
    }
   ],
   "source": [
    "a = np.arange(10)\n",
    "print (a)\n",
    "arr_slice = a[2:5] # view of a\n",
    "arr_slice[1] = 10000 # change the second element of the slice\n",
    "print (a) # the original array is changed!"
   ]
  },
  {
   "cell_type": "code",
   "execution_count": 59,
   "metadata": {
    "nbpresent": {
     "id": "d50d09f6-0c49-4de9-9a81-25834375c865"
    },
    "slideshow": {
     "slide_type": "slide"
    }
   },
   "outputs": [
    {
     "name": "stdout",
     "output_type": "stream",
     "text": [
      " a =  [[[ 1  2  3]\n",
      "  [ 4  5  6]]\n",
      "\n",
      " [[ 7  8  9]\n",
      "  [10 11 12]]]\n",
      "first element :  1\n",
      "first row :  [1 2 3]\n",
      "first 'matrix' :  [[1 2 3]\n",
      " [4 5 6]]\n",
      "depth :  [1 7]\n"
     ]
    }
   ],
   "source": [
    "arr3d = np.array([[[1, 2, 3], [4, 5, 6]], [[7, 8, 9], [10, 11, 12]]])\n",
    "print (\" a = \", arr3d)\n",
    "print (\"first element : \", arr3d[0][0][0])\n",
    "print (\"first row : \", arr3d[0][0])\n",
    "print (\"first 'matrix' : \", arr3d[0])\n",
    "print (\"depth : \", arr3d[:, 0, 0])"
   ]
  },
  {
   "cell_type": "markdown",
   "metadata": {
    "nbpresent": {
     "id": "92076c74-699c-4f1c-94ac-04b86aea673d"
    },
    "slideshow": {
     "slide_type": "slide"
    }
   },
   "source": [
    "## Going back to the example of the averages\n",
    "\n",
    "let's see how much faster the numpy array can get\n",
    "\n",
    "Numpy provides an already optimized version of the mean (as with a lot of other functions)\n",
    "\n",
    "    np.mean(array)\n"
   ]
  },
  {
   "cell_type": "code",
   "execution_count": 63,
   "metadata": {
    "nbpresent": {
     "id": "73422ad3-02b5-4013-947f-326eae035105"
    },
    "slideshow": {
     "slide_type": "slide"
    }
   },
   "outputs": [
    {
     "name": "stdout",
     "output_type": "stream",
     "text": [
      "Mean 1 = 0.49999972637047690460221360808646\n",
      "Mean 2 = 0.49999972637049688861665686090419\n",
      "Calculated in 7.8 sec\n",
      "Mean from numpy = 0.49999972637048045731589240858739\n",
      "Calculated in 0.0054 sec\n"
     ]
    }
   ],
   "source": [
    "import time\n",
    "start_time = time.time() # inizia a contare il tempo\n",
    "N = int(1e7)\n",
    "x = np.random.rand(N)\n",
    "mean_for_1 = 0.0\n",
    "mean_for_2 = 0.0\n",
    "for x_i in x:\n",
    "    mean_for_1 += x_i/N\n",
    "    mean_for_2 += x_i\n",
    "mean_for_2 /= N\n",
    "print (\"Mean 1 = {:.32f}\".format(mean_for_1))\n",
    "print (\"Mean 2 = {:.32f}\".format(mean_for_2))\n",
    "print (\"Calculated in {:.2g} sec\".format(time.time()-start_time))\n",
    "\n",
    "start_time = time.time()\n",
    "mean_vec = np.mean(x)\n",
    "print (\"Mean from numpy = {:.32f}\".format(mean_vec))\n",
    "print (\"Calculated in {:.2g} sec\".format(time.time()-start_time))"
   ]
  },
  {
   "cell_type": "markdown",
   "metadata": {
    "nbpresent": {
     "id": "a80f376f-906d-40bb-b217-6de23d1c8a1a"
    },
    "slideshow": {
     "slide_type": "slide"
    }
   },
   "source": [
    "## Random number generation\n",
    "\n",
    "A useful practice for scientific simulations is the generation of random number.\n",
    "\n",
    "Numpy provides us with a wide range of random generators"
   ]
  },
  {
   "cell_type": "code",
   "execution_count": 64,
   "metadata": {
    "nbpresent": {
     "id": "c47b0755-85fb-4121-b2cd-d616f8d97fd5"
    },
    "slideshow": {
     "slide_type": "fragment"
    }
   },
   "outputs": [
    {
     "name": "stdout",
     "output_type": "stream",
     "text": [
      "0.04188856284324605\n",
      "-0.5012089524187691\n",
      "0.8019130683269593\n",
      "[[0.57421473 0.43093877 0.9662763 ]\n",
      " [0.44139401 0.07189704 0.87782763]]\n"
     ]
    }
   ],
   "source": [
    "from numpy import random\n",
    "print (random.rand()) # uniform distribution\n",
    "print (random.randn()) # normal distribution\n",
    "print (random.exponential()) # exponential distribution\n",
    "print (random.rand(2, 3)) # random matrix"
   ]
  },
  {
   "cell_type": "markdown",
   "metadata": {
    "nbpresent": {
     "id": "3e44177f-14aa-4539-ae7e-abc83522f7d3"
    },
    "slideshow": {
     "slide_type": "slide"
    }
   },
   "source": [
    "## some other useful functions ..."
   ]
  },
  {
   "cell_type": "code",
   "execution_count": 65,
   "metadata": {
    "nbpresent": {
     "id": "a0cd31f2-223a-4514-bbce-6259d0229faf"
    },
    "slideshow": {
     "slide_type": "fragment"
    }
   },
   "outputs": [
    {
     "name": "stdout",
     "output_type": "stream",
     "text": [
      "\n",
      " Some other operations \n",
      "\n",
      "[1.    2.    3.444 2.    4.29  6.98 ]\n",
      "[1.    2.    3.444 2.    4.29  6.98 ]\n",
      "[1.                nan 1.85580171        nan 2.07123152 2.64196896]\n",
      "[ 1. -2.  3. -2.  4.  6.]\n",
      "[ 1. -2.  4. -2.  5.  7.]\n"
     ]
    },
    {
     "name": "stderr",
     "output_type": "stream",
     "text": [
      "/home/enrico/miniconda3/lib/python3.6/site-packages/ipykernel_launcher.py:8: RuntimeWarning: invalid value encountered in sqrt\n",
      "  \n"
     ]
    }
   ],
   "source": [
    "a = np.array([1, -2, 3.444, -2, 4.29, 6.98])\n",
    "b = np.array([2, -2, 3.44, -2., 5, 7])\n",
    "\n",
    "print(\"\\n Some other operations \\n\")\n",
    "\n",
    "print(np.abs(a)) # absolute value \n",
    "print(np.fabs(a)) # absolute value \n",
    "print(np.sqrt(a)) # square root\n",
    "print(np.floor(a)) # the largest integer value less than or equal to x\n",
    "print(np.ceil(a)) # smallest integer value greater than or equal to x"
   ]
  },
  {
   "cell_type": "code",
   "execution_count": 73,
   "metadata": {
    "slideshow": {
     "slide_type": "slide"
    }
   },
   "outputs": [
    {
     "name": "stdout",
     "output_type": "stream",
     "text": [
      "\n",
      " SOME logical operations (implicit) \n",
      "\n",
      "[False False False False False False]\n",
      "[False  True  True  True False False]\n",
      "[False False  True False False False]\n",
      "[ True False False False  True  True]\n",
      "\n",
      " SOME logical operations (explicit)\n",
      "\n",
      "[False False False False False False]\n",
      "[False  True  True  True False False]\n",
      "[False False  True False False False]\n",
      "[ True False False False  True  True]\n"
     ]
    }
   ],
   "source": [
    "a = np.array([False, False, True, False, False, False])\n",
    "b = np.array([False, True, False, True, False, False])\n",
    "\n",
    "print(\"\\n SOME logical operations (implicit) \\n\")\n",
    "\n",
    "print(a&b)\n",
    "print(a|b)\n",
    "print(a>b)\n",
    "print(a==b)\n",
    "\n",
    "print(\"\\n SOME logical operations (explicit)\\n\")\n",
    "\n",
    "\n",
    "print(np.logical_and(a, b))\n",
    "print(np.logical_or(a, b))\n",
    "print(np.greater(a, b))\n",
    "print(np.equal(a, b))"
   ]
  },
  {
   "cell_type": "code",
   "execution_count": 75,
   "metadata": {
    "slideshow": {
     "slide_type": "slide"
    }
   },
   "outputs": [
    {
     "name": "stdout",
     "output_type": "stream",
     "text": [
      "\n",
      " SOME ordering operations \n",
      "\n",
      "[-2.    -2.     1.     3.444  4.29   6.98 ]\n",
      "[1 3 0 2 4 5]\n",
      "[0 1 3]\n",
      "[0 0 1 0 1 1]\n",
      "2.222\n",
      "[1.    3.444 4.29  6.98 ]\n"
     ]
    }
   ],
   "source": [
    "a = np.array([1, -2, 3.444, -2, 4.29, 6.98])\n",
    "b = np.array([2, -2, 3.44, -2., 5, 7])\n",
    "\n",
    "print (\"\\n SOME ordering operations \\n\")\n",
    "print(np.sort(a)) # SORTING ELEMENTS\n",
    "print(np.argsort(a)) # SORTING INDICES\n",
    "print(np.where(a < 2)[0]) # INDICES WHERE CONDITION\n",
    "print(np.where(a > 2, 1, 0)) # (CONDITION, IF(CONDITION), ELSE)\n",
    "print(np.median(a)) # MEDIAN\n",
    "print(a[a>0]) # CONDITIONAL SELECTION"
   ]
  },
  {
   "cell_type": "markdown",
   "metadata": {},
   "source": [
    "## Structured array\n",
    "\n",
    "Numpy provides functionalities for managing tabular records of data, with the [**structured array**](https://docs.scipy.org/doc/numpy/user/basics.rec.html) data (and the more specialized **record array**).\n",
    "\n",
    "It allows to store arbitrary tuples are items inside an array (including sub-structures or arrays)\n",
    "\n",
    "This could be useful in some cases, but in general it would be better to use the library **pandas**, that we will discuss in the following lessons"
   ]
  },
  {
   "cell_type": "code",
   "execution_count": 88,
   "metadata": {},
   "outputs": [
    {
     "name": "stdout",
     "output_type": "stream",
     "text": [
      "[('Rex', 9, 81.) ('Fido', 3, 27.)]\n",
      "['Rex' 'Fido']\n",
      "Rex Rex\n"
     ]
    }
   ],
   "source": [
    "data = [('Rex', 9, 81.0),\n",
    "        ('Fido', 3, 27.0),\n",
    "       ]\n",
    "mydtype = [('name', 'U10'), # a string\n",
    "           ('age', 'i4'), # an integer\n",
    "           ('weight', 'f4'), # a float\n",
    "          ]\n",
    "x = np.array(data, dtype=mydtype)\n",
    "print(x)\n",
    "print(x['name'])\n",
    "print(x['name'][0], x[0]['name'])"
   ]
  },
  {
   "cell_type": "code",
   "execution_count": null,
   "metadata": {},
   "outputs": [],
   "source": []
  }
 ],
 "metadata": {
  "anaconda-cloud": {},
  "celltoolbar": "Slideshow",
  "kernelspec": {
   "display_name": "Python 3",
   "language": "python",
   "name": "python3"
  },
  "language_info": {
   "codemirror_mode": {
    "name": "ipython",
    "version": 3
   },
   "file_extension": ".py",
   "mimetype": "text/x-python",
   "name": "python",
   "nbconvert_exporter": "python",
   "pygments_lexer": "ipython3",
   "version": "3.6.7"
  },
  "nbpresent": {
   "slides": {
    "0003d80d-8617-4f6c-a1ba-5ed01cb56f2b": {
     "id": "0003d80d-8617-4f6c-a1ba-5ed01cb56f2b",
     "prev": "93eeb58b-fd7f-4329-823e-9c33af7a0c24",
     "regions": {
      "7965295f-7309-4932-98fe-7a24934d2190": {
       "attrs": {
        "height": 0.8,
        "width": 0.8,
        "x": 0.1,
        "y": 0.1
       },
       "content": {
        "cell": "177728b4-06e1-4d59-9ad4-058a334e9775",
        "part": "whole"
       },
       "id": "7965295f-7309-4932-98fe-7a24934d2190"
      }
     }
    },
    "069f23c6-ce9d-4a35-8c73-880d556bdf59": {
     "id": "069f23c6-ce9d-4a35-8c73-880d556bdf59",
     "prev": "84d157c8-50d5-4632-8dc3-a2805c5dbce8",
     "regions": {
      "052e93a5-c637-4f3d-829e-de519eb506c6": {
       "attrs": {
        "height": 0.8,
        "width": 0.8,
        "x": 0.1,
        "y": 0.1
       },
       "content": {
        "cell": "75fbfb3c-6aaa-4a40-acbc-3502d7ca95ed",
        "part": "whole"
       },
       "id": "052e93a5-c637-4f3d-829e-de519eb506c6"
      }
     }
    },
    "112f4c72-9a08-4e02-bc15-e8fa93c62573": {
     "id": "112f4c72-9a08-4e02-bc15-e8fa93c62573",
     "prev": "255574ea-90f1-40b7-aa7f-3bd5ed7ec2d0",
     "regions": {
      "ee310117-9231-484f-ad41-74a19983ac22": {
       "attrs": {
        "height": 0.8,
        "width": 0.8,
        "x": 0.1,
        "y": 0.1
       },
       "content": {
        "cell": "dd9b0795-34d3-4fc8-8d7e-0e22c35e4b17",
        "part": "whole"
       },
       "id": "ee310117-9231-484f-ad41-74a19983ac22"
      }
     }
    },
    "16cb4670-7e37-463d-9ee6-f4b8b7689089": {
     "id": "16cb4670-7e37-463d-9ee6-f4b8b7689089",
     "prev": "34d9c0e9-c10e-4220-8088-23cd331dfa3b",
     "regions": {
      "3a05894d-51b3-4856-9647-0455be1d1593": {
       "attrs": {
        "height": 0.8,
        "width": 0.8,
        "x": 0.1,
        "y": 0.1
       },
       "content": {
        "cell": "5174dba2-bcb0-4435-9a16-9ddfc6be64eb",
        "part": "whole"
       },
       "id": "3a05894d-51b3-4856-9647-0455be1d1593"
      }
     }
    },
    "1e2ea930-096d-44d8-9d78-9d1fe1ed1f1d": {
     "id": "1e2ea930-096d-44d8-9d78-9d1fe1ed1f1d",
     "prev": "d1b64d3c-995f-4372-b043-ccb9e7a9edd7",
     "regions": {
      "a6127c81-d2c9-494d-b64e-08c0afe00864": {
       "attrs": {
        "height": 0.8,
        "width": 0.8,
        "x": 0.1,
        "y": 0.1
       },
       "content": {
        "cell": "83dea98d-9b33-46c2-b1d5-b1b5ca729724",
        "part": "whole"
       },
       "id": "a6127c81-d2c9-494d-b64e-08c0afe00864"
      }
     }
    },
    "1e8edef5-10a3-4ee4-8fb0-cdbbd6af33de": {
     "id": "1e8edef5-10a3-4ee4-8fb0-cdbbd6af33de",
     "prev": "22af8b48-da15-4304-baa6-4febdcb1dfe3",
     "regions": {
      "b934deda-0947-47cb-b171-096ef5cc4144": {
       "attrs": {
        "height": 0.8,
        "width": 0.8,
        "x": 0.1,
        "y": 0.1
       },
       "content": {
        "cell": "44a182d1-f140-4eeb-858d-c36d873a925e",
        "part": "whole"
       },
       "id": "b934deda-0947-47cb-b171-096ef5cc4144"
      }
     }
    },
    "22af8b48-da15-4304-baa6-4febdcb1dfe3": {
     "id": "22af8b48-da15-4304-baa6-4febdcb1dfe3",
     "prev": "4717c9c7-b658-4fc8-b3b8-af88ab2f1727",
     "regions": {
      "3d2035af-065a-4825-beb5-cd70d1361075": {
       "attrs": {
        "height": 0.8,
        "width": 0.8,
        "x": 0.1,
        "y": 0.1
       },
       "content": {
        "cell": "635b05e7-dbb3-4249-adf2-e650fc01baa7",
        "part": "whole"
       },
       "id": "3d2035af-065a-4825-beb5-cd70d1361075"
      }
     }
    },
    "255574ea-90f1-40b7-aa7f-3bd5ed7ec2d0": {
     "id": "255574ea-90f1-40b7-aa7f-3bd5ed7ec2d0",
     "prev": "7142ac8d-ac9f-4782-b2eb-a3d778981102",
     "regions": {
      "0c85b953-69b8-4126-b312-7e57209048ec": {
       "attrs": {
        "height": 0.8,
        "width": 0.8,
        "x": 0.1,
        "y": 0.1
       },
       "content": {
        "cell": "5dc0160d-e579-4721-b102-89a4f6595813",
        "part": "whole"
       },
       "id": "0c85b953-69b8-4126-b312-7e57209048ec"
      }
     }
    },
    "28782eb9-37e6-4138-b757-581ba180abb2": {
     "id": "28782eb9-37e6-4138-b757-581ba180abb2",
     "prev": "069f23c6-ce9d-4a35-8c73-880d556bdf59",
     "regions": {
      "ed3191b9-6ac1-4eda-96ae-f0dabc62b441": {
       "attrs": {
        "height": 0.8,
        "width": 0.8,
        "x": 0.1,
        "y": 0.1
       },
       "content": {
        "cell": "e004ef40-362e-4b6d-9f3c-2826e6b41675",
        "part": "whole"
       },
       "id": "ed3191b9-6ac1-4eda-96ae-f0dabc62b441"
      }
     }
    },
    "2bd264b5-d703-4bd4-8bdd-f7f83faa794f": {
     "id": "2bd264b5-d703-4bd4-8bdd-f7f83faa794f",
     "prev": "35fd6030-0e1c-4289-9380-2e122084d7f8",
     "regions": {
      "f390babb-aa1b-4cca-9399-77a0311d52aa": {
       "attrs": {
        "height": 0.8,
        "width": 0.8,
        "x": 0.1,
        "y": 0.1
       },
       "content": {
        "cell": "6dc0e120-b873-4ec2-ad50-946e3531cbc9",
        "part": "whole"
       },
       "id": "f390babb-aa1b-4cca-9399-77a0311d52aa"
      }
     }
    },
    "2c4f8dc1-e36f-4232-832e-b8afb06e8624": {
     "id": "2c4f8dc1-e36f-4232-832e-b8afb06e8624",
     "prev": "ee2ef569-3046-4831-b20c-74246b56cc91",
     "regions": {
      "8ed0f054-c54a-42dc-a3b6-5725185b41a8": {
       "attrs": {
        "height": 0.8,
        "width": 0.8,
        "x": 0.1,
        "y": 0.1
       },
       "content": {
        "cell": "39cecca3-f38a-404e-9afb-80317f14c879",
        "part": "whole"
       },
       "id": "8ed0f054-c54a-42dc-a3b6-5725185b41a8"
      }
     }
    },
    "2f1914c4-f511-412d-9ff9-292e5e48887a": {
     "id": "2f1914c4-f511-412d-9ff9-292e5e48887a",
     "prev": "592fddc8-edc4-4643-b32e-c485269db8de",
     "regions": {
      "305fbc86-79a2-46d2-a836-63518376e2b6": {
       "attrs": {
        "height": 0.8,
        "width": 0.8,
        "x": 0.1,
        "y": 0.1
       },
       "content": {
        "cell": "a0cd31f2-223a-4514-bbce-6259d0229faf",
        "part": "whole"
       },
       "id": "305fbc86-79a2-46d2-a836-63518376e2b6"
      }
     }
    },
    "34964cc5-f1ff-4e3d-beba-cd89b6128a9a": {
     "id": "34964cc5-f1ff-4e3d-beba-cd89b6128a9a",
     "prev": "d8ac6221-6814-41dd-b77c-267432c708a8",
     "regions": {
      "18d2c24e-ad38-472c-8f99-fa8b0ea761f8": {
       "attrs": {
        "height": 0.8,
        "width": 0.8,
        "x": 0.1,
        "y": 0.1
       },
       "content": {
        "cell": "15164e0e-ebda-4a3e-839a-63389e6a60f0",
        "part": "whole"
       },
       "id": "18d2c24e-ad38-472c-8f99-fa8b0ea761f8"
      }
     }
    },
    "34d9c0e9-c10e-4220-8088-23cd331dfa3b": {
     "id": "34d9c0e9-c10e-4220-8088-23cd331dfa3b",
     "prev": "a40c3163-7934-4156-9f06-8666184a192a",
     "regions": {
      "80b0d611-cf34-419f-a882-4f2e8dcbbe20": {
       "attrs": {
        "height": 0.8,
        "width": 0.8,
        "x": 0.1,
        "y": 0.1
       },
       "content": {
        "cell": "68f36037-aebc-447f-9ed6-6756ae3175c0",
        "part": "whole"
       },
       "id": "80b0d611-cf34-419f-a882-4f2e8dcbbe20"
      }
     }
    },
    "35ed4382-f80b-4f08-8311-75a2fc1ef6f8": {
     "id": "35ed4382-f80b-4f08-8311-75a2fc1ef6f8",
     "prev": "28782eb9-37e6-4138-b757-581ba180abb2",
     "regions": {
      "fd55b0c5-179a-4021-ac6a-509ea450c9ec": {
       "attrs": {
        "height": 0.8,
        "width": 0.8,
        "x": 0.1,
        "y": 0.1
       },
       "content": {
        "cell": "93758dfa-dd7a-4555-adcc-4df6707f69d8",
        "part": "whole"
       },
       "id": "fd55b0c5-179a-4021-ac6a-509ea450c9ec"
      }
     }
    },
    "35fd6030-0e1c-4289-9380-2e122084d7f8": {
     "id": "35fd6030-0e1c-4289-9380-2e122084d7f8",
     "prev": "34964cc5-f1ff-4e3d-beba-cd89b6128a9a",
     "regions": {
      "cce53465-c7a1-4ac3-aa5d-431c684c4b4b": {
       "attrs": {
        "height": 0.8,
        "width": 0.8,
        "x": 0.1,
        "y": 0.1
       },
       "content": {
        "cell": "abb7b974-c295-4deb-b081-0deded005bf1",
        "part": "whole"
       },
       "id": "cce53465-c7a1-4ac3-aa5d-431c684c4b4b"
      }
     }
    },
    "3753ad22-157e-478c-830b-1d71dc59ce07": {
     "id": "3753ad22-157e-478c-830b-1d71dc59ce07",
     "prev": "f306432f-80a4-4bfc-9f70-53ad13c8e8da",
     "regions": {
      "6d07b0f8-0485-4764-85ae-c70a0a398670": {
       "attrs": {
        "height": 0.8,
        "width": 0.8,
        "x": 0.1,
        "y": 0.1
       },
       "content": {
        "cell": "92076c74-699c-4f1c-94ac-04b86aea673d",
        "part": "whole"
       },
       "id": "6d07b0f8-0485-4764-85ae-c70a0a398670"
      }
     }
    },
    "443fb264-5743-4831-b71b-e4d574c23006": {
     "id": "443fb264-5743-4831-b71b-e4d574c23006",
     "prev": "2bd264b5-d703-4bd4-8bdd-f7f83faa794f",
     "regions": {
      "d5f3a13c-b6ec-4c6d-baaa-15ad1046f40e": {
       "attrs": {
        "height": 0.8,
        "width": 0.8,
        "x": 0.1,
        "y": 0.1
       },
       "content": {
        "cell": "f1449aec-25b2-4bd6-b97d-0630c8acf0dd",
        "part": "whole"
       },
       "id": "d5f3a13c-b6ec-4c6d-baaa-15ad1046f40e"
      }
     }
    },
    "4717c9c7-b658-4fc8-b3b8-af88ab2f1727": {
     "id": "4717c9c7-b658-4fc8-b3b8-af88ab2f1727",
     "prev": "df9f5fc7-dd34-4ec7-8c82-fcb94eb079c3",
     "regions": {
      "393799db-cc15-43b0-969d-3fdb1b919dc0": {
       "attrs": {
        "height": 0.8,
        "width": 0.8,
        "x": 0.1,
        "y": 0.1
       },
       "content": {
        "cell": "f1cc27c6-12c6-4a49-bbf8-7d2802cacd14",
        "part": "whole"
       },
       "id": "393799db-cc15-43b0-969d-3fdb1b919dc0"
      }
     }
    },
    "4fca12d4-f4fd-450d-8873-9fa15f64a838": {
     "id": "4fca12d4-f4fd-450d-8873-9fa15f64a838",
     "prev": "d54e2f65-6f44-4155-a4be-8d57454764b8",
     "regions": {
      "8ea104b1-3ec4-4cd7-9194-56751ce8b67d": {
       "attrs": {
        "height": 0.8,
        "width": 0.8,
        "x": 0.1,
        "y": 0.1
       },
       "content": {
        "cell": "a80f376f-906d-40bb-b217-6de23d1c8a1a",
        "part": "whole"
       },
       "id": "8ea104b1-3ec4-4cd7-9194-56751ce8b67d"
      }
     }
    },
    "51855074-de71-4754-8553-13119c47d75b": {
     "id": "51855074-de71-4754-8553-13119c47d75b",
     "prev": "9c865cbe-c907-426f-972b-1f4917f4543f",
     "regions": {
      "6a42b48f-d611-40ab-83a2-c084a759a8cb": {
       "attrs": {
        "height": 0.8,
        "width": 0.8,
        "x": 0.1,
        "y": 0.1
       },
       "content": {
        "cell": "e92059d4-9755-4743-92da-155a3caaec9d",
        "part": "whole"
       },
       "id": "6a42b48f-d611-40ab-83a2-c084a759a8cb"
      }
     }
    },
    "592fddc8-edc4-4643-b32e-c485269db8de": {
     "id": "592fddc8-edc4-4643-b32e-c485269db8de",
     "prev": "f59713ff-7b79-475c-af43-70f03b653da4",
     "regions": {
      "e0c6f588-e2ca-49c9-bf09-986d0c6424c9": {
       "attrs": {
        "height": 0.8,
        "width": 0.8,
        "x": 0.1,
        "y": 0.1
       },
       "content": {
        "cell": "3e44177f-14aa-4539-ae7e-abc83522f7d3",
        "part": "whole"
       },
       "id": "e0c6f588-e2ca-49c9-bf09-986d0c6424c9"
      }
     }
    },
    "683273da-13e6-4f79-a638-8970b3096f47": {
     "id": "683273da-13e6-4f79-a638-8970b3096f47",
     "prev": "9efc0cbd-63c1-4f32-be00-d47bfa19bcc0",
     "regions": {
      "a00f0856-99fa-4145-ae80-e487b18fb137": {
       "attrs": {
        "height": 0.8,
        "width": 0.8,
        "x": 0.1,
        "y": 0.1
       },
       "content": {
        "cell": "22237209-14f4-428b-bdd7-8e2e666b2952",
        "part": "whole"
       },
       "id": "a00f0856-99fa-4145-ae80-e487b18fb137"
      }
     }
    },
    "6a7f0dbf-0a93-4e8f-83d7-f380e3ebd227": {
     "id": "6a7f0dbf-0a93-4e8f-83d7-f380e3ebd227",
     "prev": "b98aa279-0fe2-4438-9a12-849b40a71ff4",
     "regions": {
      "bc084d48-09f8-4db1-bae8-d8351cfa82af": {
       "attrs": {
        "height": 0.8,
        "width": 0.8,
        "x": 0.1,
        "y": 0.1
       },
       "content": {
        "cell": "b03247af-f8bf-4b12-9dd3-d82668b4a407",
        "part": "whole"
       },
       "id": "bc084d48-09f8-4db1-bae8-d8351cfa82af"
      }
     }
    },
    "6abaab43-ddad-4363-914b-2c87bcd21ae3": {
     "id": "6abaab43-ddad-4363-914b-2c87bcd21ae3",
     "prev": "bdf1fbcb-dde2-4c2c-98db-1429b391b182",
     "regions": {
      "01d70e2b-a8cb-414f-a513-39ed15f65712": {
       "attrs": {
        "height": 0.8,
        "width": 0.8,
        "x": 0.1,
        "y": 0.1
       },
       "content": {
        "cell": "2f57d0cf-dbb0-433c-833a-7db5f70cebac",
        "part": "whole"
       },
       "id": "01d70e2b-a8cb-414f-a513-39ed15f65712"
      }
     }
    },
    "6c0ccbe4-d8d5-4d56-b02a-1e3918529193": {
     "id": "6c0ccbe4-d8d5-4d56-b02a-1e3918529193",
     "prev": "8a0c4668-deef-4f78-b243-428c9b3c39ad",
     "regions": {
      "23998baa-7c7b-4681-8379-837836df4295": {
       "attrs": {
        "height": 0.8,
        "width": 0.8,
        "x": 0.1,
        "y": 0.1
       },
       "content": {
        "cell": "6ab53abb-7acd-4f5b-9d45-0e25d37d7f33",
        "part": "whole"
       },
       "id": "23998baa-7c7b-4681-8379-837836df4295"
      }
     }
    },
    "6f9397be-121e-4770-bfc4-a484adb5959d": {
     "id": "6f9397be-121e-4770-bfc4-a484adb5959d",
     "prev": "946bc616-a284-4bfe-bce5-7c08977e83e4",
     "regions": {
      "4d49c729-7484-49e2-a64a-427fe6849ae7": {
       "attrs": {
        "height": 0.8,
        "width": 0.8,
        "x": 0.1,
        "y": 0.1
       },
       "content": {
        "cell": "e00b8610-dd38-4fcd-b006-6862dc21fb9a",
        "part": "whole"
       },
       "id": "4d49c729-7484-49e2-a64a-427fe6849ae7"
      }
     }
    },
    "7142ac8d-ac9f-4782-b2eb-a3d778981102": {
     "id": "7142ac8d-ac9f-4782-b2eb-a3d778981102",
     "prev": "9c761756-0707-488b-b1af-2849f5faf037",
     "regions": {
      "ad58a7ef-1487-434c-a3ac-d80d8434a80c": {
       "attrs": {
        "height": 0.8,
        "width": 0.8,
        "x": 0.1,
        "y": 0.1
       },
       "content": {
        "cell": "ac1da7a6-1d51-4350-b103-869c18e77204",
        "part": "whole"
       },
       "id": "ad58a7ef-1487-434c-a3ac-d80d8434a80c"
      }
     }
    },
    "83c1843b-2bb7-4a35-a89a-d065f51e8f99": {
     "id": "83c1843b-2bb7-4a35-a89a-d065f51e8f99",
     "prev": null,
     "regions": {
      "71adc9a7-9795-4ce9-a79c-a2f1b4961bf4": {
       "attrs": {
        "height": 0.8,
        "width": 0.8,
        "x": 0.1,
        "y": 0.1
       },
       "content": {
        "cell": "dfcf1b08-a43b-482c-9bff-ef4e3352bef7",
        "part": "whole"
       },
       "id": "71adc9a7-9795-4ce9-a79c-a2f1b4961bf4"
      }
     }
    },
    "84d157c8-50d5-4632-8dc3-a2805c5dbce8": {
     "id": "84d157c8-50d5-4632-8dc3-a2805c5dbce8",
     "prev": "958dab32-be1f-4ba8-bbfc-e5b5e1c67741",
     "regions": {
      "06808b78-f1de-464e-862f-dcaea369fe90": {
       "attrs": {
        "height": 0.8,
        "width": 0.8,
        "x": 0.1,
        "y": 0.1
       },
       "content": {
        "cell": "183db7a5-f898-4085-a130-2ac7465a1bf0",
        "part": "whole"
       },
       "id": "06808b78-f1de-464e-862f-dcaea369fe90"
      }
     }
    },
    "8a0c4668-deef-4f78-b243-428c9b3c39ad": {
     "id": "8a0c4668-deef-4f78-b243-428c9b3c39ad",
     "prev": "6f9397be-121e-4770-bfc4-a484adb5959d",
     "regions": {
      "220393a0-6d03-4071-8b21-c73d59417c6a": {
       "attrs": {
        "height": 0.8,
        "width": 0.8,
        "x": 0.1,
        "y": 0.1
       },
       "content": {
        "cell": "5a3433db-2366-4665-b72e-7a9618fe8b95",
        "part": "whole"
       },
       "id": "220393a0-6d03-4071-8b21-c73d59417c6a"
      }
     }
    },
    "93eeb58b-fd7f-4329-823e-9c33af7a0c24": {
     "id": "93eeb58b-fd7f-4329-823e-9c33af7a0c24",
     "prev": "d1b9c919-d371-4826-8200-f2133186bb34",
     "regions": {
      "0cfe2c5a-af9a-41e3-b3e1-d384631c731a": {
       "attrs": {
        "height": 0.8,
        "width": 0.8,
        "x": 0.1,
        "y": 0.1
       },
       "content": {
        "cell": "0fa2a5df-6733-4bd6-93b8-7f411a809e70",
        "part": "whole"
       },
       "id": "0cfe2c5a-af9a-41e3-b3e1-d384631c731a"
      }
     }
    },
    "946bc616-a284-4bfe-bce5-7c08977e83e4": {
     "id": "946bc616-a284-4bfe-bce5-7c08977e83e4",
     "prev": "2c4f8dc1-e36f-4232-832e-b8afb06e8624",
     "regions": {
      "213d9066-bb4e-4b42-8f76-97a6f0d9128d": {
       "attrs": {
        "height": 0.8,
        "width": 0.8,
        "x": 0.1,
        "y": 0.1
       },
       "content": {
        "cell": "14ed4120-71bd-4341-9970-7d73cc84f76e",
        "part": "whole"
       },
       "id": "213d9066-bb4e-4b42-8f76-97a6f0d9128d"
      }
     }
    },
    "958dab32-be1f-4ba8-bbfc-e5b5e1c67741": {
     "id": "958dab32-be1f-4ba8-bbfc-e5b5e1c67741",
     "prev": "0003d80d-8617-4f6c-a1ba-5ed01cb56f2b",
     "regions": {
      "890d9249-7ad4-442c-9677-e5b0265e4ba8": {
       "attrs": {
        "height": 0.8,
        "width": 0.8,
        "x": 0.1,
        "y": 0.1
       },
       "content": {
        "cell": "dfea9db5-e5d3-43dd-932d-61a8e6588597",
        "part": "whole"
       },
       "id": "890d9249-7ad4-442c-9677-e5b0265e4ba8"
      }
     }
    },
    "9adb0a4d-bc84-4b7f-8411-997f1071221f": {
     "id": "9adb0a4d-bc84-4b7f-8411-997f1071221f",
     "prev": "c79e0b24-aebd-4876-a142-fef16637c936",
     "regions": {
      "b437b9cf-66ff-4138-a30f-0a531498b60b": {
       "attrs": {
        "height": 0.8,
        "width": 0.8,
        "x": 0.1,
        "y": 0.1
       },
       "content": {
        "cell": "d9df0b48-ccb1-4549-a898-fd71de3a9cd9",
        "part": "whole"
       },
       "id": "b437b9cf-66ff-4138-a30f-0a531498b60b"
      }
     }
    },
    "9c761756-0707-488b-b1af-2849f5faf037": {
     "id": "9c761756-0707-488b-b1af-2849f5faf037",
     "prev": "1e2ea930-096d-44d8-9d78-9d1fe1ed1f1d",
     "regions": {
      "94d1417b-764b-4026-8914-defa09645a4f": {
       "attrs": {
        "height": 0.8,
        "width": 0.8,
        "x": 0.1,
        "y": 0.1
       },
       "content": {
        "cell": "baa42578-c3ac-4688-a563-9681840aa888",
        "part": "whole"
       },
       "id": "94d1417b-764b-4026-8914-defa09645a4f"
      }
     }
    },
    "9c865cbe-c907-426f-972b-1f4917f4543f": {
     "id": "9c865cbe-c907-426f-972b-1f4917f4543f",
     "prev": "c8ebfc83-fcb9-4483-a1f4-68e1782c4c7d",
     "regions": {
      "4e114c43-12a8-49b5-82b1-db78a463ceae": {
       "attrs": {
        "height": 0.8,
        "width": 0.8,
        "x": 0.1,
        "y": 0.1
       },
       "content": {
        "cell": "56aed021-c392-4e01-8ccb-1895edff8afb",
        "part": "whole"
       },
       "id": "4e114c43-12a8-49b5-82b1-db78a463ceae"
      }
     }
    },
    "9efc0cbd-63c1-4f32-be00-d47bfa19bcc0": {
     "id": "9efc0cbd-63c1-4f32-be00-d47bfa19bcc0",
     "prev": "2f1914c4-f511-412d-9ff9-292e5e48887a",
     "regions": {
      "e79a432e-2f42-43ec-83a3-05e9c3e40858": {
       "attrs": {
        "height": 0.8,
        "width": 0.8,
        "x": 0.1,
        "y": 0.1
       },
       "content": {
        "cell": "ed080854-5f2f-4711-8676-c6594f794b70",
        "part": "whole"
       },
       "id": "e79a432e-2f42-43ec-83a3-05e9c3e40858"
      }
     }
    },
    "a40c3163-7934-4156-9f06-8666184a192a": {
     "id": "a40c3163-7934-4156-9f06-8666184a192a",
     "prev": "f9374304-fda9-4ad2-a428-dfddfb42409a",
     "regions": {
      "0aa60737-a949-4d24-a377-8561236bdffb": {
       "attrs": {
        "height": 0.8,
        "width": 0.8,
        "x": 0.1,
        "y": 0.1
       },
       "content": {
        "cell": "813a6401-b2c9-4844-ad9f-c171e3190a97",
        "part": "whole"
       },
       "id": "0aa60737-a949-4d24-a377-8561236bdffb"
      }
     }
    },
    "a4ff0817-d19d-413c-b357-48667a1e1b24": {
     "id": "a4ff0817-d19d-413c-b357-48667a1e1b24",
     "prev": "b6ef3ffb-12ab-4bac-bbe5-c3f84a05ffa3",
     "regions": {
      "9bcdc024-5907-42db-bfc4-496761b77bca": {
       "attrs": {
        "height": 0.8,
        "width": 0.8,
        "x": 0.1,
        "y": 0.1
       },
       "content": {
        "cell": "cc03d80a-4569-448b-aa37-88942c3306c3",
        "part": "whole"
       },
       "id": "9bcdc024-5907-42db-bfc4-496761b77bca"
      }
     }
    },
    "a6ef07e5-da03-40c7-ac55-91cb754c9863": {
     "id": "a6ef07e5-da03-40c7-ac55-91cb754c9863",
     "prev": "443fb264-5743-4831-b71b-e4d574c23006",
     "regions": {
      "4e3fe9e2-5cee-4486-bc22-87735c7f5e68": {
       "attrs": {
        "height": 0.8,
        "width": 0.8,
        "x": 0.1,
        "y": 0.1
       },
       "content": {
        "cell": "fdeb92ed-2615-4255-a6ea-8007f3adc533",
        "part": "whole"
       },
       "id": "4e3fe9e2-5cee-4486-bc22-87735c7f5e68"
      }
     }
    },
    "a90b2584-a5bd-492b-a61c-5cf6904f2191": {
     "id": "a90b2584-a5bd-492b-a61c-5cf6904f2191",
     "prev": "eaa13817-b06d-4919-9aea-e9af6f9bedf7",
     "regions": {
      "45c363ae-366b-41dc-aebe-11e097ab3154": {
       "attrs": {
        "height": 0.8,
        "width": 0.8,
        "x": 0.1,
        "y": 0.1
       },
       "content": {
        "cell": "b050de39-f41f-42fa-b938-e1c61e226f4c",
        "part": "whole"
       },
       "id": "45c363ae-366b-41dc-aebe-11e097ab3154"
      }
     }
    },
    "abd580a0-739f-439d-abb3-e85f5fe3fd37": {
     "id": "abd580a0-739f-439d-abb3-e85f5fe3fd37",
     "prev": "6a7f0dbf-0a93-4e8f-83d7-f380e3ebd227",
     "regions": {
      "03e0e8e2-7171-4830-a0b9-338408ce73cc": {
       "attrs": {
        "height": 0.8,
        "width": 0.8,
        "x": 0.1,
        "y": 0.1
       },
       "content": {
        "cell": "3a3db63d-d0e3-492c-9349-88145b2e509f",
        "part": "whole"
       },
       "id": "03e0e8e2-7171-4830-a0b9-338408ce73cc"
      }
     }
    },
    "ae76a7d9-8f59-49f1-bc1d-f7db8d36909e": {
     "id": "ae76a7d9-8f59-49f1-bc1d-f7db8d36909e",
     "prev": "1e8edef5-10a3-4ee4-8fb0-cdbbd6af33de",
     "regions": {
      "6a796942-eb18-49af-a5d6-76d20b5ae1f6": {
       "attrs": {
        "height": 0.8,
        "width": 0.8,
        "x": 0.1,
        "y": 0.1
       },
       "content": {
        "cell": "381b8f09-1832-45ea-a11a-cbeb6dfd55b8",
        "part": "whole"
       },
       "id": "6a796942-eb18-49af-a5d6-76d20b5ae1f6"
      }
     }
    },
    "b6e3b84a-e672-4c41-86c6-f880badf3ec6": {
     "id": "b6e3b84a-e672-4c41-86c6-f880badf3ec6",
     "prev": "f5105ff8-79d7-4918-b318-2f77d1762467",
     "regions": {
      "20c1df1e-3286-4f18-96df-6ba2211be7ff": {
       "attrs": {
        "height": 0.8,
        "width": 0.8,
        "x": 0.1,
        "y": 0.1
       },
       "content": {
        "cell": "7238ab2b-ae7b-4dea-bb79-df6b613f330d",
        "part": "whole"
       },
       "id": "20c1df1e-3286-4f18-96df-6ba2211be7ff"
      }
     }
    },
    "b6ef3ffb-12ab-4bac-bbe5-c3f84a05ffa3": {
     "id": "b6ef3ffb-12ab-4bac-bbe5-c3f84a05ffa3",
     "prev": "ae76a7d9-8f59-49f1-bc1d-f7db8d36909e",
     "regions": {
      "dcbe0c76-2a01-4832-b51d-61a3e4371d4d": {
       "attrs": {
        "height": 0.8,
        "width": 0.8,
        "x": 0.1,
        "y": 0.1
       },
       "content": {
        "cell": "63ba26bc-c576-44c2-b153-f35f29663f37",
        "part": "whole"
       },
       "id": "dcbe0c76-2a01-4832-b51d-61a3e4371d4d"
      }
     }
    },
    "b98aa279-0fe2-4438-9a12-849b40a71ff4": {
     "id": "b98aa279-0fe2-4438-9a12-849b40a71ff4",
     "prev": "a90b2584-a5bd-492b-a61c-5cf6904f2191",
     "regions": {
      "85b22ea1-d9c6-4574-b7ab-77e630a3fb14": {
       "attrs": {
        "height": 0.8,
        "width": 0.8,
        "x": 0.1,
        "y": 0.1
       },
       "content": {
        "cell": "287e9804-031e-4eec-8b33-9b4b7f03bc2f",
        "part": "whole"
       },
       "id": "85b22ea1-d9c6-4574-b7ab-77e630a3fb14"
      }
     }
    },
    "bdf1fbcb-dde2-4c2c-98db-1429b391b182": {
     "id": "bdf1fbcb-dde2-4c2c-98db-1429b391b182",
     "prev": "bfecdf46-a8ca-4366-ab40-e3a0d79d3540",
     "regions": {
      "517802b9-f4ba-42b4-b718-6bfca948ce56": {
       "attrs": {
        "height": 0.8,
        "width": 0.8,
        "x": 0.1,
        "y": 0.1
       },
       "content": {
        "cell": "b2251870-878a-4bc7-a5f8-49928cd504c3",
        "part": "whole"
       },
       "id": "517802b9-f4ba-42b4-b718-6bfca948ce56"
      }
     }
    },
    "bfecdf46-a8ca-4366-ab40-e3a0d79d3540": {
     "id": "bfecdf46-a8ca-4366-ab40-e3a0d79d3540",
     "prev": "abd580a0-739f-439d-abb3-e85f5fe3fd37",
     "regions": {
      "eeff9707-5c21-4eae-bfea-8bd52229ba37": {
       "attrs": {
        "height": 0.8,
        "width": 0.8,
        "x": 0.1,
        "y": 0.1
       },
       "content": {
        "cell": "d6e6e52e-4bac-492e-89f3-98221a86b91c",
        "part": "whole"
       },
       "id": "eeff9707-5c21-4eae-bfea-8bd52229ba37"
      }
     }
    },
    "c78eb30d-3cf6-4178-a7be-effd66b6e531": {
     "id": "c78eb30d-3cf6-4178-a7be-effd66b6e531",
     "prev": "683273da-13e6-4f79-a638-8970b3096f47",
     "regions": {
      "87cfbf6e-4f08-4771-be34-044a3add1b36": {
       "attrs": {
        "height": 0.8,
        "width": 0.8,
        "x": 0.1,
        "y": 0.1
       },
       "content": {
        "cell": "5e9f383a-713a-4682-9dcc-282310608d7f",
        "part": "whole"
       },
       "id": "87cfbf6e-4f08-4771-be34-044a3add1b36"
      }
     }
    },
    "c79e0b24-aebd-4876-a142-fef16637c936": {
     "id": "c79e0b24-aebd-4876-a142-fef16637c936",
     "prev": "a4ff0817-d19d-413c-b357-48667a1e1b24",
     "regions": {
      "264a67b9-3f38-4f48-af26-8c0b5fe8a0a9": {
       "attrs": {
        "height": 0.8,
        "width": 0.8,
        "x": 0.1,
        "y": 0.1
       },
       "content": {
        "cell": "4cdd1a54-43b7-48db-8208-835907df7e5b",
        "part": "whole"
       },
       "id": "264a67b9-3f38-4f48-af26-8c0b5fe8a0a9"
      }
     }
    },
    "c8ebfc83-fcb9-4483-a1f4-68e1782c4c7d": {
     "id": "c8ebfc83-fcb9-4483-a1f4-68e1782c4c7d",
     "prev": "6c0ccbe4-d8d5-4d56-b02a-1e3918529193",
     "regions": {
      "92a9a134-3e33-4b49-817e-887fd9dfd5aa": {
       "attrs": {
        "height": 0.8,
        "width": 0.8,
        "x": 0.1,
        "y": 0.1
       },
       "content": {
        "cell": "ff652ea7-3fb0-410b-9089-2559ed840838",
        "part": "whole"
       },
       "id": "92a9a134-3e33-4b49-817e-887fd9dfd5aa"
      }
     }
    },
    "d1b64d3c-995f-4372-b043-ccb9e7a9edd7": {
     "id": "d1b64d3c-995f-4372-b043-ccb9e7a9edd7",
     "prev": "9adb0a4d-bc84-4b7f-8411-997f1071221f",
     "regions": {
      "12b34e39-859a-4fbc-b927-d7f424f50d72": {
       "attrs": {
        "height": 0.8,
        "width": 0.8,
        "x": 0.1,
        "y": 0.1
       },
       "content": {
        "cell": "bfe39a35-5750-4d42-923f-490dc3752aa1",
        "part": "whole"
       },
       "id": "12b34e39-859a-4fbc-b927-d7f424f50d72"
      }
     }
    },
    "d1b9c919-d371-4826-8200-f2133186bb34": {
     "id": "d1b9c919-d371-4826-8200-f2133186bb34",
     "prev": "b6e3b84a-e672-4c41-86c6-f880badf3ec6",
     "regions": {
      "8ea3e08c-9c14-4d67-9202-1f6c5bbcfa55": {
       "attrs": {
        "height": 0.8,
        "width": 0.8,
        "x": 0.1,
        "y": 0.1
       },
       "content": {
        "cell": "8996df45-220a-4a74-8254-4a6e9082e7b4",
        "part": "whole"
       },
       "id": "8ea3e08c-9c14-4d67-9202-1f6c5bbcfa55"
      }
     }
    },
    "d54e2f65-6f44-4155-a4be-8d57454764b8": {
     "id": "d54e2f65-6f44-4155-a4be-8d57454764b8",
     "prev": "3753ad22-157e-478c-830b-1d71dc59ce07",
     "regions": {
      "fade9ba6-b1b3-4489-b436-6f195e15e28f": {
       "attrs": {
        "height": 0.8,
        "width": 0.8,
        "x": 0.1,
        "y": 0.1
       },
       "content": {
        "cell": "73422ad3-02b5-4013-947f-326eae035105",
        "part": "whole"
       },
       "id": "fade9ba6-b1b3-4489-b436-6f195e15e28f"
      }
     }
    },
    "d8ac6221-6814-41dd-b77c-267432c708a8": {
     "id": "d8ac6221-6814-41dd-b77c-267432c708a8",
     "prev": "83c1843b-2bb7-4a35-a89a-d065f51e8f99",
     "regions": {
      "d965035d-dfc1-4538-90fe-3655423b7cdd": {
       "attrs": {
        "height": 0.8,
        "width": 0.8,
        "x": 0.1,
        "y": 0.1
       },
       "content": {
        "cell": "0fa66a0c-3540-4115-9c7b-94695cd69491",
        "part": "whole"
       },
       "id": "d965035d-dfc1-4538-90fe-3655423b7cdd"
      }
     }
    },
    "df9f5fc7-dd34-4ec7-8c82-fcb94eb079c3": {
     "id": "df9f5fc7-dd34-4ec7-8c82-fcb94eb079c3",
     "prev": "6abaab43-ddad-4363-914b-2c87bcd21ae3",
     "regions": {
      "fa52cd3b-7c8e-4425-adf4-062c5768093c": {
       "attrs": {
        "height": 0.8,
        "width": 0.8,
        "x": 0.1,
        "y": 0.1
       },
       "content": {
        "cell": "05b20cde-06e9-4a74-ba00-afc2783c5356",
        "part": "whole"
       },
       "id": "fa52cd3b-7c8e-4425-adf4-062c5768093c"
      }
     }
    },
    "eaa13817-b06d-4919-9aea-e9af6f9bedf7": {
     "id": "eaa13817-b06d-4919-9aea-e9af6f9bedf7",
     "prev": "eedbd029-0e24-4350-ba9c-0757b3bfde53",
     "regions": {
      "cc1f8079-35d1-498b-9261-767e4032f07c": {
       "attrs": {
        "height": 0.8,
        "width": 0.8,
        "x": 0.1,
        "y": 0.1
       },
       "content": {
        "cell": "78e56054-3ce4-4520-9660-236b04123e2b",
        "part": "whole"
       },
       "id": "cc1f8079-35d1-498b-9261-767e4032f07c"
      }
     }
    },
    "ed2c9a0a-f022-42b9-8711-91aa573bcf90": {
     "id": "ed2c9a0a-f022-42b9-8711-91aa573bcf90",
     "prev": "16cb4670-7e37-463d-9ee6-f4b8b7689089",
     "regions": {
      "d255d5d0-1161-48a2-a8c0-81b3d5384954": {
       "attrs": {
        "height": 0.8,
        "width": 0.8,
        "x": 0.1,
        "y": 0.1
       },
       "content": {
        "cell": "575117fd-1d32-4d36-b62b-610f5ed99ef1",
        "part": "whole"
       },
       "id": "d255d5d0-1161-48a2-a8c0-81b3d5384954"
      }
     }
    },
    "ee2ef569-3046-4831-b20c-74246b56cc91": {
     "id": "ee2ef569-3046-4831-b20c-74246b56cc91",
     "prev": "a6ef07e5-da03-40c7-ac55-91cb754c9863",
     "regions": {
      "60fa76e6-7952-472c-846d-b801bdeaed08": {
       "attrs": {
        "height": 0.8,
        "width": 0.8,
        "x": 0.1,
        "y": 0.1
       },
       "content": {
        "cell": "0981f674-87dc-4563-a06f-eac1d6a3a53b",
        "part": "whole"
       },
       "id": "60fa76e6-7952-472c-846d-b801bdeaed08"
      }
     }
    },
    "eedbd029-0e24-4350-ba9c-0757b3bfde53": {
     "id": "eedbd029-0e24-4350-ba9c-0757b3bfde53",
     "prev": "51855074-de71-4754-8553-13119c47d75b",
     "regions": {
      "695f8e39-f67c-4674-933f-51c3ad8183ce": {
       "attrs": {
        "height": 0.8,
        "width": 0.8,
        "x": 0.1,
        "y": 0.1
       },
       "content": {
        "cell": "82bbb883-abac-4c47-be04-7715db1bb441",
        "part": "whole"
       },
       "id": "695f8e39-f67c-4674-933f-51c3ad8183ce"
      }
     }
    },
    "f306432f-80a4-4bfc-9f70-53ad13c8e8da": {
     "id": "f306432f-80a4-4bfc-9f70-53ad13c8e8da",
     "prev": "35ed4382-f80b-4f08-8311-75a2fc1ef6f8",
     "regions": {
      "10ba9de3-8e9a-4cbb-9da6-0a78f9df4312": {
       "attrs": {
        "height": 0.8,
        "width": 0.8,
        "x": 0.1,
        "y": 0.1
       },
       "content": {
        "cell": "d50d09f6-0c49-4de9-9a81-25834375c865",
        "part": "whole"
       },
       "id": "10ba9de3-8e9a-4cbb-9da6-0a78f9df4312"
      }
     }
    },
    "f5105ff8-79d7-4918-b318-2f77d1762467": {
     "id": "f5105ff8-79d7-4918-b318-2f77d1762467",
     "prev": "fdb3918b-d708-4b1f-a051-dab383728379",
     "regions": {
      "ffab225c-321a-4c85-b12b-1b92f4eec230": {
       "attrs": {
        "height": 0.8,
        "width": 0.8,
        "x": 0.1,
        "y": 0.1
       },
       "content": {
        "cell": "fc8df2d4-c7ee-4d88-bbb9-b43125b9d8eb",
        "part": "whole"
       },
       "id": "ffab225c-321a-4c85-b12b-1b92f4eec230"
      }
     }
    },
    "f59713ff-7b79-475c-af43-70f03b653da4": {
     "id": "f59713ff-7b79-475c-af43-70f03b653da4",
     "prev": "4fca12d4-f4fd-450d-8873-9fa15f64a838",
     "regions": {
      "c114704d-f46a-4ff7-8a0a-3538081a5095": {
       "attrs": {
        "height": 0.8,
        "width": 0.8,
        "x": 0.1,
        "y": 0.1
       },
       "content": {
        "cell": "c47b0755-85fb-4121-b2cd-d616f8d97fd5",
        "part": "whole"
       },
       "id": "c114704d-f46a-4ff7-8a0a-3538081a5095"
      }
     }
    },
    "f9374304-fda9-4ad2-a428-dfddfb42409a": {
     "id": "f9374304-fda9-4ad2-a428-dfddfb42409a",
     "prev": "112f4c72-9a08-4e02-bc15-e8fa93c62573",
     "regions": {
      "49bb001d-87e8-491f-a9c9-cb1f21027c9f": {
       "attrs": {
        "height": 0.8,
        "width": 0.8,
        "x": 0.1,
        "y": 0.1
       },
       "content": {
        "cell": "6cbf22b1-059c-46ed-a42c-d4f758c0e953",
        "part": "whole"
       },
       "id": "49bb001d-87e8-491f-a9c9-cb1f21027c9f"
      }
     }
    },
    "fdb3918b-d708-4b1f-a051-dab383728379": {
     "id": "fdb3918b-d708-4b1f-a051-dab383728379",
     "prev": "ed2c9a0a-f022-42b9-8711-91aa573bcf90",
     "regions": {
      "5e292f45-6aad-4281-b057-2f69b60bd77d": {
       "attrs": {
        "height": 0.8,
        "width": 0.8,
        "x": 0.1,
        "y": 0.1
       },
       "content": {
        "cell": "438d8bb9-29a9-40f2-9c46-d9bb38bfbde5",
        "part": "whole"
       },
       "id": "5e292f45-6aad-4281-b057-2f69b60bd77d"
      }
     }
    }
   },
   "themes": {
    "default": "25e08e0b-8efd-4b51-aef6-f1a177fc35ed",
    "theme": {}
   }
  }
 },
 "nbformat": 4,
 "nbformat_minor": 2
}
