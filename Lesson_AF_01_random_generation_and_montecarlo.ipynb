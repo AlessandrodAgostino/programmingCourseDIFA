{
 "cells": [
  {
   "cell_type": "code",
   "execution_count": 635,
   "metadata": {
    "slideshow": {
     "slide_type": "skip"
    }
   },
   "outputs": [],
   "source": [
    "%matplotlib inline"
   ]
  },
  {
   "cell_type": "markdown",
   "metadata": {
    "slideshow": {
     "slide_type": "slide"
    }
   },
   "source": [
    "# Random Numbers and MonteCarlo Methods"
   ]
  },
  {
   "cell_type": "code",
   "execution_count": 257,
   "metadata": {
    "slideshow": {
     "slide_type": "slide"
    }
   },
   "outputs": [],
   "source": [
    "import numpy as np\n",
    "import pandas as pd\n",
    "import seaborn as sns\n",
    "import pylab as plt\n",
    "import scipy.stats as st\n",
    "import pdir as dir"
   ]
  },
  {
   "cell_type": "markdown",
   "metadata": {
    "slideshow": {
     "slide_type": "slide"
    }
   },
   "source": [
    "## Random numbers and seeds"
   ]
  },
  {
   "cell_type": "code",
   "execution_count": 230,
   "metadata": {
    "slideshow": {
     "slide_type": "slide"
    }
   },
   "outputs": [
    {
     "data": {
      "text/plain": [
       "0.22321073814882275"
      ]
     },
     "execution_count": 230,
     "metadata": {},
     "output_type": "execute_result"
    }
   ],
   "source": [
    "import random\n",
    "\n",
    "random.random()"
   ]
  },
  {
   "cell_type": "code",
   "execution_count": 231,
   "metadata": {
    "slideshow": {
     "slide_type": "slide"
    }
   },
   "outputs": [
    {
     "data": {
      "text/plain": [
       "[0.7364712141640124, 0.6766994874229113, 0.8921795677048454]"
      ]
     },
     "execution_count": 231,
     "metadata": {},
     "output_type": "execute_result"
    }
   ],
   "source": [
    "[random.random() for i in range(3)]"
   ]
  },
  {
   "cell_type": "code",
   "execution_count": 232,
   "metadata": {
    "slideshow": {
     "slide_type": "fragment"
    }
   },
   "outputs": [
    {
     "data": {
      "text/plain": [
       "[0.08693883262941615, 0.4219218196852704, 0.029797219438070344]"
      ]
     },
     "execution_count": 232,
     "metadata": {},
     "output_type": "execute_result"
    }
   ],
   "source": [
    "[random.random() for i in range(3)]"
   ]
  },
  {
   "cell_type": "code",
   "execution_count": 233,
   "metadata": {
    "slideshow": {
     "slide_type": "slide"
    }
   },
   "outputs": [
    {
     "data": {
      "text/plain": [
       "[0.6394267984578837, 0.025010755222666936, 0.27502931836911926]"
      ]
     },
     "execution_count": 233,
     "metadata": {},
     "output_type": "execute_result"
    }
   ],
   "source": [
    "random.seed(42)\n",
    "[random.random() for i in range(3)]"
   ]
  },
  {
   "cell_type": "code",
   "execution_count": 234,
   "metadata": {
    "slideshow": {
     "slide_type": "fragment"
    }
   },
   "outputs": [
    {
     "data": {
      "text/plain": [
       "[0.6394267984578837, 0.025010755222666936, 0.27502931836911926]"
      ]
     },
     "execution_count": 234,
     "metadata": {},
     "output_type": "execute_result"
    }
   ],
   "source": [
    "random.seed(42)\n",
    "[random.random() for i in range(3)]"
   ]
  },
  {
   "cell_type": "markdown",
   "metadata": {
    "slideshow": {
     "slide_type": "slide"
    }
   },
   "source": [
    "### the linear congruential generator\n",
    "\n",
    "a very simple way of generating random numbers: not a good one, but a good example\n",
    "\n",
    "$$R_{n+1} = (a \\cdot R_n + c) \\text{mod} m$$\n",
    "\n",
    "with appropriate constants a, c and m"
   ]
  },
  {
   "cell_type": "code",
   "execution_count": 395,
   "metadata": {
    "slideshow": {
     "slide_type": "slide"
    }
   },
   "outputs": [],
   "source": [
    "# values from the numerical recipies\n",
    "m = 2**32\n",
    "a = 1664525\n",
    "c = 1013904223"
   ]
  },
  {
   "cell_type": "code",
   "execution_count": 396,
   "metadata": {
    "slideshow": {
     "slide_type": "slide"
    }
   },
   "outputs": [
    {
     "data": {
      "text/plain": [
       "1020562323"
      ]
     },
     "execution_count": 396,
     "metadata": {},
     "output_type": "execute_result"
    }
   ],
   "source": [
    "R0 = 4\n",
    "R1 = (a*R0+c)%m\n",
    "R1"
   ]
  },
  {
   "cell_type": "code",
   "execution_count": 398,
   "metadata": {
    "slideshow": {
     "slide_type": "slide"
    }
   },
   "outputs": [
    {
     "name": "stdout",
     "output_type": "stream",
     "text": [
      "0.6126509555615485\n",
      "0.06787405931390822\n",
      "0.30464745592325926\n",
      "0.5426386359613389\n",
      "0.8115915204398334\n"
     ]
    }
   ],
   "source": [
    "for i in range(5):\n",
    "    print(R1/m)\n",
    "    R1 = (a*R1+c)%m"
   ]
  },
  {
   "cell_type": "code",
   "execution_count": 401,
   "metadata": {
    "slideshow": {
     "slide_type": "slide"
    }
   },
   "outputs": [],
   "source": [
    "results = []\n",
    "for i in range(5000):\n",
    "    results.append(R1/m)\n",
    "    R1 = (a*R1+c)%m"
   ]
  },
  {
   "cell_type": "code",
   "execution_count": 402,
   "metadata": {
    "slideshow": {
     "slide_type": "slide"
    }
   },
   "outputs": [
    {
     "data": {
      "text/plain": [
       "(array([480., 466., 463., 520., 504., 513., 522., 516., 504., 512.]),\n",
       " array([2.93839024e-04, 1.00261839e-01, 2.00229839e-01, 3.00197840e-01,\n",
       "        4.00165840e-01, 5.00133840e-01, 6.00101840e-01, 7.00069841e-01,\n",
       "        8.00037841e-01, 9.00005841e-01, 9.99973841e-01]),\n",
       " <a list of 10 Patch objects>)"
      ]
     },
     "execution_count": 402,
     "metadata": {},
     "output_type": "execute_result"
    },
    {
     "data": {
      "image/png": "[encoded data removed]",
      "text/plain": [
       "<Figure size 432x288 with 1 Axes>"
      ]
     },
     "metadata": {
      "needs_background": "light"
     },
     "output_type": "display_data"
    }
   ],
   "source": [
    "plt.hist(results)"
   ]
  },
  {
   "cell_type": "markdown",
   "metadata": {
    "slideshow": {
     "slide_type": "slide"
    }
   },
   "source": [
    "## the random modules\n",
    "\n",
    "between the standard libraries and the scientific stack, we have access to 3 set of random functions generation:\n",
    "\n",
    "* random\n",
    "* numpy.random\n",
    "* scipy.stats"
   ]
  },
  {
   "cell_type": "code",
   "execution_count": 592,
   "metadata": {
    "slideshow": {
     "slide_type": "slide"
    }
   },
   "outputs": [
    {
     "data": {
      "text/plain": [
       "\u001b[0;35mproperty:\u001b[0m\n",
       "    \u001b[1;34mBPF\u001b[0m\u001b[1;34m, \u001b[0m\u001b[1;34mLOG4\u001b[0m\u001b[1;34m, \u001b[0m\u001b[1;34mNV_MAGICCONST\u001b[0m\u001b[1;34m, \u001b[0m\u001b[1;34mRECIP_BPF\u001b[0m\u001b[1;34m, \u001b[0m\u001b[1;34mSG_MAGICCONST\u001b[0m\u001b[1;34m, \u001b[0m\u001b[1;34mTWOPI\u001b[0m\n",
       "\u001b[0;35mclass:\u001b[0m\n",
       "    \u001b[1;34mRandom\u001b[0m\u001b[1;34m: \u001b[0m\u001b[1;30mRandom number generator base class used by bound module functions.\u001b[0m\n",
       "    \u001b[1;34mSystemRandom\u001b[0m\u001b[1;34m: \u001b[0m\u001b[1;30mAlternate random number generator using sources provided\u001b[0m\n",
       "\u001b[0;35mfunction:\u001b[0m\n",
       "    \u001b[1;34mbetavariate\u001b[0m\u001b[1;34m: \u001b[0m\u001b[1;30mBeta distribution.\u001b[0m\n",
       "    \u001b[1;34mchoice\u001b[0m\u001b[1;34m: \u001b[0m\u001b[1;30mChoose a random element from a non-empty sequence.\u001b[0m\n",
       "    \u001b[1;34mchoices\u001b[0m\u001b[1;34m: \u001b[0m\u001b[1;30mReturn a k sized list of population elements chosen with replacement.\u001b[0m\n",
       "    \u001b[1;34mexpovariate\u001b[0m\u001b[1;34m: \u001b[0m\u001b[1;30mExponential distribution.\u001b[0m\n",
       "    \u001b[1;34mgammavariate\u001b[0m\u001b[1;34m: \u001b[0m\u001b[1;30mGamma distribution.  Not the gamma function!\u001b[0m\n",
       "    \u001b[1;34mgauss\u001b[0m\u001b[1;34m: \u001b[0m\u001b[1;30mGaussian distribution.\u001b[0m\n",
       "    \u001b[1;34mgetrandbits\u001b[0m\u001b[1;34m: \u001b[0m\u001b[1;30mgetrandbits(k) -> x.  Generates an int with k random bits.\u001b[0m\n",
       "    \u001b[1;34mgetstate\u001b[0m\u001b[1;34m: \u001b[0m\u001b[1;30mReturn internal state; can be passed to setstate() later.\u001b[0m\n",
       "    \u001b[1;34mlognormvariate\u001b[0m\u001b[1;34m: \u001b[0m\u001b[1;30mLog normal distribution.\u001b[0m\n",
       "    \u001b[1;34mnormalvariate\u001b[0m\u001b[1;34m: \u001b[0m\u001b[1;30mNormal distribution.\u001b[0m\n",
       "    \u001b[1;34mparetovariate\u001b[0m\u001b[1;34m: \u001b[0m\u001b[1;30mPareto distribution.  alpha is the shape parameter.\u001b[0m\n",
       "    \u001b[1;34mrandint\u001b[0m\u001b[1;34m: \u001b[0m\u001b[1;30mReturn random integer in range [a, b], including both end points.\u001b[0m\n",
       "    \u001b[1;34mrandom\u001b[0m\u001b[1;34m: \u001b[0m\u001b[1;30mrandom() -> x in the interval [0, 1).\u001b[0m\n",
       "    \u001b[1;34mrandrange\u001b[0m\u001b[1;34m: \u001b[0m\u001b[1;30mChoose a random item from range(start, stop[, step]).\u001b[0m\n",
       "    \u001b[1;34msample\u001b[0m\u001b[1;34m: \u001b[0m\u001b[1;30mChooses k unique random elements from a population sequence or set.\u001b[0m\n",
       "    \u001b[1;34mseed\u001b[0m\u001b[1;34m: \u001b[0m\u001b[1;30mInitialize internal state from hashable object.\u001b[0m\n",
       "    \u001b[1;34msetstate\u001b[0m\u001b[1;34m: \u001b[0m\u001b[1;30mRestore internal state from object returned by getstate().\u001b[0m\n",
       "    \u001b[1;34mshuffle\u001b[0m\u001b[1;34m: \u001b[0m\u001b[1;30mShuffle list x in place, and return None.\u001b[0m\n",
       "    \u001b[1;34mtriangular\u001b[0m\u001b[1;34m: \u001b[0m\u001b[1;30mTriangular distribution.\u001b[0m\n",
       "    \u001b[1;34muniform\u001b[0m\u001b[1;34m: \u001b[0m\u001b[1;30mGet a random number in the range [a, b) or [a, b] depending on rounding.\u001b[0m\n",
       "    \u001b[1;34mvonmisesvariate\u001b[0m\u001b[1;34m: \u001b[0m\u001b[1;30mCircular data distribution.\u001b[0m\n",
       "    \u001b[1;34mweibullvariate\u001b[0m\u001b[1;34m: \u001b[0m\u001b[1;30mWeibull distribution.\u001b[0m"
      ]
     },
     "execution_count": 592,
     "metadata": {},
     "output_type": "execute_result"
    }
   ],
   "source": [
    "import random as rn\n",
    "dir(rn).public"
   ]
  },
  {
   "cell_type": "code",
   "execution_count": 353,
   "metadata": {
    "slideshow": {
     "slide_type": "slide"
    }
   },
   "outputs": [
    {
     "data": {
      "text/plain": [
       "['betavariate',\n",
       " 'expovariate',\n",
       " 'gammavariate',\n",
       " 'lognormvariate',\n",
       " 'normalvariate',\n",
       " 'paretovariate',\n",
       " 'vonmisesvariate',\n",
       " 'weibullvariate']"
      ]
     },
     "execution_count": 353,
     "metadata": {},
     "output_type": "execute_result"
    }
   ],
   "source": [
    "[f for f in dir(rn) if f.endswith('variate')]"
   ]
  },
  {
   "cell_type": "code",
   "execution_count": 593,
   "metadata": {
    "slideshow": {
     "slide_type": "slide"
    }
   },
   "outputs": [
    {
     "data": {
      "text/plain": [
       "\u001b[0;35mproperty:\u001b[0m\n",
       "    \u001b[1;34mabsolute_import\u001b[0m\u001b[1;34m, \u001b[0m\u001b[1;34mdivision\u001b[0m\u001b[1;34m, \u001b[0m\u001b[1;34mmtrand\u001b[0m\u001b[1;34m, \u001b[0m\u001b[1;34mnp\u001b[0m\u001b[1;34m, \u001b[0m\u001b[1;34moperator\u001b[0m\u001b[1;34m, \u001b[0m\u001b[1;34mprint_function\u001b[0m\u001b[1;34m, \u001b[0m\u001b[1;34mtest\u001b[0m\u001b[1;34m, \u001b[0m\u001b[1;34mwarnings\u001b[0m\n",
       "\u001b[0;35mclass:\u001b[0m\n",
       "    \u001b[1;34mRandomState\u001b[0m\u001b[1;34m: \u001b[0m\u001b[1;30mRandomState(seed=None)\u001b[0m\n",
       "\u001b[0;35mfunction:\u001b[0m\n",
       "    \u001b[1;34mLock\u001b[0m\u001b[1;34m: \u001b[0m\u001b[1;30mallocate_lock() -> lock object\u001b[0m\n",
       "    \u001b[1;34mbeta\u001b[0m\u001b[1;34m: \u001b[0m\u001b[1;30mbeta(a, b, size=None)\u001b[0m\n",
       "    \u001b[1;34mbinomial\u001b[0m\u001b[1;34m: \u001b[0m\u001b[1;30mbinomial(n, p, size=None)\u001b[0m\n",
       "    \u001b[1;34mbytes\u001b[0m\u001b[1;34m: \u001b[0m\u001b[1;30mbytes(length)\u001b[0m\n",
       "    \u001b[1;34mchisquare\u001b[0m\u001b[1;34m: \u001b[0m\u001b[1;30mchisquare(df, size=None)\u001b[0m\n",
       "    \u001b[1;34mchoice\u001b[0m\u001b[1;34m: \u001b[0m\u001b[1;30mchoice(a, size=None, replace=True, p=None)\u001b[0m\n",
       "    \u001b[1;34mdirichlet\u001b[0m\u001b[1;34m: \u001b[0m\u001b[1;30mdirichlet(alpha, size=None)\u001b[0m\n",
       "    \u001b[1;34mexponential\u001b[0m\u001b[1;34m: \u001b[0m\u001b[1;30mexponential(scale=1.0, size=None)\u001b[0m\n",
       "    \u001b[1;34mf\u001b[0m\u001b[1;34m: \u001b[0m\u001b[1;30mf(dfnum, dfden, size=None)\u001b[0m\n",
       "    \u001b[1;34mgamma\u001b[0m\u001b[1;34m: \u001b[0m\u001b[1;30mgamma(shape, scale=1.0, size=None)\u001b[0m\n",
       "    \u001b[1;34mgeometric\u001b[0m\u001b[1;34m: \u001b[0m\u001b[1;30mgeometric(p, size=None)\u001b[0m\n",
       "    \u001b[1;34mget_state\u001b[0m\u001b[1;34m: \u001b[0m\u001b[1;30mget_state()\u001b[0m\n",
       "    \u001b[1;34mgumbel\u001b[0m\u001b[1;34m: \u001b[0m\u001b[1;30mgumbel(loc=0.0, scale=1.0, size=None)\u001b[0m\n",
       "    \u001b[1;34mhypergeometric\u001b[0m\u001b[1;34m: \u001b[0m\u001b[1;30mhypergeometric(ngood, nbad, nsample, size=None)\u001b[0m\n",
       "    \u001b[1;34mlaplace\u001b[0m\u001b[1;34m: \u001b[0m\u001b[1;30mlaplace(loc=0.0, scale=1.0, size=None)\u001b[0m\n",
       "    \u001b[1;34mlogistic\u001b[0m\u001b[1;34m: \u001b[0m\u001b[1;30mlogistic(loc=0.0, scale=1.0, size=None)\u001b[0m\n",
       "    \u001b[1;34mlognormal\u001b[0m\u001b[1;34m: \u001b[0m\u001b[1;30mlognormal(mean=0.0, sigma=1.0, size=None)\u001b[0m\n",
       "    \u001b[1;34mlogseries\u001b[0m\u001b[1;34m: \u001b[0m\u001b[1;30mlogseries(p, size=None)\u001b[0m\n",
       "    \u001b[1;34mmultinomial\u001b[0m\u001b[1;34m: \u001b[0m\u001b[1;30mmultinomial(n, pvals, size=None)\u001b[0m\n",
       "    \u001b[1;34mmultivariate_normal\u001b[0m\u001b[1;34m: \u001b[0m\u001b[1;30mmultivariate_normal(mean, cov[, size, check_valid, tol])\u001b[0m\n",
       "    \u001b[1;34mnegative_binomial\u001b[0m\u001b[1;34m: \u001b[0m\u001b[1;30mnegative_binomial(n, p, size=None)\u001b[0m\n",
       "    \u001b[1;34mnoncentral_chisquare\u001b[0m\u001b[1;34m: \u001b[0m\u001b[1;30mnoncentral_chisquare(df, nonc, size=None)\u001b[0m\n",
       "    \u001b[1;34mnoncentral_f\u001b[0m\u001b[1;34m: \u001b[0m\u001b[1;30mnoncentral_f(dfnum, dfden, nonc, size=None)\u001b[0m\n",
       "    \u001b[1;34mnormal\u001b[0m\u001b[1;34m: \u001b[0m\u001b[1;30mnormal(loc=0.0, scale=1.0, size=None)\u001b[0m\n",
       "    \u001b[1;34mpareto\u001b[0m\u001b[1;34m: \u001b[0m\u001b[1;30mpareto(a, size=None)\u001b[0m\n",
       "    \u001b[1;34mpermutation\u001b[0m\u001b[1;34m: \u001b[0m\u001b[1;30mpermutation(x)\u001b[0m\n",
       "    \u001b[1;34mpoisson\u001b[0m\u001b[1;34m: \u001b[0m\u001b[1;30mpoisson(lam=1.0, size=None)\u001b[0m\n",
       "    \u001b[1;34mpower\u001b[0m\u001b[1;34m: \u001b[0m\u001b[1;30mpower(a, size=None)\u001b[0m\n",
       "    \u001b[1;34mrand\u001b[0m\u001b[1;34m: \u001b[0m\u001b[1;30mrand(d0, d1, ..., dn)\u001b[0m\n",
       "    \u001b[1;34mrandint\u001b[0m\u001b[1;34m: \u001b[0m\u001b[1;30mrandint(low, high=None, size=None, dtype='l')\u001b[0m\n",
       "    \u001b[1;34mrandn\u001b[0m\u001b[1;34m: \u001b[0m\u001b[1;30mrandn(d0, d1, ..., dn)\u001b[0m\n",
       "    \u001b[1;34mrandom\u001b[0m\u001b[1;34m: \u001b[0m\u001b[1;30mrandom_sample(size=None)\u001b[0m\n",
       "    \u001b[1;34mrandom_integers\u001b[0m\u001b[1;34m: \u001b[0m\u001b[1;30mrandom_integers(low, high=None, size=None)\u001b[0m\n",
       "    \u001b[1;34mrandom_sample\u001b[0m\u001b[1;34m: \u001b[0m\u001b[1;30mrandom_sample(size=None)\u001b[0m\n",
       "    \u001b[1;34mranf\u001b[0m\u001b[1;34m: \u001b[0m\u001b[1;30mrandom_sample(size=None)\u001b[0m\n",
       "    \u001b[1;34mrayleigh\u001b[0m\u001b[1;34m: \u001b[0m\u001b[1;30mrayleigh(scale=1.0, size=None)\u001b[0m\n",
       "    \u001b[1;34msample\u001b[0m\u001b[1;34m: \u001b[0m\u001b[1;30mrandom_sample(size=None)\u001b[0m\n",
       "    \u001b[1;34mseed\u001b[0m\u001b[1;34m: \u001b[0m\u001b[1;30mseed(seed=None)\u001b[0m\n",
       "    \u001b[1;34mset_state\u001b[0m\u001b[1;34m: \u001b[0m\u001b[1;30mset_state(state)\u001b[0m\n",
       "    \u001b[1;34mshuffle\u001b[0m\u001b[1;34m: \u001b[0m\u001b[1;30mshuffle(x)\u001b[0m\n",
       "    \u001b[1;34mstandard_cauchy\u001b[0m\u001b[1;34m: \u001b[0m\u001b[1;30mstandard_cauchy(size=None)\u001b[0m\n",
       "    \u001b[1;34mstandard_exponential\u001b[0m\u001b[1;34m: \u001b[0m\u001b[1;30mstandard_exponential(size=None)\u001b[0m\n",
       "    \u001b[1;34mstandard_gamma\u001b[0m\u001b[1;34m: \u001b[0m\u001b[1;30mstandard_gamma(shape, size=None)\u001b[0m\n",
       "    \u001b[1;34mstandard_normal\u001b[0m\u001b[1;34m: \u001b[0m\u001b[1;30mstandard_normal(size=None)\u001b[0m\n",
       "    \u001b[1;34mstandard_t\u001b[0m\u001b[1;34m: \u001b[0m\u001b[1;30mstandard_t(df, size=None)\u001b[0m\n",
       "    \u001b[1;34mtriangular\u001b[0m\u001b[1;34m: \u001b[0m\u001b[1;30mtriangular(left, mode, right, size=None)\u001b[0m\n",
       "    \u001b[1;34muniform\u001b[0m\u001b[1;34m: \u001b[0m\u001b[1;30muniform(low=0.0, high=1.0, size=None)\u001b[0m\n",
       "    \u001b[1;34mvonmises\u001b[0m\u001b[1;34m: \u001b[0m\u001b[1;30mvonmises(mu, kappa, size=None)\u001b[0m\n",
       "    \u001b[1;34mwald\u001b[0m\u001b[1;34m: \u001b[0m\u001b[1;30mwald(mean, scale, size=None)\u001b[0m\n",
       "    \u001b[1;34mweibull\u001b[0m\u001b[1;34m: \u001b[0m\u001b[1;30mweibull(a, size=None)\u001b[0m\n",
       "    \u001b[1;34mzipf\u001b[0m\u001b[1;34m: \u001b[0m\u001b[1;30mzipf(a, size=None)\u001b[0m"
      ]
     },
     "execution_count": 593,
     "metadata": {},
     "output_type": "execute_result"
    }
   ],
   "source": [
    "import numpy as np\n",
    "dir(np.random).public"
   ]
  },
  {
   "cell_type": "code",
   "execution_count": 357,
   "metadata": {
    "slideshow": {
     "slide_type": "slide"
    }
   },
   "outputs": [
    {
     "data": {
      "text/plain": [
       "\u001b[0;35mproperty:\u001b[0m\n",
       "    \u001b[1;34mabsolute_import\u001b[0m\u001b[1;34m, \u001b[0m\u001b[1;34malpha\u001b[0m\u001b[1;34m, \u001b[0m\u001b[1;34manglit\u001b[0m\u001b[1;34m, \u001b[0m\u001b[1;34marcsine\u001b[0m\u001b[1;34m, \u001b[0m\u001b[1;34margus\u001b[0m\u001b[1;34m, \u001b[0m\u001b[1;34mbernoulli\u001b[0m\u001b[1;34m, \u001b[0m\u001b[1;34mbeta\u001b[0m\u001b[1;34m, \u001b[0m\u001b[1;34mbetaprime\u001b[0m\u001b[1;34m, \u001b[0m\u001b[1;34mbinom\u001b[0m\u001b[1;34m, \u001b[0m\u001b[1;34mboltzmann\u001b[0m\u001b[1;34m, \u001b[0m\u001b[1;34mbradford\u001b[0m\u001b[1;34m, \u001b[0m\u001b[1;34mburr\u001b[0m\u001b[1;34m, \u001b[0m\u001b[1;34mburr12\u001b[0m\u001b[1;34m, \u001b[0m\u001b[1;34mcauchy\u001b[0m\u001b[1;34m, \u001b[0m\u001b[1;34mchi\u001b[0m\u001b[1;34m, \u001b[0m\u001b[1;34mchi2\u001b[0m\u001b[1;34m, \u001b[0m\u001b[1;34mcontingency\u001b[0m\u001b[1;34m, \u001b[0m\u001b[1;34mcosine\u001b[0m\u001b[1;34m, \u001b[0m\u001b[1;34mcrystalball\u001b[0m\u001b[1;34m, \u001b[0m\u001b[1;34mdgamma\u001b[0m\u001b[1;34m, \u001b[0m\u001b[1;34mdirichlet\u001b[0m\u001b[1;34m, \u001b[0m\u001b[1;34mdistributions\u001b[0m\u001b[1;34m, \u001b[0m\u001b[1;34mdivision\u001b[0m\u001b[1;34m, \u001b[0m\u001b[1;34mdlaplace\u001b[0m\u001b[1;34m, \u001b[0m\u001b[1;34mdweibull\u001b[0m\u001b[1;34m, \u001b[0m\u001b[1;34merlang\u001b[0m\u001b[1;34m, \u001b[0m\u001b[1;34mexpon\u001b[0m\u001b[1;34m, \u001b[0m\u001b[1;34mexponnorm\u001b[0m\u001b[1;34m, \u001b[0m\u001b[1;34mexponpow\u001b[0m\u001b[1;34m, \u001b[0m\u001b[1;34mexponweib\u001b[0m\u001b[1;34m, \u001b[0m\u001b[1;34mf\u001b[0m\u001b[1;34m, \u001b[0m\u001b[1;34mfatiguelife\u001b[0m\u001b[1;34m, \u001b[0m\u001b[1;34mfisk\u001b[0m\u001b[1;34m, \u001b[0m\u001b[1;34mfoldcauchy\u001b[0m\u001b[1;34m, \u001b[0m\u001b[1;34mfoldnorm\u001b[0m\u001b[1;34m, \u001b[0m\u001b[1;34mfrechet_l\u001b[0m\u001b[1;34m, \u001b[0m\u001b[1;34mfrechet_r\u001b[0m\u001b[1;34m, \u001b[0m\u001b[1;34mgamma\u001b[0m\u001b[1;34m, \u001b[0m\u001b[1;34mgausshyper\u001b[0m\u001b[1;34m, \u001b[0m\u001b[1;34mgenexpon\u001b[0m\u001b[1;34m, \u001b[0m\u001b[1;34mgenextreme\u001b[0m\u001b[1;34m, \u001b[0m\u001b[1;34mgengamma\u001b[0m\u001b[1;34m, \u001b[0m\u001b[1;34mgenhalflogistic\u001b[0m\u001b[1;34m, \u001b[0m\u001b[1;34mgenlogistic\u001b[0m\u001b[1;34m, \u001b[0m\u001b[1;34mgennorm\u001b[0m\u001b[1;34m, \u001b[0m\u001b[1;34mgenpareto\u001b[0m\u001b[1;34m, \u001b[0m\u001b[1;34mgeom\u001b[0m\u001b[1;34m, \u001b[0m\u001b[1;34mgilbrat\u001b[0m\u001b[1;34m, \u001b[0m\u001b[1;34mgompertz\u001b[0m\u001b[1;34m, \u001b[0m\u001b[1;34mgumbel_l\u001b[0m\u001b[1;34m, \u001b[0m\u001b[1;34mgumbel_r\u001b[0m\u001b[1;34m, \u001b[0m\u001b[1;34mhalfcauchy\u001b[0m\u001b[1;34m, \u001b[0m\u001b[1;34mhalfgennorm\u001b[0m\u001b[1;34m, \u001b[0m\u001b[1;34mhalflogistic\u001b[0m\u001b[1;34m, \u001b[0m\u001b[1;34mhalfnorm\u001b[0m\u001b[1;34m, \u001b[0m\u001b[1;34mhypergeom\u001b[0m\u001b[1;34m, \u001b[0m\u001b[1;34mhypsecant\u001b[0m\u001b[1;34m, \u001b[0m\u001b[1;34minvgamma\u001b[0m\u001b[1;34m, \u001b[0m\u001b[1;34minvgauss\u001b[0m\u001b[1;34m, \u001b[0m\u001b[1;34minvweibull\u001b[0m\u001b[1;34m, \u001b[0m\u001b[1;34minvwishart\u001b[0m\u001b[1;34m, \u001b[0m\u001b[1;34mjohnsonsb\u001b[0m\u001b[1;34m, \u001b[0m\u001b[1;34mjohnsonsu\u001b[0m\u001b[1;34m, \u001b[0m\u001b[1;34mkappa3\u001b[0m\u001b[1;34m, \u001b[0m\u001b[1;34mkappa4\u001b[0m\u001b[1;34m, \u001b[0m\u001b[1;34mkde\u001b[0m\u001b[1;34m, \u001b[0m\u001b[1;34mksone\u001b[0m\u001b[1;34m, \u001b[0m\u001b[1;34mkstwobign\u001b[0m\u001b[1;34m, \u001b[0m\u001b[1;34mlaplace\u001b[0m\u001b[1;34m, \u001b[0m\u001b[1;34mlevy\u001b[0m\u001b[1;34m, \u001b[0m\u001b[1;34mlevy_l\u001b[0m\u001b[1;34m, \u001b[0m\u001b[1;34mlevy_stable\u001b[0m\u001b[1;34m, \u001b[0m\u001b[1;34mloggamma\u001b[0m\u001b[1;34m, \u001b[0m\u001b[1;34mlogistic\u001b[0m\u001b[1;34m, \u001b[0m\u001b[1;34mloglaplace\u001b[0m\u001b[1;34m, \u001b[0m\u001b[1;34mlognorm\u001b[0m\u001b[1;34m, \u001b[0m\u001b[1;34mlogser\u001b[0m\u001b[1;34m, \u001b[0m\u001b[1;34mlomax\u001b[0m\u001b[1;34m, \u001b[0m\u001b[1;34mmatrix_normal\u001b[0m\u001b[1;34m, \u001b[0m\u001b[1;34mmaxwell\u001b[0m\u001b[1;34m, \u001b[0m\u001b[1;34mmielke\u001b[0m\u001b[1;34m, \u001b[0m\u001b[1;34mmorestats\u001b[0m\u001b[1;34m, \u001b[0m\u001b[1;34mmoyal\u001b[0m\u001b[1;34m, \u001b[0m\u001b[1;34mmstats\u001b[0m\u001b[1;34m, \u001b[0m\u001b[1;34mmstats_basic\u001b[0m\u001b[1;34m, \u001b[0m\u001b[1;34mmstats_extras\u001b[0m\u001b[1;34m, \u001b[0m\u001b[1;34mmultinomial\u001b[0m\u001b[1;34m, \u001b[0m\u001b[1;34mmultivariate_normal\u001b[0m\u001b[1;34m, \u001b[0m\u001b[1;34mmvn\u001b[0m\u001b[1;34m, \u001b[0m\u001b[1;34mnakagami\u001b[0m\u001b[1;34m, \u001b[0m\u001b[1;34mnbinom\u001b[0m\u001b[1;34m, \u001b[0m\u001b[1;34mncf\u001b[0m\u001b[1;34m, \u001b[0m\u001b[1;34mnct\u001b[0m\u001b[1;34m, \u001b[0m\u001b[1;34mncx2\u001b[0m\u001b[1;34m, \u001b[0m\u001b[1;34mnorm\u001b[0m\u001b[1;34m, \u001b[0m\u001b[1;34mnorminvgauss\u001b[0m\u001b[1;34m, \u001b[0m\u001b[1;34mortho_group\u001b[0m\u001b[1;34m, \u001b[0m\u001b[1;34mpareto\u001b[0m\u001b[1;34m, \u001b[0m\u001b[1;34mpearson3\u001b[0m\u001b[1;34m, \u001b[0m\u001b[1;34mplanck\u001b[0m\u001b[1;34m, \u001b[0m\u001b[1;34mpoisson\u001b[0m\u001b[1;34m, \u001b[0m\u001b[1;34mpowerlaw\u001b[0m\u001b[1;34m, \u001b[0m\u001b[1;34mpowerlognorm\u001b[0m\u001b[1;34m, \u001b[0m\u001b[1;34mpowernorm\u001b[0m\u001b[1;34m, \u001b[0m\u001b[1;34mprint_function\u001b[0m\u001b[1;34m, \u001b[0m\u001b[1;34mrandint\u001b[0m\u001b[1;34m, \u001b[0m\u001b[1;34mrandom_correlation\u001b[0m\u001b[1;34m, \u001b[0m\u001b[1;34mrayleigh\u001b[0m\u001b[1;34m, \u001b[0m\u001b[1;34mrdist\u001b[0m\u001b[1;34m, \u001b[0m\u001b[1;34mrecipinvgauss\u001b[0m\u001b[1;34m, \u001b[0m\u001b[1;34mreciprocal\u001b[0m\u001b[1;34m, \u001b[0m\u001b[1;34mrice\u001b[0m\u001b[1;34m, \u001b[0m\u001b[1;34msemicircular\u001b[0m\u001b[1;34m, \u001b[0m\u001b[1;34mskellam\u001b[0m\u001b[1;34m, \u001b[0m\u001b[1;34mskewnorm\u001b[0m\u001b[1;34m, \u001b[0m\u001b[1;34mspecial_ortho_group\u001b[0m\u001b[1;34m, \u001b[0m\u001b[1;34mstatlib\u001b[0m\u001b[1;34m, \u001b[0m\u001b[1;34mstats\u001b[0m\u001b[1;34m, \u001b[0m\u001b[1;34mt\u001b[0m\u001b[1;34m, \u001b[0m\u001b[1;34mtest\u001b[0m\u001b[1;34m, \u001b[0m\u001b[1;34mtrapz\u001b[0m\u001b[1;34m, \u001b[0m\u001b[1;34mtriang\u001b[0m\u001b[1;34m, \u001b[0m\u001b[1;34mtruncexpon\u001b[0m\u001b[1;34m, \u001b[0m\u001b[1;34mtruncnorm\u001b[0m\u001b[1;34m, \u001b[0m\u001b[1;34mtukeylambda\u001b[0m\u001b[1;34m, \u001b[0m\u001b[1;34muniform\u001b[0m\u001b[1;34m, \u001b[0m\u001b[1;34munitary_group\u001b[0m\u001b[1;34m, \u001b[0m\u001b[1;34mvonmises\u001b[0m\u001b[1;34m, \u001b[0m\u001b[1;34mvonmises_line\u001b[0m\u001b[1;34m, \u001b[0m\u001b[1;34mwald\u001b[0m\u001b[1;34m, \u001b[0m\u001b[1;34mweibull_max\u001b[0m\u001b[1;34m, \u001b[0m\u001b[1;34mweibull_min\u001b[0m\u001b[1;34m, \u001b[0m\u001b[1;34mwishart\u001b[0m\u001b[1;34m, \u001b[0m\u001b[1;34mwrapcauchy\u001b[0m\u001b[1;34m, \u001b[0m\u001b[1;34myulesimon\u001b[0m\u001b[1;34m, \u001b[0m\u001b[1;34mzipf\u001b[0m"
      ]
     },
     "execution_count": 357,
     "metadata": {},
     "output_type": "execute_result"
    }
   ],
   "source": [
    "import scipy.stats as st\n",
    "dir(st).properties.public"
   ]
  },
  {
   "cell_type": "code",
   "execution_count": 377,
   "metadata": {
    "slideshow": {
     "slide_type": "slide"
    }
   },
   "outputs": [
    {
     "data": {
      "text/plain": [
       "\u001b[0;35mproperty:\u001b[0m\n",
       "    \u001b[1;34ma\u001b[0m\u001b[1;34m, \u001b[0m\u001b[1;34mb\u001b[0m\u001b[1;34m, \u001b[0m\u001b[1;34mbadvalue\u001b[0m\u001b[1;34m, \u001b[0m\u001b[1;34mextradoc\u001b[0m\u001b[1;34m, \u001b[0m\u001b[1;34mgeneric_moment\u001b[0m\u001b[1;34m, \u001b[0m\u001b[1;34mmoment_type\u001b[0m\u001b[1;34m, \u001b[0m\u001b[1;34mname\u001b[0m\u001b[1;34m, \u001b[0m\u001b[1;34mnumargs\u001b[0m\u001b[1;34m, \u001b[0m\u001b[1;34mshapes\u001b[0m\u001b[1;34m, \u001b[0m\u001b[1;34mvecentropy\u001b[0m\u001b[1;34m, \u001b[0m\u001b[1;34mxtol\u001b[0m\n",
       "\u001b[0;35mdescriptor:\u001b[0m\n",
       "    \u001b[1;34mrandom_state\u001b[0m\u001b[1;34m: \u001b[0m\u001b[1;30m@property with getter, setter, Get or set the RandomState object for generating random variates.\u001b[0m\n",
       "\u001b[0;35mfunction:\u001b[0m\n",
       "    \u001b[1;34mcdf\u001b[0m\u001b[1;34m: \u001b[0m\u001b[1;30mCumulative distribution function of the given RV.\u001b[0m\n",
       "    \u001b[1;34mentropy\u001b[0m\u001b[1;34m: \u001b[0m\u001b[1;30mDifferential entropy of the RV.\u001b[0m\n",
       "    \u001b[1;34mexpect\u001b[0m\u001b[1;34m: \u001b[0m\u001b[1;30mCalculate expected value of a function with respect to the\u001b[0m\n",
       "    \u001b[1;34mfit\u001b[0m\u001b[1;34m: \u001b[0m\u001b[1;30mReturn MLEs for shape (if applicable), location, and scale\u001b[0m\n",
       "    \u001b[1;34mfit_loc_scale\u001b[0m\u001b[1;34m: \u001b[0m\u001b[1;30mEstimate loc and scale parameters from data using 1st and 2nd moments.\u001b[0m\n",
       "    \u001b[1;34mfreeze\u001b[0m\u001b[1;34m: \u001b[0m\u001b[1;30mFreeze the distribution for the given arguments.\u001b[0m\n",
       "    \u001b[1;34minterval\u001b[0m\u001b[1;34m: \u001b[0m\u001b[1;30mConfidence interval with equal areas around the median.\u001b[0m\n",
       "    \u001b[1;34misf\u001b[0m\u001b[1;34m: \u001b[0m\u001b[1;30mInverse survival function (inverse of `sf`) at q of the given RV.\u001b[0m\n",
       "    \u001b[1;34mlogcdf\u001b[0m\u001b[1;34m: \u001b[0m\u001b[1;30mLog of the cumulative distribution function at x of the given RV.\u001b[0m\n",
       "    \u001b[1;34mlogpdf\u001b[0m\u001b[1;34m: \u001b[0m\u001b[1;30mLog of the probability density function at x of the given RV.\u001b[0m\n",
       "    \u001b[1;34mlogsf\u001b[0m\u001b[1;34m: \u001b[0m\u001b[1;30mLog of the survival function of the given RV.\u001b[0m\n",
       "    \u001b[1;34mmean\u001b[0m\u001b[1;34m: \u001b[0m\u001b[1;30mMean of the distribution.\u001b[0m\n",
       "    \u001b[1;34mmedian\u001b[0m\u001b[1;34m: \u001b[0m\u001b[1;30mMedian of the distribution.\u001b[0m\n",
       "    \u001b[1;34mmoment\u001b[0m\u001b[1;34m: \u001b[0m\u001b[1;30mn-th order non-central moment of distribution.\u001b[0m\n",
       "    \u001b[1;34mnnlf\u001b[0m\u001b[1;34m: \u001b[0m\u001b[1;30mReturn negative loglikelihood function.\u001b[0m\n",
       "    \u001b[1;34mpdf\u001b[0m\u001b[1;34m: \u001b[0m\u001b[1;30mProbability density function at x of the given RV.\u001b[0m\n",
       "    \u001b[1;34mppf\u001b[0m\u001b[1;34m: \u001b[0m\u001b[1;30mPercent point function (inverse of `cdf`) at q of the given RV.\u001b[0m\n",
       "    \u001b[1;34mrvs\u001b[0m\u001b[1;34m: \u001b[0m\u001b[1;30mRandom variates of given type.\u001b[0m\n",
       "    \u001b[1;34msf\u001b[0m\u001b[1;34m: \u001b[0m\u001b[1;30mSurvival function (1 - `cdf`) at x of the given RV.\u001b[0m\n",
       "    \u001b[1;34mstats\u001b[0m\u001b[1;34m: \u001b[0m\u001b[1;30mSome statistics of the given RV.\u001b[0m\n",
       "    \u001b[1;34mstd\u001b[0m\u001b[1;34m: \u001b[0m\u001b[1;30mStandard deviation of the distribution.\u001b[0m\n",
       "    \u001b[1;34mvar\u001b[0m\u001b[1;34m: \u001b[0m\u001b[1;30mVariance of the distribution.\u001b[0m"
      ]
     },
     "execution_count": 377,
     "metadata": {},
     "output_type": "execute_result"
    }
   ],
   "source": [
    "dir(st.gamma).public"
   ]
  },
  {
   "cell_type": "markdown",
   "metadata": {
    "slideshow": {
     "slide_type": "slide"
    }
   },
   "source": [
    "all thes distributions are described using a **location** and **scale** parameter, and, if necessary, one or more **shape** parameters.\n",
    "\n",
    "Basically they can describe all translation and scaling of the basic function.\n",
    "\n",
    "This is usually different from the traditional parametrization, and this can lead to some problems here and there"
   ]
  },
  {
   "cell_type": "code",
   "execution_count": 379,
   "metadata": {
    "slideshow": {
     "slide_type": "slide"
    }
   },
   "outputs": [
    {
     "name": "stdout",
     "output_type": "stream",
     "text": [
      "Help on method rvs in module scipy.stats._distn_infrastructure:\n",
      "\n",
      "rvs(*args, **kwds) method of scipy.stats._continuous_distns.gamma_gen instance\n",
      "    Random variates of given type.\n",
      "    \n",
      "    Parameters\n",
      "    ----------\n",
      "    arg1, arg2, arg3,... : array_like\n",
      "        The shape parameter(s) for the distribution (see docstring of the\n",
      "        instance object for more information).\n",
      "    loc : array_like, optional\n",
      "        Location parameter (default=0).\n",
      "    scale : array_like, optional\n",
      "        Scale parameter (default=1).\n",
      "    size : int or tuple of ints, optional\n",
      "        Defining number of random variates (default is 1).\n",
      "    random_state : None or int or ``np.random.RandomState`` instance, optional\n",
      "        If int or RandomState, use it for drawing the random variates.\n",
      "        If None, rely on ``self.random_state``.\n",
      "        Default is None.\n",
      "    \n",
      "    Returns\n",
      "    -------\n",
      "    rvs : ndarray or scalar\n",
      "        Random variates of given `size`.\n",
      "\n"
     ]
    }
   ],
   "source": [
    "help(st.gamma.rvs)"
   ]
  },
  {
   "cell_type": "markdown",
   "metadata": {
    "slideshow": {
     "slide_type": "slide"
    }
   },
   "source": [
    "these distributions can be used in frozen or unfrozen state.\n",
    "\n",
    "a frozen distribution has its parameters fixed, while an unfrozen one requires them every time"
   ]
  },
  {
   "cell_type": "code",
   "execution_count": 381,
   "metadata": {
    "slideshow": {
     "slide_type": "slide"
    }
   },
   "outputs": [
    {
     "data": {
      "text/plain": [
       "array([1.26527731, 2.04624127, 0.59565769])"
      ]
     },
     "execution_count": 381,
     "metadata": {},
     "output_type": "execute_result"
    }
   ],
   "source": [
    "st.gamma.rvs(2.0, loc=0, scale=1, size=3)"
   ]
  },
  {
   "cell_type": "code",
   "execution_count": 382,
   "metadata": {
    "slideshow": {
     "slide_type": "fragment"
    }
   },
   "outputs": [
    {
     "data": {
      "text/plain": [
       "array([0.42775444, 1.07160098, 0.92292052])"
      ]
     },
     "execution_count": 382,
     "metadata": {},
     "output_type": "execute_result"
    }
   ],
   "source": [
    "dist = st.gamma(2.0, loc=0, scale=1)\n",
    "dist.rvs(3)"
   ]
  },
  {
   "cell_type": "code",
   "execution_count": 388,
   "metadata": {
    "slideshow": {
     "slide_type": "slide"
    }
   },
   "outputs": [
    {
     "data": {
      "text/plain": [
       "[<matplotlib.lines.Line2D at 0x7feb87a60358>]"
      ]
     },
     "execution_count": 388,
     "metadata": {},
     "output_type": "execute_result"
    },
    {
     "data": {
      "image/png": "[encoded data removed]",
      "text/plain": [
       "<Figure size 432x288 with 1 Axes>"
      ]
     },
     "metadata": {
      "needs_background": "light"
     },
     "output_type": "display_data"
    }
   ],
   "source": [
    "x = np.linspace(0, 5, 1000)\n",
    "pdf_value = dist.pdf(x)\n",
    "plt.plot(x, pdf_value)"
   ]
  },
  {
   "cell_type": "code",
   "execution_count": 383,
   "metadata": {
    "slideshow": {
     "slide_type": "slide"
    }
   },
   "outputs": [],
   "source": [
    "dist = st.gamma(2.0, loc=0, scale=1)\n",
    "data = dist.rvs(30)"
   ]
  },
  {
   "cell_type": "code",
   "execution_count": 384,
   "metadata": {
    "slideshow": {
     "slide_type": "fragment"
    }
   },
   "outputs": [
    {
     "data": {
      "text/plain": [
       "(1.3673911820844111, 0.16370902789591774, 1.189440171001709)"
      ]
     },
     "execution_count": 384,
     "metadata": {},
     "output_type": "execute_result"
    }
   ],
   "source": [
    "st.gamma.fit(data)\n",
    "# alpha, location and scale"
   ]
  },
  {
   "cell_type": "markdown",
   "metadata": {
    "slideshow": {
     "slide_type": "slide"
    }
   },
   "source": [
    "location is a shift, and it might not be appropriate for distributions like the gamma!\n",
    "the fit method allow us to fix it to a certain value"
   ]
  },
  {
   "cell_type": "code",
   "execution_count": 385,
   "metadata": {
    "slideshow": {
     "slide_type": "fragment"
    }
   },
   "outputs": [
    {
     "data": {
      "text/plain": [
       "(1.9551561743594468, 0, 0.9155760093744815)"
      ]
     },
     "execution_count": 385,
     "metadata": {},
     "output_type": "execute_result"
    }
   ],
   "source": [
    "st.gamma.fit(data, floc=0)\n",
    "# alpha, location and scale"
   ]
  },
  {
   "cell_type": "markdown",
   "metadata": {
    "slideshow": {
     "slide_type": "fragment"
    }
   },
   "source": [
    "the result is clearly better!"
   ]
  },
  {
   "cell_type": "code",
   "execution_count": 386,
   "metadata": {
    "slideshow": {
     "slide_type": "slide"
    }
   },
   "outputs": [],
   "source": [
    "params = st.gamma.fit(data, floc=0)\n",
    "new_dist = st.gamma(*params)"
   ]
  },
  {
   "cell_type": "code",
   "execution_count": 387,
   "metadata": {
    "slideshow": {
     "slide_type": "fragment"
    }
   },
   "outputs": [
    {
     "data": {
      "text/plain": [
       "<matplotlib.axes._subplots.AxesSubplot at 0x7feb87b6a470>"
      ]
     },
     "execution_count": 387,
     "metadata": {},
     "output_type": "execute_result"
    },
    {
     "data": {
      "image/png": "[encoded data removed]",
      "text/plain": [
       "<Figure size 432x288 with 1 Axes>"
      ]
     },
     "metadata": {
      "needs_background": "light"
     },
     "output_type": "display_data"
    }
   ],
   "source": [
    "sbn.distplot(dist.rvs(10_000))\n",
    "sbn.distplot(new_dist.rvs(10_000))"
   ]
  },
  {
   "cell_type": "markdown",
   "metadata": {
    "slideshow": {
     "slide_type": "slide"
    }
   },
   "source": [
    "one can notice that the histogram is incorrect, as is doing a kernel density estimation and it has borders that go below zero...\n",
    "\n",
    "seaborn allows us to use an arbitrary function for showing the distribution, that has to follow the same interface as a scipy distribution:\n",
    "\n",
    "* a **fit** function that returns a tuple of parameters\n",
    "* a **pdf** function that takes the parameters and the x positions and returns the pdf values\n",
    "\n",
    "we could use the distributions directly, but seaborn does not yet allow to configure the fit to remove the location (it should do in the next version after the 0.9), so we have to implement it ourselves"
   ]
  },
  {
   "cell_type": "code",
   "execution_count": 394,
   "metadata": {
    "slideshow": {
     "slide_type": "slide"
    }
   },
   "outputs": [
    {
     "data": {
      "text/plain": [
       "<matplotlib.axes._subplots.AxesSubplot at 0x7feb87777ef0>"
      ]
     },
     "execution_count": 394,
     "metadata": {},
     "output_type": "execute_result"
    },
    {
     "data": {
      "image/png": "[encoded data removed]",
      "text/plain": [
       "<Figure size 432x288 with 1 Axes>"
      ]
     },
     "metadata": {
      "needs_background": "light"
     },
     "output_type": "display_data"
    }
   ],
   "source": [
    "class GammaFitter:\n",
    "    def fit(self, data):\n",
    "        return st.gamma.fit(data, floc=0)\n",
    "    \n",
    "    def pdf(self, x, *params):\n",
    "        return st.gamma.pdf(x, *params)\n",
    "    \n",
    "sbn.distplot(dist.rvs(10_000), kde=False, fit=GammaFitter())"
   ]
  },
  {
   "cell_type": "markdown",
   "metadata": {
    "slideshow": {
     "slide_type": "slide"
    }
   },
   "source": [
    "## Exercise 1\n",
    "\n",
    "try to implement a more generic fitter for seaborn, that allow to choose wich parameters to fix and can be used, and make it extendible to other distributions of the same kind"
   ]
  },
  {
   "cell_type": "markdown",
   "metadata": {
    "slideshow": {
     "slide_type": "slide"
    }
   },
   "source": [
    "## Visualizing the ECDF (Empirical distribution function)"
   ]
  },
  {
   "cell_type": "code",
   "execution_count": 649,
   "metadata": {
    "slideshow": {
     "slide_type": "slide"
    }
   },
   "outputs": [
    {
     "data": {
      "text/plain": [
       "array([-0.6561222 ,  1.02863093, -0.3788329 ,  0.02472737])"
      ]
     },
     "execution_count": 649,
     "metadata": {},
     "output_type": "execute_result"
    }
   ],
   "source": [
    "data = plt.randn(4)\n",
    "data"
   ]
  },
  {
   "cell_type": "code",
   "execution_count": 650,
   "metadata": {
    "slideshow": {
     "slide_type": "slide"
    }
   },
   "outputs": [
    {
     "data": {
      "image/png": "[encoded data removed]",
      "text/plain": [
       "<Figure size 432x288 with 1 Axes>"
      ]
     },
     "metadata": {
      "needs_background": "light"
     },
     "output_type": "display_data"
    }
   ],
   "source": [
    "sns.distplot(data, hist=True, kde=False);\n",
    "sns.rugplot(data, height=0.1, linewidth=3, color='r');"
   ]
  },
  {
   "cell_type": "code",
   "execution_count": 651,
   "metadata": {
    "slideshow": {
     "slide_type": "slide"
    }
   },
   "outputs": [
    {
     "data": {
      "image/png": "[encoded data removed]",
      "text/plain": [
       "<Figure size 432x288 with 1 Axes>"
      ]
     },
     "metadata": {
      "needs_background": "light"
     },
     "output_type": "display_data"
    }
   ],
   "source": [
    "data_sorted = np.sort(data)\n",
    "index = np.linspace(0, 1, len(data_sorted))\n",
    "plt.plot(data_sorted, index, linestyle='steps-pre')\n",
    "sns.rugplot(data, height=0.1, linewidth=3, color='r');"
   ]
  },
  {
   "cell_type": "markdown",
   "metadata": {
    "slideshow": {
     "slide_type": "slide"
    }
   },
   "source": [
    "this is a reasonable visualization, but when we are going to use it later, the behavior is going to be closer to this:"
   ]
  },
  {
   "cell_type": "code",
   "execution_count": 652,
   "metadata": {
    "slideshow": {
     "slide_type": "fragment"
    }
   },
   "outputs": [
    {
     "data": {
      "image/png": "[encoded data removed]",
      "text/plain": [
       "<Figure size 432x288 with 1 Axes>"
      ]
     },
     "metadata": {
      "needs_background": "light"
     },
     "output_type": "display_data"
    }
   ],
   "source": [
    "data_sorted = np.sort(data)\n",
    "index = np.linspace(0, 1, len(data_sorted))\n",
    "plt.plot(data_sorted, index, linestyle='steps-post')\n",
    "sns.rugplot(data, height=0.1, linewidth=3, color='r');"
   ]
  },
  {
   "cell_type": "markdown",
   "metadata": {
    "slideshow": {
     "slide_type": "slide"
    }
   },
   "source": [
    "to reduce the borders effect, it is better to adjust how we estimate the indexes"
   ]
  },
  {
   "cell_type": "code",
   "execution_count": 630,
   "metadata": {
    "slideshow": {
     "slide_type": "fragment"
    }
   },
   "outputs": [
    {
     "data": {
      "text/plain": [
       "(0, 1)"
      ]
     },
     "execution_count": 630,
     "metadata": {},
     "output_type": "execute_result"
    },
    {
     "data": {
      "image/png": "[encoded data removed]",
      "text/plain": [
       "<Figure size 432x288 with 1 Axes>"
      ]
     },
     "metadata": {
      "needs_background": "light"
     },
     "output_type": "display_data"
    }
   ],
   "source": [
    "data_sorted = np.sort(data)\n",
    "\n",
    "index = np.linspace(0, 1, 1+len(data_sorted))\n",
    "index = index[1:]\n",
    "\n",
    "plt.plot(data_sorted, index, linestyle='steps-post')\n",
    "sns.rugplot(data, height=0.1, linewidth=3, color='r');\n",
    "plt.ylim(0,1)"
   ]
  },
  {
   "cell_type": "code",
   "execution_count": 653,
   "metadata": {
    "slideshow": {
     "slide_type": "slide"
    }
   },
   "outputs": [],
   "source": [
    "from enum import Enum\n",
    "class StepStyle(Enum):\n",
    "    STEP_POST = 'steps-post'\n",
    "    STEP_PRE = 'steps-pre'\n",
    "\n",
    "def plot_ecdf(data, ax=None, style=StepStyle.STEP_PRE):\n",
    "    if ax is None:\n",
    "        ax = plt.gca()\n",
    "    data_sorted = np.sort(data)\n",
    "    index = np.linspace(0, 1, 1+len(data_sorted))[1:]\n",
    "    ax.plot(data_sorted, index, linestyle='steps-post')"
   ]
  },
  {
   "cell_type": "code",
   "execution_count": 654,
   "metadata": {
    "slideshow": {
     "slide_type": "slide"
    }
   },
   "outputs": [
    {
     "data": {
      "image/png": "[encoded data removed]",
      "text/plain": [
       "<Figure size 432x288 with 1 Axes>"
      ]
     },
     "metadata": {
      "needs_background": "light"
     },
     "output_type": "display_data"
    }
   ],
   "source": [
    "plot_ecdf(plt.randn(100))"
   ]
  },
  {
   "cell_type": "code",
   "execution_count": null,
   "metadata": {
    "slideshow": {
     "slide_type": "slide"
    }
   },
   "outputs": [],
   "source": [
    "data = (5+plt.randn(100))**2\n",
    "data_sorted = np.sort(data)\n",
    "est_ecdf = np.linspace(0, 1, len(data_sorted)+1)[1:]\n",
    "\n",
    "dist = st.gamma\n",
    "params = dist.fit(data_sorted)\n",
    "frozen = dist(*params)\n",
    "teo_ecdf = 1-frozen.sf(data_sorted)"
   ]
  },
  {
   "cell_type": "code",
   "execution_count": 658,
   "metadata": {
    "slideshow": {
     "slide_type": "slide"
    }
   },
   "outputs": [
    {
     "data": {
      "text/plain": [
       "Text(0.5, 1.0, 'quantile quantile plot')"
      ]
     },
     "execution_count": 658,
     "metadata": {},
     "output_type": "execute_result"
    },
    {
     "data": {
      "image/png": "[encoded data removed]",
      "text/plain": [
       "<Figure size 1296x432 with 3 Axes>"
      ]
     },
     "metadata": {
      "needs_background": "light"
     },
     "output_type": "display_data"
    }
   ],
   "source": [
    "fig, (ax0, ax1, ax2) = plt.subplots(1, 3, figsize=(18, 6))\n",
    "\n",
    "counts, bins, _ = ax0.hist(data, density=True, alpha=0.5)\n",
    "ax0.hist(frozen.rvs(100_000), density=True, bins=bins, alpha=0.5)\n",
    "ax0.set_title(\"histogram plot\")\n",
    "\n",
    "ax1.plot(data_sorted, teo_ecdf, color='b')\n",
    "ax1.plot(data_sorted, est_ecdf, color='r')\n",
    "ax1.set_title(\"ecdf plot\")\n",
    "\n",
    "ax2.scatter(teo_ecdf, est_ecdf)\n",
    "ax2.plot(teo_ecdf, teo_ecdf, color='r')\n",
    "ax2.set_title(\"quantile quantile plot\")"
   ]
  },
  {
   "cell_type": "markdown",
   "metadata": {
    "slideshow": {
     "slide_type": "slide"
    }
   },
   "source": [
    "## Generating numbers with the ECDF"
   ]
  },
  {
   "cell_type": "code",
   "execution_count": 343,
   "metadata": {
    "slideshow": {
     "slide_type": "slide"
    }
   },
   "outputs": [
    {
     "data": {
      "text/plain": [
       "0.13041370191935675"
      ]
     },
     "execution_count": 343,
     "metadata": {},
     "output_type": "execute_result"
    }
   ],
   "source": [
    "plt.rand()"
   ]
  },
  {
   "cell_type": "code",
   "execution_count": 346,
   "metadata": {
    "slideshow": {
     "slide_type": "slide"
    }
   },
   "outputs": [],
   "source": [
    "data = (5+plt.randn(100))**2\n",
    "data_sorted = np.sort(data)\n",
    "est_ecdf = np.linspace(0, 1, 1+len(data_sorted))[1:]"
   ]
  },
  {
   "cell_type": "code",
   "execution_count": 347,
   "metadata": {
    "slideshow": {
     "slide_type": "slide"
    }
   },
   "outputs": [
    {
     "data": {
      "text/plain": [
       "20.115462913749713"
      ]
     },
     "execution_count": 347,
     "metadata": {},
     "output_type": "execute_result"
    }
   ],
   "source": [
    "p = plt.rand()\n",
    "idx = np.searchsorted(est_ecdf, p)\n",
    "val = data_sorted[idx]\n",
    "val"
   ]
  },
  {
   "cell_type": "code",
   "execution_count": 348,
   "metadata": {
    "slideshow": {
     "slide_type": "slide"
    }
   },
   "outputs": [
    {
     "data": {
      "text/plain": [
       "array([28.78496923, 31.64769229, 35.78583449, 35.78583449, 32.61468568,\n",
       "       20.35828101, 16.95870004, 18.15856544, 35.78583449, 18.14873844])"
      ]
     },
     "execution_count": 348,
     "metadata": {},
     "output_type": "execute_result"
    }
   ],
   "source": [
    "p = plt.rand(10)\n",
    "idx = np.searchsorted(est_ecdf, p)\n",
    "val = data_sorted[idx]\n",
    "val"
   ]
  },
  {
   "cell_type": "code",
   "execution_count": 349,
   "metadata": {
    "slideshow": {
     "slide_type": "slide"
    }
   },
   "outputs": [],
   "source": [
    "p = plt.rand(100_000)\n",
    "idx = np.searchsorted(est_ecdf, p)\n",
    "generated = data_sorted[idx]"
   ]
  },
  {
   "cell_type": "code",
   "execution_count": 350,
   "metadata": {
    "slideshow": {
     "slide_type": "slide"
    }
   },
   "outputs": [
    {
     "data": {
      "image/png": "[encoded data removed]",
      "text/plain": [
       "<Figure size 432x288 with 1 Axes>"
      ]
     },
     "metadata": {
      "needs_background": "light"
     },
     "output_type": "display_data"
    }
   ],
   "source": [
    "sns.distplot(data, hist=False, kde=False, rug=True);\n",
    "sns.distplot(generated, hist=True, kde=False, rug=False);"
   ]
  },
  {
   "cell_type": "markdown",
   "metadata": {
    "slideshow": {
     "slide_type": "slide"
    }
   },
   "source": [
    "## Monte Carlo methods\n",
    "\n",
    "a collection of methods that uses random sequences to estimate the average value of some specific functions, often integrals.\n",
    "\n",
    "we saw an example of this when we estimated the value of $\\pi$ using random numbers\n",
    "\n",
    "$$ \\int_{[0,1]^s} f(u)\\,{\\rm d}u \\approx \\frac{1}{N}\\,\\sum_{i=1}^N f(x_i). $$\n",
    "\n",
    "the rate of convergence by using N random numbers is $O\\left(\\frac{1}{\\sqrt{N}}\\right)$"
   ]
  },
  {
   "cell_type": "markdown",
   "metadata": {
    "slideshow": {
     "slide_type": "slide"
    }
   },
   "source": [
    "There are better methods for exploring a function if we can, and that is by using **low-discrepancy sequences**.\n",
    "\n",
    "These are sequences that looks quite random, but do not tend to cluster as random numbers do, covering the space in a more uniform way.\n",
    "\n",
    "low-discrepancy sequences converge with $O\\left(\\frac{1}{N}\\right)$, but they are a little more difficult to implement.\n",
    "\n",
    "These methods are called quasi-Monte Carlo, as they are not using proper pseudo-random numbers"
   ]
  },
  {
   "cell_type": "markdown",
   "metadata": {
    "slideshow": {
     "slide_type": "slide"
    }
   },
   "source": [
    "The simplest low-discrepancy sequence is the **Van der Corput sequence**, and is quite easy to implement:\n",
    "\n",
    "the denominators are increasing powers of the base, the numerators are all the values in that base, but sorted base on the last digit (skipping the numbers that ends in 0, as they would simplify and recreate previous ones)\n",
    "\n",
    "$$\\left\\{ \\tfrac{1}{10}, \\tfrac{2}{10}, \\tfrac{3}{10}, \\tfrac{4}{10}, \\tfrac{5}{10}, \\tfrac{6}{10}, \\tfrac{7}{10}, \\tfrac{8}{10}, \\tfrac{9}{10}, \\tfrac{01}{100}, \\tfrac{11}{100}, \\tfrac{21}{100}, \\tfrac{31}{100}, \\tfrac{41}{100}, \\tfrac{51}{100}, \\tfrac{61}{100}, \\tfrac{71}{100}, \\tfrac{81}{100}, \\tfrac{91}{100}, \\tfrac{02}{100}, \\tfrac{12}{100}, \\tfrac{22}{100}, \\tfrac{32}{100}, \\ldots \\right\\}$$"
   ]
  },
  {
   "cell_type": "code",
   "execution_count": 469,
   "metadata": {
    "slideshow": {
     "slide_type": "slide"
    }
   },
   "outputs": [],
   "source": [
    "def vdc(n, base=2):\n",
    "    vdc = 0\n",
    "    denom = 1\n",
    "    while n:\n",
    "        denom *= base\n",
    "        n, remainder = divmod(n, base)\n",
    "        vdc += remainder / denom\n",
    "    return vdc\n",
    "\n",
    "def avdn(n, base=10):\n",
    "    return np.array([vdc(i, base=base) for i in range(1, n+1)])"
   ]
  },
  {
   "cell_type": "code",
   "execution_count": 470,
   "metadata": {
    "slideshow": {
     "slide_type": "slide"
    }
   },
   "outputs": [
    {
     "data": {
      "text/plain": [
       "array([0.1 , 0.2 , 0.3 , 0.4 , 0.5 , 0.6 , 0.7 , 0.8 , 0.9 , 0.01, 0.11])"
      ]
     },
     "execution_count": 470,
     "metadata": {},
     "output_type": "execute_result"
    }
   ],
   "source": [
    "avdn(11)"
   ]
  },
  {
   "cell_type": "code",
   "execution_count": 633,
   "metadata": {
    "slideshow": {
     "slide_type": "slide"
    }
   },
   "outputs": [
    {
     "data": {
      "text/plain": [
       "[Fraction(1, 10),\n",
       " Fraction(1, 5),\n",
       " Fraction(3, 10),\n",
       " Fraction(2, 5),\n",
       " Fraction(1, 2),\n",
       " Fraction(3, 5),\n",
       " Fraction(7, 10),\n",
       " Fraction(4, 5),\n",
       " Fraction(9, 10),\n",
       " Fraction(1, 100)]"
      ]
     },
     "execution_count": 633,
     "metadata": {},
     "output_type": "execute_result"
    }
   ],
   "source": [
    "from fractions import Fraction\n",
    "[vdc(i, base=Fraction(10)) for i in range(1, 11)]"
   ]
  },
  {
   "cell_type": "code",
   "execution_count": 638,
   "metadata": {
    "slideshow": {
     "slide_type": "slide"
    }
   },
   "outputs": [
    {
     "data": {
      "image/png": "[encoded data removed]",
      "text/plain": [
       "<Figure size 864x432 with 2 Axes>"
      ]
     },
     "metadata": {
      "needs_background": "light"
     },
     "output_type": "display_data"
    }
   ],
   "source": [
    "fig, (ax1, ax2) = plt.subplots(1, 2, figsize=(12, 6))\n",
    "bins = np.linspace(0, 1, 21)\n",
    "ax1.hist(np.random.rand(1000), bins=bins)\n",
    "ax2.hist(avdn(1000), bins=bins);"
   ]
  },
  {
   "cell_type": "markdown",
   "metadata": {
    "slideshow": {
     "slide_type": "slide"
    }
   },
   "source": [
    "being a uniform sample generator, one can then use this to generate arbitrary random variables!"
   ]
  },
  {
   "cell_type": "markdown",
   "metadata": {
    "slideshow": {
     "slide_type": "fragment"
    }
   },
   "source": [
    "for example, to combined them to generate normally distributed data, we can use the **isf** function of the distributions!"
   ]
  },
  {
   "cell_type": "code",
   "execution_count": 473,
   "metadata": {
    "slideshow": {
     "slide_type": "slide"
    }
   },
   "outputs": [
    {
     "data": {
      "text/plain": [
       "0.8416212335729142"
      ]
     },
     "execution_count": 473,
     "metadata": {},
     "output_type": "execute_result"
    }
   ],
   "source": [
    "st.norm.isf(0.2)"
   ]
  },
  {
   "cell_type": "code",
   "execution_count": 474,
   "metadata": {
    "slideshow": {
     "slide_type": "fragment"
    }
   },
   "outputs": [
    {
     "data": {
      "text/plain": [
       "-1.2815515655446004"
      ]
     },
     "execution_count": 474,
     "metadata": {},
     "output_type": "execute_result"
    }
   ],
   "source": [
    "st.norm.isf(0.9)"
   ]
  },
  {
   "cell_type": "code",
   "execution_count": 639,
   "metadata": {
    "slideshow": {
     "slide_type": "slide"
    }
   },
   "outputs": [
    {
     "data": {
      "image/png": "[encoded data removed]",
      "text/plain": [
       "<Figure size 864x432 with 2 Axes>"
      ]
     },
     "metadata": {
      "needs_background": "light"
     },
     "output_type": "display_data"
    }
   ],
   "source": [
    "fig, (ax1, ax2) = plt.subplots(1, 2, figsize=(12, 6))\n",
    "ax1.hist(plt.randn(1000), bins=50);\n",
    "\n",
    "vdn_sample = avdn(1000)\n",
    "gaussian_samples = st.norm.isf(vdn_sample)\n",
    "ax2.hist(gaussian_samples, bins=50);"
   ]
  },
  {
   "cell_type": "markdown",
   "metadata": {
    "slideshow": {
     "slide_type": "slide"
    }
   },
   "source": [
    "the Van der Corput sequence can be generalized to multiple dimensions at the same time by the **Halton sequence**, that is generated in a similar fashion"
   ]
  },
  {
   "cell_type": "markdown",
   "metadata": {
    "slideshow": {
     "slide_type": "fragment"
    }
   },
   "source": [
    "A general library to generate these sequences in high dimensions is provided by the library **SALib**.\n",
    "\n",
    "You won't need it for today, but for real use, where the number of dimensions is high, it might be worth using it."
   ]
  },
  {
   "cell_type": "code",
   "execution_count": 512,
   "metadata": {
    "slideshow": {
     "slide_type": "slide"
    }
   },
   "outputs": [],
   "source": [
    "from SALib.sample import saltelli"
   ]
  },
  {
   "cell_type": "code",
   "execution_count": 572,
   "metadata": {
    "slideshow": {
     "slide_type": "fragment"
    }
   },
   "outputs": [],
   "source": [
    "problem = {\n",
    "    'num_vars': 2,\n",
    "    'names': ['x1', 'x2'],\n",
    "    'bounds': [[0, 1],\n",
    "               [0, 1],]\n",
    "}"
   ]
  },
  {
   "cell_type": "code",
   "execution_count": 573,
   "metadata": {
    "slideshow": {
     "slide_type": "slide"
    }
   },
   "outputs": [],
   "source": [
    "param_values = saltelli.sample(problem, 100)"
   ]
  },
  {
   "cell_type": "code",
   "execution_count": 574,
   "metadata": {
    "slideshow": {
     "slide_type": "fragment"
    }
   },
   "outputs": [
    {
     "data": {
      "text/plain": [
       "<matplotlib.collections.PathCollection at 0x7feb8047e588>"
      ]
     },
     "execution_count": 574,
     "metadata": {},
     "output_type": "execute_result"
    },
    {
     "data": {
      "image/png": "[encoded data removed]",
      "text/plain": [
       "<Figure size 432x288 with 1 Axes>"
      ]
     },
     "metadata": {
      "needs_background": "light"
     },
     "output_type": "display_data"
    }
   ],
   "source": [
    "plt.scatter(*param_values.T)"
   ]
  },
  {
   "cell_type": "markdown",
   "metadata": {
    "slideshow": {
     "slide_type": "slide"
    }
   },
   "source": [
    "## MonteCarlo simulations\n",
    "\n",
    "evolve the state of a system given a probability of transition from each state\n",
    "\n",
    "The master equation example: I have a system where I want to keep track of the number of molecules in an environment.\n",
    "\n",
    "the number of molecules can change due to two different processes:\n",
    "* a particle from the outside can come in with a probability that is constant (or can be approximated as such)\n",
    "* a particle can escape the system, with a probability that is constant for each particle (so the total probability is proportional to the number of particles)"
   ]
  },
  {
   "cell_type": "code",
   "execution_count": 640,
   "metadata": {
    "slideshow": {
     "slide_type": "slide"
    }
   },
   "outputs": [],
   "source": [
    "def removal(state):\n",
    "    return state*0.1\n",
    "\n",
    "def increase(state):\n",
    "    return 1\n",
    "\n",
    "transitions = [removal, increase]\n",
    "transitions_names = ['removal', 'increase']"
   ]
  },
  {
   "cell_type": "code",
   "execution_count": 641,
   "metadata": {
    "slideshow": {
     "slide_type": "fragment"
    }
   },
   "outputs": [],
   "source": [
    "state = 5"
   ]
  },
  {
   "cell_type": "code",
   "execution_count": 642,
   "metadata": {
    "slideshow": {
     "slide_type": "fragment"
    }
   },
   "outputs": [
    {
     "data": {
      "text/plain": [
       "[0.5, 1]"
      ]
     },
     "execution_count": 642,
     "metadata": {},
     "output_type": "execute_result"
    }
   ],
   "source": [
    "rates = [f(state) for f in transitions]\n",
    "rates"
   ]
  },
  {
   "cell_type": "markdown",
   "metadata": {
    "slideshow": {
     "slide_type": "slide"
    }
   },
   "source": [
    "### the Stochastic Simulation Algorithm\n",
    "\n",
    "the total rate $\\lambda_{tot}$ is the sum of the rates\n",
    "\n",
    "the chance of each one happening is the proportion compared to the total rate\n",
    "\n",
    "the time for which the system keeps being in the same state is distributed with an exponential time $\\tau = \\lambda_{tot}^{-1}$"
   ]
  },
  {
   "cell_type": "code",
   "execution_count": 643,
   "metadata": {
    "slideshow": {
     "slide_type": "slide"
    }
   },
   "outputs": [
    {
     "data": {
      "text/plain": [
       "1.5"
      ]
     },
     "execution_count": 643,
     "metadata": {},
     "output_type": "execute_result"
    }
   ],
   "source": [
    "total_rate = sum(rates)\n",
    "total_rate"
   ]
  },
  {
   "cell_type": "code",
   "execution_count": 644,
   "metadata": {
    "slideshow": {
     "slide_type": "fragment"
    }
   },
   "outputs": [
    {
     "data": {
      "text/plain": [
       "0.21233439649538016"
      ]
     },
     "execution_count": 644,
     "metadata": {},
     "output_type": "execute_result"
    }
   ],
   "source": [
    "time = np.random.exponential(1/total_rate)\n",
    "time"
   ]
  },
  {
   "cell_type": "markdown",
   "metadata": {
    "slideshow": {
     "slide_type": "slide"
    }
   },
   "source": [
    "### choosing the transition\n",
    "\n",
    "we can use the same sampling method as before!"
   ]
  },
  {
   "cell_type": "code",
   "execution_count": 645,
   "metadata": {
    "slideshow": {
     "slide_type": "slide"
    }
   },
   "outputs": [
    {
     "data": {
      "text/plain": [
       "array([0.33333333, 1.        ])"
      ]
     },
     "execution_count": 645,
     "metadata": {},
     "output_type": "execute_result"
    }
   ],
   "source": [
    "normalized_rates = np.cumsum(rates)\n",
    "normalized_rates /= normalized_rates[-1]\n",
    "normalized_rates"
   ]
  },
  {
   "cell_type": "code",
   "execution_count": 646,
   "metadata": {
    "slideshow": {
     "slide_type": "slide"
    }
   },
   "outputs": [
    {
     "data": {
      "text/plain": [
       "1"
      ]
     },
     "execution_count": 646,
     "metadata": {},
     "output_type": "execute_result"
    }
   ],
   "source": [
    "p = plt.rand()\n",
    "idx = np.searchsorted(normalized_rates, p)\n",
    "idx"
   ]
  },
  {
   "cell_type": "code",
   "execution_count": 647,
   "metadata": {
    "slideshow": {
     "slide_type": "fragment"
    }
   },
   "outputs": [
    {
     "data": {
      "text/plain": [
       "'increase'"
      ]
     },
     "execution_count": 647,
     "metadata": {},
     "output_type": "execute_result"
    }
   ],
   "source": [
    "event = transitions_names[idx]\n",
    "event"
   ]
  },
  {
   "cell_type": "markdown",
   "metadata": {
    "slideshow": {
     "slide_type": "slide"
    }
   },
   "source": [
    "With python 3.6 onward, we can actually replace this with a simple call to choices, that handles weighted extractions"
   ]
  },
  {
   "cell_type": "code",
   "execution_count": 648,
   "metadata": {
    "slideshow": {
     "slide_type": "fragment"
    }
   },
   "outputs": [
    {
     "data": {
      "text/plain": [
       "['removal']"
      ]
     },
     "execution_count": 648,
     "metadata": {},
     "output_type": "execute_result"
    }
   ],
   "source": [
    "rn.choices(transitions_names, weights=rates)"
   ]
  },
  {
   "cell_type": "markdown",
   "metadata": {
    "slideshow": {
     "slide_type": "slide"
    }
   },
   "source": [
    "## exercise 1\n",
    "\n",
    "put all together: implement a cycle that implements this master equation, and check that the resulting distribution should converge to a poisson distribution with mean 10\n",
    "\n",
    "remember that the weight of each state should be the proportion of time that the system spent into that state compared with the normal time.\n",
    "\n",
    "it is **NOT** the just the number of times that the state has been visited"
   ]
  },
  {
   "cell_type": "markdown",
   "metadata": {
    "slideshow": {
     "slide_type": "slide"
    }
   },
   "source": [
    "## sensitivity analysis of ODE with random numbers"
   ]
  },
  {
   "cell_type": "code",
   "execution_count": null,
   "metadata": {
    "slideshow": {
     "slide_type": "slide"
    }
   },
   "outputs": [],
   "source": [
    "from scipy.integrate import odeint\n",
    "\n",
    "def exponential_deriv(state, time, alpha):\n",
    "    return -alpha*state\n",
    "\n",
    "time = np.linspace(0, 5, 21)\n",
    "y0 = 1\n",
    "α = 0.3"
   ]
  },
  {
   "cell_type": "code",
   "execution_count": null,
   "metadata": {
    "slideshow": {
     "slide_type": "slide"
    }
   },
   "outputs": [],
   "source": [
    "res = odeint(exponential_deriv, y0=y0, t=time, args=(α, ))"
   ]
  },
  {
   "cell_type": "code",
   "execution_count": 604,
   "metadata": {
    "slideshow": {
     "slide_type": "slide"
    }
   },
   "outputs": [
    {
     "data": {
      "text/html": [
       "<div>\n",
       "<style scoped>\n",
       "    .dataframe tbody tr th:only-of-type {\n",
       "        vertical-align: middle;\n",
       "    }\n",
       "\n",
       "    .dataframe tbody tr th {\n",
       "        vertical-align: top;\n",
       "    }\n",
       "\n",
       "    .dataframe thead th {\n",
       "        text-align: right;\n",
       "    }\n",
       "</style>\n",
       "<table border=\"1\" class=\"dataframe\">\n",
       "  <thead>\n",
       "    <tr style=\"text-align: right;\">\n",
       "      <th></th>\n",
       "      <th>y</th>\n",
       "      <th>time</th>\n",
       "      <th>α</th>\n",
       "    </tr>\n",
       "  </thead>\n",
       "  <tbody>\n",
       "    <tr>\n",
       "      <th>0</th>\n",
       "      <td>1.000000</td>\n",
       "      <td>0.00</td>\n",
       "      <td>0.3</td>\n",
       "    </tr>\n",
       "    <tr>\n",
       "      <th>1</th>\n",
       "      <td>0.927744</td>\n",
       "      <td>0.25</td>\n",
       "      <td>0.3</td>\n",
       "    </tr>\n",
       "    <tr>\n",
       "      <th>2</th>\n",
       "      <td>0.860708</td>\n",
       "      <td>0.50</td>\n",
       "      <td>0.3</td>\n",
       "    </tr>\n",
       "    <tr>\n",
       "      <th>3</th>\n",
       "      <td>0.798516</td>\n",
       "      <td>0.75</td>\n",
       "      <td>0.3</td>\n",
       "    </tr>\n",
       "    <tr>\n",
       "      <th>4</th>\n",
       "      <td>0.740818</td>\n",
       "      <td>1.00</td>\n",
       "      <td>0.3</td>\n",
       "    </tr>\n",
       "  </tbody>\n",
       "</table>\n",
       "</div>"
      ],
      "text/plain": [
       "          y  time    α\n",
       "0  1.000000  0.00  0.3\n",
       "1  0.927744  0.25  0.3\n",
       "2  0.860708  0.50  0.3\n",
       "3  0.798516  0.75  0.3\n",
       "4  0.740818  1.00  0.3"
      ]
     },
     "execution_count": 604,
     "metadata": {},
     "output_type": "execute_result"
    }
   ],
   "source": [
    "res = pd.DataFrame(res, columns=['y'])\n",
    "res['time'] = time\n",
    "res['α'] = α\n",
    "\n",
    "res.head()"
   ]
  },
  {
   "cell_type": "code",
   "execution_count": 605,
   "metadata": {
    "slideshow": {
     "slide_type": "slide"
    }
   },
   "outputs": [
    {
     "data": {
      "text/plain": [
       "<matplotlib.collections.PathCollection at 0x7feb7f94c048>"
      ]
     },
     "execution_count": 605,
     "metadata": {},
     "output_type": "execute_result"
    },
    {
     "data": {
      "image/png": "[encoded data removed]",
      "text/plain": [
       "<Figure size 432x288 with 1 Axes>"
      ]
     },
     "metadata": {
      "needs_background": "light"
     },
     "output_type": "display_data"
    }
   ],
   "source": [
    "plt.scatter(x='time', y='y', data=res)"
   ]
  },
  {
   "cell_type": "code",
   "execution_count": 612,
   "metadata": {
    "slideshow": {
     "slide_type": "slide"
    }
   },
   "outputs": [],
   "source": [
    "def exponential_deriv(state, time, alpha):\n",
    "    return -alpha*state\n",
    "\n",
    "time = np.linspace(0, 5, 2**4+1)\n",
    "results = []\n",
    "alphas = np.exp(np.random.randn(100)*0.1)\n",
    "\n",
    "for idx, α in enumerate(alphas):\n",
    "    res = odeint(exponential_deriv, y0=1, t=time, args=(α, ))\n",
    "    res = pd.DataFrame(res, columns=['y'])\n",
    "    res['time'] = time\n",
    "    res['α'] = α\n",
    "    res['simulation_run'] = idx\n",
    "    results.append(res)\n",
    "results = pd.concat(results)"
   ]
  },
  {
   "cell_type": "code",
   "execution_count": 613,
   "metadata": {
    "slideshow": {
     "slide_type": "slide"
    }
   },
   "outputs": [
    {
     "data": {
      "text/html": [
       "<div>\n",
       "<style scoped>\n",
       "    .dataframe tbody tr th:only-of-type {\n",
       "        vertical-align: middle;\n",
       "    }\n",
       "\n",
       "    .dataframe tbody tr th {\n",
       "        vertical-align: top;\n",
       "    }\n",
       "\n",
       "    .dataframe thead th {\n",
       "        text-align: right;\n",
       "    }\n",
       "</style>\n",
       "<table border=\"1\" class=\"dataframe\">\n",
       "  <thead>\n",
       "    <tr style=\"text-align: right;\">\n",
       "      <th></th>\n",
       "      <th>y</th>\n",
       "      <th>time</th>\n",
       "      <th>α</th>\n",
       "      <th>simulation_run</th>\n",
       "    </tr>\n",
       "  </thead>\n",
       "  <tbody>\n",
       "    <tr>\n",
       "      <th>0</th>\n",
       "      <td>1.000000</td>\n",
       "      <td>0.0000</td>\n",
       "      <td>0.877383</td>\n",
       "      <td>0</td>\n",
       "    </tr>\n",
       "    <tr>\n",
       "      <th>1</th>\n",
       "      <td>0.760194</td>\n",
       "      <td>0.3125</td>\n",
       "      <td>0.877383</td>\n",
       "      <td>0</td>\n",
       "    </tr>\n",
       "    <tr>\n",
       "      <th>2</th>\n",
       "      <td>0.577894</td>\n",
       "      <td>0.6250</td>\n",
       "      <td>0.877383</td>\n",
       "      <td>0</td>\n",
       "    </tr>\n",
       "    <tr>\n",
       "      <th>3</th>\n",
       "      <td>0.439312</td>\n",
       "      <td>0.9375</td>\n",
       "      <td>0.877383</td>\n",
       "      <td>0</td>\n",
       "    </tr>\n",
       "    <tr>\n",
       "      <th>4</th>\n",
       "      <td>0.333962</td>\n",
       "      <td>1.2500</td>\n",
       "      <td>0.877383</td>\n",
       "      <td>0</td>\n",
       "    </tr>\n",
       "  </tbody>\n",
       "</table>\n",
       "</div>"
      ],
      "text/plain": [
       "          y    time         α  simulation_run\n",
       "0  1.000000  0.0000  0.877383               0\n",
       "1  0.760194  0.3125  0.877383               0\n",
       "2  0.577894  0.6250  0.877383               0\n",
       "3  0.439312  0.9375  0.877383               0\n",
       "4  0.333962  1.2500  0.877383               0"
      ]
     },
     "execution_count": 613,
     "metadata": {},
     "output_type": "execute_result"
    }
   ],
   "source": [
    "results.head()"
   ]
  },
  {
   "cell_type": "code",
   "execution_count": 614,
   "metadata": {
    "slideshow": {
     "slide_type": "slide"
    }
   },
   "outputs": [
    {
     "data": {
      "image/png": "[encoded data removed]",
      "text/plain": [
       "<Figure size 432x288 with 1 Axes>"
      ]
     },
     "metadata": {
      "needs_background": "light"
     },
     "output_type": "display_data"
    }
   ],
   "source": [
    "sns.distplot(alphas);"
   ]
  },
  {
   "cell_type": "code",
   "execution_count": 615,
   "metadata": {
    "slideshow": {
     "slide_type": "slide"
    }
   },
   "outputs": [
    {
     "data": {
      "text/plain": [
       "<matplotlib.axes._subplots.AxesSubplot at 0x7feb7f784e48>"
      ]
     },
     "execution_count": 615,
     "metadata": {},
     "output_type": "execute_result"
    },
    {
     "data": {
      "image/png": "[encoded data removed]",
      "text/plain": [
       "<Figure size 432x288 with 1 Axes>"
      ]
     },
     "metadata": {
      "needs_background": "light"
     },
     "output_type": "display_data"
    }
   ],
   "source": [
    "sns.lineplot(\"time\", 'y', data=results, estimator=None, units='simulation_run', hue='α')"
   ]
  },
  {
   "cell_type": "code",
   "execution_count": 616,
   "metadata": {
    "slideshow": {
     "slide_type": "slide"
    }
   },
   "outputs": [
    {
     "data": {
      "text/plain": [
       "<matplotlib.axes._subplots.AxesSubplot at 0x7feb7f5fafd0>"
      ]
     },
     "execution_count": 616,
     "metadata": {},
     "output_type": "execute_result"
    },
    {
     "data": {
      "image/png": "[encoded data removed]",
      "text/plain": [
       "<Figure size 432x288 with 1 Axes>"
      ]
     },
     "metadata": {
      "needs_background": "light"
     },
     "output_type": "display_data"
    }
   ],
   "source": [
    "sns.lineplot(\"time\", 'y', data=results.query(\"time>0.5 and time<2\"),\n",
    "             estimator=None, units='simulation_run', hue='α')"
   ]
  },
  {
   "cell_type": "code",
   "execution_count": 582,
   "metadata": {
    "slideshow": {
     "slide_type": "slide"
    }
   },
   "outputs": [],
   "source": [
    "def exponential_deriv(state, time, alpha):\n",
    "    return -alpha*state\n",
    "\n",
    "time = np.linspace(0, 5, 2**4+1)\n",
    "results = []\n",
    "\n",
    "vdn_sample = avdn(100)\n",
    "gaussian_samples = st.norm.isf(vdn_sample)\n",
    "alphas = np.exp(gaussian_samples*0.1)\n",
    "    \n",
    "for idx, α in enumerate(alphas):\n",
    "    res = odeint(exponential_deriv, y0=1, t=time, args=(α, ))\n",
    "    res = pd.DataFrame(res, columns=['y'])\n",
    "    res['time'] = time\n",
    "    res['α'] = α\n",
    "    res['simulation_run'] = idx\n",
    "    results.append(res)\n",
    "results = pd.concat(results)"
   ]
  },
  {
   "cell_type": "code",
   "execution_count": 583,
   "metadata": {
    "slideshow": {
     "slide_type": "slide"
    }
   },
   "outputs": [
    {
     "data": {
      "text/plain": [
       "<matplotlib.axes._subplots.AxesSubplot at 0x7feb801d9cc0>"
      ]
     },
     "execution_count": 583,
     "metadata": {},
     "output_type": "execute_result"
    },
    {
     "data": {
      "image/png": "[encoded data removed]",
      "text/plain": [
       "<Figure size 432x288 with 1 Axes>"
      ]
     },
     "metadata": {
      "needs_background": "light"
     },
     "output_type": "display_data"
    }
   ],
   "source": [
    "sns.distplot(alphas)"
   ]
  },
  {
   "cell_type": "code",
   "execution_count": 584,
   "metadata": {
    "slideshow": {
     "slide_type": "slide"
    }
   },
   "outputs": [
    {
     "data": {
      "text/plain": [
       "<matplotlib.axes._subplots.AxesSubplot at 0x7feb801fbf98>"
      ]
     },
     "execution_count": 584,
     "metadata": {},
     "output_type": "execute_result"
    },
    {
     "data": {
      "image/png": "[encoded data removed]",
      "text/plain": [
       "<Figure size 432x288 with 1 Axes>"
      ]
     },
     "metadata": {
      "needs_background": "light"
     },
     "output_type": "display_data"
    }
   ],
   "source": [
    "sns.lineplot(\"time\", 'y', data=results, estimator=None, units='simulation_run', hue='α')"
   ]
  },
  {
   "cell_type": "code",
   "execution_count": 585,
   "metadata": {
    "slideshow": {
     "slide_type": "slide"
    }
   },
   "outputs": [
    {
     "data": {
      "text/plain": [
       "<matplotlib.axes._subplots.AxesSubplot at 0x7feb802c7d68>"
      ]
     },
     "execution_count": 585,
     "metadata": {},
     "output_type": "execute_result"
    },
    {
     "data": {
      "image/png": "[encoded data removed]",
      "text/plain": [
       "<Figure size 432x288 with 1 Axes>"
      ]
     },
     "metadata": {
      "needs_background": "light"
     },
     "output_type": "display_data"
    }
   ],
   "source": [
    "sns.lineplot(\"time\", 'y', data=results.query(\"time>0.5 and time<2\"),\n",
    "             estimator=None, units='simulation_run', hue='α')"
   ]
  }
 ],
 "metadata": {
  "celltoolbar": "Slideshow",
  "kernelspec": {
   "display_name": "Python 3",
   "language": "python",
   "name": "python3"
  },
  "language_info": {
   "codemirror_mode": {
    "name": "ipython",
    "version": 3
   },
   "file_extension": ".py",
   "mimetype": "text/x-python",
   "name": "python",
   "nbconvert_exporter": "python",
   "pygments_lexer": "ipython3",
   "version": "3.6.7"
  }
 },
 "nbformat": 4,
 "nbformat_minor": 2
}
