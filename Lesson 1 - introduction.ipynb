{
 "cells": [
  {
   "cell_type": "markdown",
   "metadata": {
    "slideshow": {
     "slide_type": "slide"
    }
   },
   "source": [
    "# Introduction to \n",
    "\n",
    "# \"SOFTWARE AND COMPUTING FOR PHYSICS\"\n",
    "\n",
    "### Enrico Giampieri, PhD\n",
    "### enrico.giampieri@unibo.it\n",
    "### https://github.com/UniboDIFABiophysics/programmingCourseDIFA"
   ]
  },
  {
   "cell_type": "markdown",
   "metadata": {
    "slideshow": {
     "slide_type": "slide"
    }
   },
   "source": [
    "## about the course\n",
    "\n",
    "This course is designed to refresh general concept of programming, leveraging high level, dinamic programming.\n",
    "\n",
    "We will employ Python as a model language, but all these concepts will be applicable in general"
   ]
  },
  {
   "cell_type": "markdown",
   "metadata": {
    "slideshow": {
     "slide_type": "slide"
    }
   },
   "source": [
    "## program\n",
    "\n",
    "### module 1\n",
    "\n",
    "1. introduction to the command line and python\n",
    "1. version control\n",
    "1. testing\n",
    "1. documentation and collaborative working\n",
    "1. object oriented programming\n",
    "1. functional programming\n",
    "1. numerical calculus and vectorization\n",
    "1. scientific libraries and symbolic algebra\n",
    "1. visualization\n",
    "1. databases and dataframes\n",
    "1. data pipeline and data formats\n",
    "1. introduction to machine learning\n",
    "\n",
    "## module 2 will differ for applied physics and nuclear physics"
   ]
  },
  {
   "cell_type": "markdown",
   "metadata": {
    "slideshow": {
     "slide_type": "slide"
    }
   },
   "source": [
    "## The exam\n",
    "\n",
    "* You will be evaluated on a programming project;\n",
    "* this project needs to be hosted on a public repository;\n",
    "* you are free to choose the programming language of the project;\n",
    "* accepted control version systems are git and fossil;\n",
    "* there will be a list of suggested projects, or you can propose your own;\n",
    "* projects in combination for other exams are welcome."
   ]
  },
  {
   "cell_type": "markdown",
   "metadata": {
    "slideshow": {
     "slide_type": "slide"
    }
   },
   "source": [
    "The evaluation method is the following:\n",
    "\n",
    "* clarity of the repository commit history (6 point)\n",
    "* clarity and completeness of the documentation and source code (12 point)\n",
    "* presence and executability of test routines (12 point)"
   ]
  },
  {
   "cell_type": "markdown",
   "metadata": {
    "slideshow": {
     "slide_type": "fragment"
    }
   },
   "source": [
    "Optionally, the evaluation will be improved on the basis of the following topics:\n",
    "\n",
    "* Usage of innovative technologies and libraries (up to 3 points)\n",
    "* Contribution to open source projects (up to 6 points)"
   ]
  },
  {
   "cell_type": "markdown",
   "metadata": {
    "slideshow": {
     "slide_type": "slide"
    }
   },
   "source": [
    "## The rationale\n",
    "\n",
    "You have received some basic programming.\n",
    "\n",
    "Most of you haven't used it since, as it seemed like a very difficult task for little gain.\n",
    "\n",
    "The main goal of this course is to show you that this is not the case, and to give the instruments to learn yourself how to be proficient with programming."
   ]
  },
  {
   "cell_type": "markdown",
   "metadata": {
    "slideshow": {
     "slide_type": "slide"
    }
   },
   "source": [
    "## introduction to the UNIX shell\n",
    "\n",
    "the most commonly used shell is called **bash**, and we will refer to that one as the standard implementation.\n",
    "\n",
    "A very similar shell is present in OSX, and is possible to install it under window activating the `Windows Subsystem for Linux` option in the control panel."
   ]
  },
  {
   "cell_type": "markdown",
   "metadata": {
    "slideshow": {
     "slide_type": "slide"
    }
   },
   "source": [
    "![](./OS_structure.svg)"
   ]
  },
  {
   "cell_type": "markdown",
   "metadata": {
    "slideshow": {
     "slide_type": "slide"
    }
   },
   "source": [
    "### some basic commands\n",
    "\n",
    "#### `ls` --- list content of a directory\n",
    "* `ls` list all the files in the currect directory\n",
    "* `ls <directory_name>` list all the file in the given directory\n",
    "* `ls -l` list the files, including some metadata about them\n",
    "* `ls -l -h` show file sizes in human readable format\n",
    "* `ls -l -h -S` sort them by size (greatest to smallest)\n",
    "* `ls -l -h -S -r` invert the order of sorting\n",
    "* `ls -lhSr` short form of the previous one\n",
    "* `ls -l -t` sort them by the time of last edit (most recent to oldest)\n",
    "* `ls -l -R` show them recursively (this directory and all the subdirectory)"
   ]
  },
  {
   "cell_type": "markdown",
   "metadata": {
    "slideshow": {
     "slide_type": "slide"
    }
   },
   "source": [
    "#### `cd` --- change directory\n",
    "\n",
    "* `cd <directory_name>` goes to that directory\n",
    "* `cd ~` goes back to the home directory\n",
    "* `cd -` goes back to the previous folder\n",
    "* `cd ..` goes the directory above the current one"
   ]
  },
  {
   "cell_type": "markdown",
   "metadata": {
    "slideshow": {
     "slide_type": "slide"
    }
   },
   "source": [
    "#### info\n",
    "\n",
    "* `man <command>` give the complete help on the command\n",
    "* `pwd` print the current working directory\n",
    "* `top`/`htop` display informations about the system\n",
    "* `nano`/`vim` edit text files\n",
    "* `touch <filename>` create and empty file, or refresh the last modify date of an existing one"
   ]
  },
  {
   "cell_type": "markdown",
   "metadata": {},
   "source": [
    "#### other commands\n",
    "\n",
    "* `rm <filename>`\n",
    "* `rm -r <>` recursive elimination\n",
    "* `rm -i <>` ask authorization before all removal\n",
    "* `rm -f <>` remove files without asking permission \n",
    "* `mv <base_file> <new_location>`\n",
    "* `cp <base_file> <new_location>`"
   ]
  },
  {
   "cell_type": "markdown",
   "metadata": {
    "slideshow": {
     "slide_type": "slide"
    }
   },
   "source": [
    "#### other commands\n",
    "\n",
    "* `ls *.txt` list all the text file"
   ]
  },
  {
   "cell_type": "markdown",
   "metadata": {
    "slideshow": {
     "slide_type": "slide"
    }
   },
   "source": [
    "#### ipython special pre-commands\n",
    "\n",
    "* `%<magic function>` use magic functions\n",
    "* `%%<cell magic>` use cell magic mode\n",
    "* `!<function>` call system programs (non interactive)\n",
    "* `/<function>` activate autocalling\n",
    "\n",
    "\n",
    "    /print \"a\"\n",
    "\n",
    "\n",
    "* `,<function>` (comma) activate autocalling and autoquoting (divide by whitespace)\n",
    "* `;<function>` (comma) activate autocalling and autoquoting (ignore whitespaces)\n",
    "\n",
    "\n",
    "    ,my_function a b c    # becomes my_function(\"a\",\"b\",\"c\")\n",
    "    ;my_function a b c    # becomes my_function(\"a b c\")\n",
    "    \n",
    "all of thse should be used as the first letter, the only exception being `!`, that can follow the `=` assignment\n",
    "\n",
    "* `?` general help\n",
    "* `<object>?` help of an object\n",
    "* `pattern?` return all the variables in the namespace that follow the pattern"
   ]
  },
  {
   "cell_type": "code",
   "execution_count": 66,
   "metadata": {},
   "outputs": [
    {
     "name": "stdout",
     "output_type": "stream",
     "text": [
      "Variable   Type        Data/Info\n",
      "--------------------------------\n",
      "a          list        n=2\n",
      "attach     function    <function attach at 0x7f638c121378>\n",
      "b          int         2\n",
      "data       dict        n=2\n",
      "info       SList       ['Filesystem     1K-block<...>584   1% /run/user/1000']\n",
      "l          SList       ['Lesson 1 - introduction<...>ME.md', 'Untitled.ipynb']\n",
      "l1         SList       ['/bin/bash: !ls: command not found']\n",
      "l2         SList       ['Lesson 1 - introduction<...>ME.md', 'Untitled.ipynb']\n",
      "lal        int         1\n",
      "lel        int         3\n",
      "lol        int         2\n"
     ]
    }
   ],
   "source": [
    "%whos"
   ]
  },
  {
   "cell_type": "code",
   "execution_count": 67,
   "metadata": {},
   "outputs": [
    {
     "data": {
      "text/plain": [
       "['b', 'lal', 'lel', 'lol']"
      ]
     },
     "execution_count": 67,
     "metadata": {},
     "output_type": "execute_result"
    }
   ],
   "source": [
    "%who_ls int"
   ]
  },
  {
   "cell_type": "code",
   "execution_count": 78,
   "metadata": {},
   "outputs": [
    {
     "name": "stdout",
     "output_type": "stream",
     "text": [
      "Variable   Type    Data/Info\n",
      "----------------------------\n",
      "a          list    n=2\n"
     ]
    }
   ],
   "source": [
    "%whos list"
   ]
  },
  {
   "cell_type": "code",
   "execution_count": 218,
   "metadata": {},
   "outputs": [],
   "source": [
    "import numpy as np\n",
    "\n",
    "def myfun(n=1000, k=10):\n",
    "    a = 1\n",
    "    a = np.random.randn(1, n)\n",
    "    for i in range(k):\n",
    "        a = np.random.randn(n, n)\n",
    "    a = np.random.randn(n, 1)\n",
    "    a = np.random.randn(n).reshape(n, 1)\n",
    "    return None"
   ]
  },
  {
   "cell_type": "code",
   "execution_count": 219,
   "metadata": {},
   "outputs": [
    {
     "name": "stdout",
     "output_type": "stream",
     "text": [
      " \n",
      "*** Profile printout saved to text file 'out.txt'. \n"
     ]
    }
   ],
   "source": [
    "%prun -T out.txt myfun()"
   ]
  },
  {
   "cell_type": "code",
   "execution_count": 220,
   "metadata": {},
   "outputs": [
    {
     "name": "stdout",
     "output_type": "stream",
     "text": [
      "         18 function calls in 0.382 seconds\r\n",
      "\r\n",
      "   Ordered by: internal time\r\n",
      "\r\n",
      "   ncalls  tottime  percall  cumtime  percall filename:lineno(function)\r\n",
      "       13    0.381    0.029    0.381    0.029 {method 'randn' of 'mtrand.RandomState' objects}\r\n",
      "        1    0.001    0.001    0.382    0.382 <ipython-input-218-7ec54cd088a8>:3(myfun)\r\n",
      "        1    0.000    0.000    0.382    0.382 {built-in method builtins.exec}\r\n",
      "        1    0.000    0.000    0.000    0.000 {method 'reshape' of 'numpy.ndarray' objects}\r\n",
      "        1    0.000    0.000    0.382    0.382 <string>:1(<module>)\r\n",
      "        1    0.000    0.000    0.000    0.000 {method 'disable' of '_lsprof.Profiler' objects}"
     ]
    }
   ],
   "source": [
    "!cat out.txt"
   ]
  },
  {
   "cell_type": "code",
   "execution_count": 221,
   "metadata": {},
   "outputs": [
    {
     "name": "stdout",
     "output_type": "stream",
     "text": [
      "peak memory: 176.84 MiB, increment: 30.29 MiB\n"
     ]
    }
   ],
   "source": [
    "%memit myfun()"
   ]
  },
  {
   "cell_type": "code",
   "execution_count": 222,
   "metadata": {},
   "outputs": [
    {
     "name": "stdout",
     "output_type": "stream",
     "text": [
      "371 ms ± 2.65 ms per loop (mean ± std. dev. of 7 runs, 1 loop each)\n"
     ]
    }
   ],
   "source": [
    "%timeit myfun()"
   ]
  },
  {
   "cell_type": "code",
   "execution_count": 223,
   "metadata": {},
   "outputs": [
    {
     "name": "stdout",
     "output_type": "stream",
     "text": [
      "\n",
      "*** Profile printout saved to text file 'out.txt'. \n"
     ]
    }
   ],
   "source": [
    "#%load_ext line_profiler\n",
    "%lprun -T out.txt -f myfun myfun()"
   ]
  },
  {
   "cell_type": "code",
   "execution_count": 224,
   "metadata": {},
   "outputs": [
    {
     "name": "stdout",
     "output_type": "stream",
     "text": [
      "Timer unit: 1e-06 s\r\n",
      "\r\n",
      "Total time: 0.373999 s\r\n",
      "File: <ipython-input-218-7ec54cd088a8>\r\n",
      "Function: myfun at line 3\r\n",
      "\r\n",
      "Line #      Hits         Time  Per Hit   % Time  Line Contents\r\n",
      "==============================================================\r\n",
      "     3                                           def myfun(n=1000, k=10):\r\n",
      "     4         1          1.0      1.0      0.0      a = 1\r\n",
      "     5         1         83.0     83.0      0.0      a = np.random.randn(1, n)\r\n",
      "     6        11         24.0      2.2      0.0      for i in range(k):\r\n",
      "     7        10     372958.0  37295.8     99.7          a = np.random.randn(n, n)\r\n",
      "     8         1        885.0    885.0      0.2      a = np.random.randn(n, 1)\r\n",
      "     9         1         47.0     47.0      0.0      a = np.random.randn(n).reshape(n, 1)\r\n",
      "    10         1          1.0      1.0      0.0      return None"
     ]
    }
   ],
   "source": [
    "!cat out.txt"
   ]
  },
  {
   "cell_type": "code",
   "execution_count": null,
   "metadata": {},
   "outputs": [],
   "source": []
  },
  {
   "cell_type": "code",
   "execution_count": null,
   "metadata": {},
   "outputs": [],
   "source": []
  },
  {
   "cell_type": "code",
   "execution_count": 10,
   "metadata": {},
   "outputs": [
    {
     "data": {
      "text/plain": [
       "['Name: ZMQbg/1', 'Umask: 0002', 'State: S', 'Tgid: 22797', 'Ngid: 0']"
      ]
     },
     "execution_count": 10,
     "metadata": {},
     "output_type": "execute_result"
    }
   ],
   "source": [
    "import os\n",
    "ret = !cat /proc/{os.getpid()}/status\n",
    "ret.fields(0, 1)[:5]"
   ]
  },
  {
   "cell_type": "code",
   "execution_count": 10,
   "metadata": {},
   "outputs": [
    {
     "name": "stdout",
     "output_type": "stream",
     "text": [
      "b'ciao'\n",
      "b'ciao'\n",
      "b'ciao'\n",
      "----------\n",
      "b'cia\\xe8'\n",
      "b'cia\\xc3\\xa8'\n",
      "----------\n",
      "b'123'\n",
      "b'123'\n"
     ]
    }
   ],
   "source": [
    "s = \"ciao\"\n",
    "print(bytes(s, encoding='ascii'))\n",
    "print(bytes(s, encoding='utf8'))\n",
    "print(bytes(s, encoding='latin1'))\n",
    "\n",
    "print('-'*10)\n",
    "s = \"ciaè\"\n",
    "print(bytes(s, encoding='latin1'))\n",
    "print(bytes(s, encoding='utf8'))"
   ]
  },
  {
   "cell_type": "code",
   "execution_count": 17,
   "metadata": {},
   "outputs": [
    {
     "data": {
      "text/plain": [
       "232"
      ]
     },
     "execution_count": 17,
     "metadata": {},
     "output_type": "execute_result"
    }
   ],
   "source": [
    "ord('\\xe8')"
   ]
  },
  {
   "cell_type": "code",
   "execution_count": 18,
   "metadata": {},
   "outputs": [
    {
     "data": {
      "text/plain": [
       "'è'"
      ]
     },
     "execution_count": 18,
     "metadata": {},
     "output_type": "execute_result"
    }
   ],
   "source": [
    "chr(232)"
   ]
  },
  {
   "cell_type": "code",
   "execution_count": 28,
   "metadata": {},
   "outputs": [
    {
     "name": "stdout",
     "output_type": "stream",
     "text": [
      "default language: 'it_IT'\n",
      "default encoding: 'UTF-8'\n",
      "default language: 'it_IT'\n",
      "default encoding: 'UTF-8'\n"
     ]
    }
   ],
   "source": [
    "import locale\n",
    "language, encoding = locale.getdefaultlocale()\n",
    "print(f\"default language: '{language}'\")\n",
    "print(f\"default encoding: '{encoding}'\")\n",
    "language, encoding = locale.getlocale()\n",
    "print(f\"default language: '{language}'\")\n",
    "print(f\"default encoding: '{encoding}'\")"
   ]
  },
  {
   "cell_type": "code",
   "execution_count": 34,
   "metadata": {},
   "outputs": [
    {
     "data": {
      "text/plain": [
       "'ciao·mondo·!'"
      ]
     },
     "execution_count": 34,
     "metadata": {},
     "output_type": "execute_result"
    }
   ],
   "source": [
    "import re\n",
    "regex = re.compile('[ ]+')\n",
    "re.sub(pattern=regex, string=\"ciao     mondo    !\", repl='·') "
   ]
  },
  {
   "cell_type": "code",
   "execution_count": null,
   "metadata": {},
   "outputs": [],
   "source": []
  }
 ],
 "metadata": {
  "celltoolbar": "Slideshow",
  "kernelspec": {
   "display_name": "Python 3 (Spyder)",
   "language": "python3",
   "name": "python3"
  },
  "language_info": {
   "codemirror_mode": {
    "name": "ipython",
    "version": 3
   },
   "file_extension": ".py",
   "mimetype": "text/x-python",
   "name": "python",
   "nbconvert_exporter": "python",
   "pygments_lexer": "ipython3",
   "version": "3.6.6"
  }
 },
 "nbformat": 4,
 "nbformat_minor": 2
}
