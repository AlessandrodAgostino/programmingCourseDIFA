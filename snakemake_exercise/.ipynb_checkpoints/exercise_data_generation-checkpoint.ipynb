{
 "cells": [
  {
   "cell_type": "code",
   "execution_count": 1,
   "metadata": {},
   "outputs": [],
   "source": [
    "import glob\n",
    "import hashlib\n",
    "import random"
   ]
  },
  {
   "cell_type": "code",
   "execution_count": 2,
   "metadata": {},
   "outputs": [
    {
     "data": {
      "text/plain": [
       "['Gianni', 'Francesca', 'Giulia', 'Maria', 'Marco']"
      ]
     },
     "execution_count": 2,
     "metadata": {},
     "output_type": "execute_result"
    }
   ],
   "source": [
    "persone = ['Antonio', 'Maria', 'Marco', 'Angela', 'Giulia', 'Gianni', 'Fabio', 'Francesca']\n",
    "random.choices(persone, k=5)"
   ]
  },
  {
   "cell_type": "code",
   "execution_count": 3,
   "metadata": {},
   "outputs": [],
   "source": [
    "n_transazioni = random.randint(2, 10)\n",
    "choose_persone = random.choices(persone, k=n_transazioni)\n",
    "choose_valore = [random.randint(2, 10) for i in range(n_transazioni)]"
   ]
  },
  {
   "cell_type": "code",
   "execution_count": 4,
   "metadata": {},
   "outputs": [
    {
     "name": "stdout",
     "output_type": "stream",
     "text": [
      "Angela\t9\n",
      "Giulia\t9\n",
      "Giulia\t5\n"
     ]
    }
   ],
   "source": [
    "for (persona, valore) in zip(choose_persone, choose_valore):\n",
    "    print(\"{}\\t{}\".format(persona, valore))"
   ]
  },
  {
   "cell_type": "code",
   "execution_count": 5,
   "metadata": {},
   "outputs": [],
   "source": [
    "with open(\"transazioni_1.tsv\", 'w') as outfile:\n",
    "    for (persona, valore) in zip(choose_persone, choose_valore):\n",
    "        print(\"{}\\t{}\".format(persona, valore), file=outfile)"
   ]
  },
  {
   "cell_type": "code",
   "execution_count": 6,
   "metadata": {},
   "outputs": [
    {
     "name": "stdout",
     "output_type": "stream",
     "text": [
      "exercise_data_generation.ipynb  transazioni_1.tsv\r\n"
     ]
    }
   ],
   "source": [
    "%ls"
   ]
  },
  {
   "cell_type": "code",
   "execution_count": 7,
   "metadata": {},
   "outputs": [
    {
     "name": "stdout",
     "output_type": "stream",
     "text": [
      "5c90a9e243738e0de0cd4f40daccb732  transazioni_1.tsv\r\n"
     ]
    }
   ],
   "source": [
    "!md5sum transazioni_1.tsv"
   ]
  },
  {
   "cell_type": "code",
   "execution_count": 8,
   "metadata": {},
   "outputs": [
    {
     "data": {
      "text/plain": [
       "'5c90a9e243738e0de0cd4f40daccb732'"
      ]
     },
     "execution_count": 8,
     "metadata": {},
     "output_type": "execute_result"
    }
   ],
   "source": [
    "def md5(fname):\n",
    "    hash_md5 = hashlib.md5()\n",
    "    with open(fname, \"rb\") as f:\n",
    "        for chunk in iter(lambda: f.read(4096), b\"\"):\n",
    "            hash_md5.update(chunk)\n",
    "    return hash_md5.hexdigest()\n",
    "\n",
    "md5(\"transazioni_1.tsv\")"
   ]
  },
  {
   "cell_type": "code",
   "execution_count": 9,
   "metadata": {},
   "outputs": [],
   "source": [
    "with open(\"md5sums.tsv\", 'w') as md5file:\n",
    "    for i in range(50):\n",
    "        filename = \"transazioni_{:02d}.tsv\".format(i)\n",
    "        with open(filename, 'w') as outfile:\n",
    "            n_transazioni = random.randint(2, 10)\n",
    "            choose_persone = random.choices(persone, k=n_transazioni)\n",
    "            choose_valore = [random.randint(2, 10) for i in range(n_transazioni)]\n",
    "            for (persona, valore) in zip(choose_persone, choose_valore):\n",
    "                print(\"{}\\t{}\".format(persona, valore), file=outfile)\n",
    "        print(\"{}\\t{}\".format(filename, md5(filename)), file=md5file)"
   ]
  },
  {
   "cell_type": "code",
   "execution_count": 10,
   "metadata": {},
   "outputs": [],
   "source": [
    "# controllo che gli hash dei file corrispondano\n",
    "# se calcolari dal terminale o con la mia funzione\n",
    "for f in glob.glob(\"transazioni_*.tsv\"):\n",
    "    a = !md5sum $f\n",
    "    a = a[0].split()[0]\n",
    "    b = md5(f)\n",
    "    assert a==b"
   ]
  },
  {
   "cell_type": "code",
   "execution_count": 12,
   "metadata": {},
   "outputs": [],
   "source": [
    "# controllo che il contenuto del file md5sums sia coerente con il risultato della funzione\n",
    "import pandas as pd\n",
    "risultati = pd.read_csv(\"md5sums.tsv\", sep='\\t', index_col=0, squeeze=True, header=None)\n",
    "for f, v in risultati.items():\n",
    "    assert v==md5(f)"
   ]
  },
  {
   "cell_type": "code",
   "execution_count": null,
   "metadata": {
    "collapsed": true
   },
   "outputs": [],
   "source": []
  }
 ],
 "metadata": {
  "kernelspec": {
   "display_name": "Python 3",
   "language": "python",
   "name": "python3"
  },
  "language_info": {
   "codemirror_mode": {
    "name": "ipython",
    "version": 3
   },
   "file_extension": ".py",
   "mimetype": "text/x-python",
   "name": "python",
   "nbconvert_exporter": "python",
   "pygments_lexer": "ipython3",
   "version": "3.6.7"
  }
 },
 "nbformat": 4,
 "nbformat_minor": 2
}
